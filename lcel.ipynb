{
 "cells": [
  {
   "cell_type": "markdown",
   "id": "86f1436d",
   "metadata": {},
   "source": [
    "# lcel 대화내용 기억하기 임의의 체인에 메모리를 추가하는 방식입니다. 메모리 클래스를 쓸 수 있지만 수동으로 연결해야합니다"
   ]
  },
  {
   "cell_type": "code",
   "execution_count": 1,
   "id": "6109044b",
   "metadata": {},
   "outputs": [
    {
     "data": {
      "text/plain": [
       "True"
      ]
     },
     "execution_count": 1,
     "metadata": {},
     "output_type": "execute_result"
    }
   ],
   "source": [
    "from dotenv import load_dotenv\n",
    "\n",
    "load_dotenv()"
   ]
  },
  {
   "cell_type": "code",
   "execution_count": 2,
   "id": "bd89393f",
   "metadata": {},
   "outputs": [],
   "source": [
    "from operator import itemgetter\n",
    "from langchain.memory import ConversationBufferMemory\n",
    "from langchain_core.prompts import ChatPromptTemplate, MessagesPlaceholder \n",
    "from langchain_core.runnables import RunnableLambda , RunnablePassthrough\n",
    "from langchain_openai import ChatOpenAI\n",
    "from utils.utils import *\n",
    "model = set_model() \n",
    "\n",
    "\n",
    "prompt = ChatPromptTemplate.from_messages(\n",
    "    [\n",
    "        ('system','you are a helpful chatbot'),\n",
    "        MessagesPlaceholder(variable_name='chat_history'),\n",
    "        ('human','{input}'),\n",
    "    ]\n",
    ")"
   ]
  },
  {
   "cell_type": "markdown",
   "id": "9a6bb469",
   "metadata": {},
   "source": [
    "## messagesplaceholder에는 그냥 공간만 잡아두고, 점점 대화를 하면 할 수록 쌓여갈거임 "
   ]
  },
  {
   "cell_type": "code",
   "execution_count": 3,
   "id": "a1d2d7e4",
   "metadata": {},
   "outputs": [
    {
     "data": {
      "text/plain": [
       "ChatPromptTemplate(input_variables=['chat_history', 'input'], input_types={'chat_history': list[typing.Annotated[typing.Union[typing.Annotated[langchain_core.messages.ai.AIMessage, Tag(tag='ai')], typing.Annotated[langchain_core.messages.human.HumanMessage, Tag(tag='human')], typing.Annotated[langchain_core.messages.chat.ChatMessage, Tag(tag='chat')], typing.Annotated[langchain_core.messages.system.SystemMessage, Tag(tag='system')], typing.Annotated[langchain_core.messages.function.FunctionMessage, Tag(tag='function')], typing.Annotated[langchain_core.messages.tool.ToolMessage, Tag(tag='tool')], typing.Annotated[langchain_core.messages.ai.AIMessageChunk, Tag(tag='AIMessageChunk')], typing.Annotated[langchain_core.messages.human.HumanMessageChunk, Tag(tag='HumanMessageChunk')], typing.Annotated[langchain_core.messages.chat.ChatMessageChunk, Tag(tag='ChatMessageChunk')], typing.Annotated[langchain_core.messages.system.SystemMessageChunk, Tag(tag='SystemMessageChunk')], typing.Annotated[langchain_core.messages.function.FunctionMessageChunk, Tag(tag='FunctionMessageChunk')], typing.Annotated[langchain_core.messages.tool.ToolMessageChunk, Tag(tag='ToolMessageChunk')]], FieldInfo(annotation=NoneType, required=True, discriminator=Discriminator(discriminator=<function _get_type at 0x00000239E145EAC0>, custom_error_type=None, custom_error_message=None, custom_error_context=None))]]}, partial_variables={}, messages=[SystemMessagePromptTemplate(prompt=PromptTemplate(input_variables=[], input_types={}, partial_variables={}, template='you are a helpful chatbot'), additional_kwargs={}), MessagesPlaceholder(variable_name='chat_history'), HumanMessagePromptTemplate(prompt=PromptTemplate(input_variables=['input'], input_types={}, partial_variables={}, template='{input}'), additional_kwargs={})])"
      ]
     },
     "execution_count": 3,
     "metadata": {},
     "output_type": "execute_result"
    }
   ],
   "source": [
    "prompt"
   ]
  },
  {
   "cell_type": "markdown",
   "id": "70d2f44a",
   "metadata": {},
   "source": [
    "## 대화 내용을 저장할 메모리인 conversation buffer meemory 생성하고, return messeges 매개변수를 true로 하면 인스턴스가 메세지를 반환함 "
   ]
  },
  {
   "cell_type": "code",
   "execution_count": 4,
   "id": "c4fafec6",
   "metadata": {},
   "outputs": [
    {
     "name": "stderr",
     "output_type": "stream",
     "text": [
      "C:\\Users\\roaco\\AppData\\Local\\Temp\\ipykernel_18168\\2435132262.py:1: LangChainDeprecationWarning: Please see the migration guide at: https://python.langchain.com/docs/versions/migrating_memory/\n",
      "  memory = ConversationBufferMemory(return_messages = True, memory_key='chat_history')\n"
     ]
    }
   ],
   "source": [
    "memory = ConversationBufferMemory(return_messages = True, memory_key='chat_history')\n"
   ]
  },
  {
   "cell_type": "markdown",
   "id": "67758e63",
   "metadata": {},
   "source": [
    "## 저장된 대화기록을 조회함 "
   ]
  },
  {
   "cell_type": "code",
   "execution_count": 5,
   "id": "0e39c49f",
   "metadata": {},
   "outputs": [
    {
     "data": {
      "text/plain": [
       "{'chat_history': []}"
      ]
     },
     "execution_count": 5,
     "metadata": {},
     "output_type": "execute_result"
    }
   ],
   "source": [
    "memory.load_memory_variables({})"
   ]
  },
  {
   "cell_type": "markdown",
   "id": "8b946cf1",
   "metadata": {},
   "source": [
    "## runnable passthrough.assign을 써서 chat history 변수에 memeoryloadmemory varivables 함수 결과를 할당, 이결 과에서 chat history 키에 해당하는 값을 추출한다"
   ]
  },
  {
   "cell_type": "code",
   "execution_count": 6,
   "id": "9a9797d9",
   "metadata": {},
   "outputs": [],
   "source": [
    "runnabe = RunnablePassthrough.assign(\n",
    "    chat_history = RunnableLambda(memory.load_memory_variables)\n",
    ")\n"
   ]
  },
  {
   "cell_type": "code",
   "execution_count": 7,
   "id": "47239106",
   "metadata": {},
   "outputs": [
    {
     "data": {
      "text/plain": [
       "RunnableAssign(mapper={\n",
       "  chat_history: RunnableLambda(load_memory_variables)\n",
       "})"
      ]
     },
     "execution_count": 7,
     "metadata": {},
     "output_type": "execute_result"
    }
   ],
   "source": [
    "runnabe"
   ]
  },
  {
   "cell_type": "markdown",
   "id": "46b696a7",
   "metadata": {},
   "source": [
    "## input은 질문, chat history는 결국 기록임, 근데 얘가 딕셔너리 형태로 나와서 좀 처리가 곤란함"
   ]
  },
  {
   "cell_type": "code",
   "execution_count": 8,
   "id": "6b411fa3",
   "metadata": {},
   "outputs": [
    {
     "data": {
      "text/plain": [
       "{'input': '반갑꼬리', 'chat_history': {'chat_history': []}}"
      ]
     },
     "execution_count": 8,
     "metadata": {},
     "output_type": "execute_result"
    }
   ],
   "source": [
    "runnabe.invoke({'input':'반갑꼬리'})"
   ]
  },
  {
   "cell_type": "markdown",
   "id": "068cbb34",
   "metadata": {},
   "source": [
    "## runnable lambda자체가 함수를 쓰는 역할, loadmemory variables 를 호출해주는 것 , 즉 결국 대화 기록을 호출한다 이거임 "
   ]
  },
  {
   "cell_type": "code",
   "execution_count": 10,
   "id": "64195a62",
   "metadata": {},
   "outputs": [],
   "source": [
    "runnabe = RunnablePassthrough.assign(\n",
    "    chat_history = RunnableLambda(memory.load_memory_variables) |\n",
    "    itemgetter('chat_history') # 메모리 키와 같아야함!    \n",
    ")\n"
   ]
  },
  {
   "cell_type": "markdown",
   "id": "9bd7a14a",
   "metadata": {},
   "source": [
    "## itemgetter의 역할이 리스트 형태로 끄집어 내기 위해서 key값을 가져오는 것 "
   ]
  },
  {
   "cell_type": "code",
   "execution_count": 11,
   "id": "6dab8bd2",
   "metadata": {},
   "outputs": [
    {
     "data": {
      "text/plain": [
       "{'input': '반갑꼬리', 'chat_history': []}"
      ]
     },
     "execution_count": 11,
     "metadata": {},
     "output_type": "execute_result"
    }
   ],
   "source": [
    "runnabe.invoke({'input':'반갑꼬리'})"
   ]
  },
  {
   "cell_type": "code",
   "execution_count": 12,
   "id": "bc66f5fa",
   "metadata": {},
   "outputs": [],
   "source": [
    "chain = runnabe | prompt | model \n",
    "# 입력이 들어오면 러너블에 던져놓고, 프롬프트에 그 리턴값을 던지고, 최종적으로 모델에 전달 "
   ]
  },
  {
   "cell_type": "code",
   "execution_count": 13,
   "id": "a34fbce3",
   "metadata": {},
   "outputs": [
    {
     "data": {
      "text/plain": [
       "RunnableAssign(mapper={\n",
       "  chat_history: RunnableLambda(load_memory_variables)\n",
       "                | RunnableLambda(itemgetter('chat_history'))\n",
       "})\n",
       "| ChatPromptTemplate(input_variables=['chat_history', 'input'], input_types={'chat_history': list[typing.Annotated[typing.Union[typing.Annotated[langchain_core.messages.ai.AIMessage, Tag(tag='ai')], typing.Annotated[langchain_core.messages.human.HumanMessage, Tag(tag='human')], typing.Annotated[langchain_core.messages.chat.ChatMessage, Tag(tag='chat')], typing.Annotated[langchain_core.messages.system.SystemMessage, Tag(tag='system')], typing.Annotated[langchain_core.messages.function.FunctionMessage, Tag(tag='function')], typing.Annotated[langchain_core.messages.tool.ToolMessage, Tag(tag='tool')], typing.Annotated[langchain_core.messages.ai.AIMessageChunk, Tag(tag='AIMessageChunk')], typing.Annotated[langchain_core.messages.human.HumanMessageChunk, Tag(tag='HumanMessageChunk')], typing.Annotated[langchain_core.messages.chat.ChatMessageChunk, Tag(tag='ChatMessageChunk')], typing.Annotated[langchain_core.messages.system.SystemMessageChunk, Tag(tag='SystemMessageChunk')], typing.Annotated[langchain_core.messages.function.FunctionMessageChunk, Tag(tag='FunctionMessageChunk')], typing.Annotated[langchain_core.messages.tool.ToolMessageChunk, Tag(tag='ToolMessageChunk')]], FieldInfo(annotation=NoneType, required=True, discriminator=Discriminator(discriminator=<function _get_type at 0x00000239E145EAC0>, custom_error_type=None, custom_error_message=None, custom_error_context=None))]]}, partial_variables={}, messages=[SystemMessagePromptTemplate(prompt=PromptTemplate(input_variables=[], input_types={}, partial_variables={}, template='you are a helpful chatbot'), additional_kwargs={}), MessagesPlaceholder(variable_name='chat_history'), HumanMessagePromptTemplate(prompt=PromptTemplate(input_variables=['input'], input_types={}, partial_variables={}, template='{input}'), additional_kwargs={})])\n",
       "| ChatOpenAI(client=<openai.resources.chat.completions.completions.Completions object at 0x00000239FFE8DC70>, async_client=<openai.resources.chat.completions.completions.AsyncCompletions object at 0x0000023985349F10>, root_client=<openai.OpenAI object at 0x00000239FFB4CE00>, root_async_client=<openai.AsyncOpenAI object at 0x00000239852E80B0>, model_name='gpt-4.1-nano-2025-04-14', temperature=0.2, model_kwargs={}, openai_api_key=SecretStr('**********'))"
      ]
     },
     "execution_count": 13,
     "metadata": {},
     "output_type": "execute_result"
    }
   ],
   "source": [
    "chain"
   ]
  },
  {
   "cell_type": "markdown",
   "id": "21f0c95c",
   "metadata": {},
   "source": [
    "## chat history는 빈 리스트가 첨에 들어갈거고 쭈욱 쭈욱 들어감, 결국 프롬프트의 조각을 채우는 과정임"
   ]
  },
  {
   "cell_type": "code",
   "execution_count": 14,
   "id": "e9719f77",
   "metadata": {},
   "outputs": [
    {
     "name": "stdout",
     "output_type": "stream",
     "text": [
      "content='반갑습니다, 박준성님! 저는 여러분의 도움이 되는 챗봇입니다. 무엇을 도와드릴까요?' additional_kwargs={'refusal': None} response_metadata={'token_usage': {'completion_tokens': 28, 'prompt_tokens': 35, 'total_tokens': 63, 'completion_tokens_details': {'accepted_prediction_tokens': 0, 'audio_tokens': 0, 'reasoning_tokens': 0, 'rejected_prediction_tokens': 0}, 'prompt_tokens_details': {'audio_tokens': 0, 'cached_tokens': 0}}, 'model_name': 'gpt-4.1-nano-2025-04-14', 'system_fingerprint': 'fp_38343a2f8f', 'id': 'chatcmpl-BomoTaIXuZEXQ2FYCZMn9RclEbFgv', 'service_tier': 'default', 'finish_reason': 'stop', 'logprobs': None} id='run--b0b74bcd-f937-4947-bca1-7b591b39882e-0' usage_metadata={'input_tokens': 35, 'output_tokens': 28, 'total_tokens': 63, 'input_token_details': {'audio': 0, 'cache_read': 0}, 'output_token_details': {'audio': 0, 'reasoning': 0}}\n"
     ]
    }
   ],
   "source": [
    "response =chain.invoke({'input':'만나서 반갑꼬리, 제 이름은 박준성이다 꼬리'})\n",
    "print(response)"
   ]
  },
  {
   "cell_type": "markdown",
   "id": "4d7220b9",
   "metadata": {},
   "source": [
    "## 근데 아직 히스토리에 없다. 명시적으로 저장해야함"
   ]
  },
  {
   "cell_type": "code",
   "execution_count": 15,
   "id": "0df9b4f3",
   "metadata": {},
   "outputs": [
    {
     "data": {
      "text/plain": [
       "{'chat_history': []}"
      ]
     },
     "execution_count": 15,
     "metadata": {},
     "output_type": "execute_result"
    }
   ],
   "source": [
    "memory.load_memory_variables({})"
   ]
  },
  {
   "cell_type": "markdown",
   "id": "874b2383",
   "metadata": {},
   "source": [
    "## 어떻게? memory save context 함수로 저장하면됨"
   ]
  },
  {
   "cell_type": "code",
   "execution_count": 16,
   "id": "f33548c1",
   "metadata": {},
   "outputs": [],
   "source": [
    "memory.save_context(\n",
    "    {'human':'만나서 반갑꼬리, 난 박준성이다 꼬리'}, {'ai':response.content}\n",
    ")\n"
   ]
  },
  {
   "cell_type": "code",
   "execution_count": 17,
   "id": "72b2339e",
   "metadata": {},
   "outputs": [
    {
     "data": {
      "text/plain": [
       "{'chat_history': [HumanMessage(content='만나서 반갑꼬리, 난 박준성이다 꼬리', additional_kwargs={}, response_metadata={}),\n",
       "  AIMessage(content='반갑습니다, 박준성님! 저는 여러분의 도움이 되는 챗봇입니다. 무엇을 도와드릴까요?', additional_kwargs={}, response_metadata={})]}"
      ]
     },
     "execution_count": 17,
     "metadata": {},
     "output_type": "execute_result"
    }
   ],
   "source": [
    "memory.load_memory_variables({})"
   ]
  },
  {
   "cell_type": "markdown",
   "id": "6717c7fe",
   "metadata": {},
   "source": [
    "## 그럼 추가적인 질문으로 됐는지 확인하자"
   ]
  },
  {
   "cell_type": "code",
   "execution_count": 19,
   "id": "e0338bd4",
   "metadata": {},
   "outputs": [
    {
     "name": "stdout",
     "output_type": "stream",
     "text": [
      "당신의 이름은 박준성님이세요!\n"
     ]
    }
   ],
   "source": [
    "response = chain.invoke({'input':'내 이름이 뭐야?'})\n",
    "print(response.content)\n"
   ]
  },
  {
   "cell_type": "markdown",
   "id": "2253b7e5",
   "metadata": {},
   "source": [
    "## 어떻게 된걸까? 랭스미스를 보자 "
   ]
  },
  {
   "cell_type": "code",
   "execution_count": 20,
   "id": "fdb20b0a",
   "metadata": {},
   "outputs": [
    {
     "data": {
      "image/png": "[encoded data removed]",
      "text/plain": [
       "<IPython.core.display.Image object>"
      ]
     },
     "execution_count": 20,
     "metadata": {},
     "output_type": "execute_result"
    }
   ],
   "source": [
    "from IPython.display import Image\n",
    "Image(r\"C:\\Users\\roaco\\Desktop\\potho\\Screenshots\\2025-07\\firefox_J7rEaJ41W1.png\")"
   ]
  },
  {
   "cell_type": "markdown",
   "id": "37aecea7",
   "metadata": {},
   "source": [
    "## 앞선 공간잡고 질문하고 저장하고 다음 쿼리에 그걸 활용하는 방식은 어차피 3개가 엮이니까 class화 시키자 "
   ]
  },
  {
   "cell_type": "code",
   "execution_count": 22,
   "id": "6cec642d",
   "metadata": {},
   "outputs": [],
   "source": [
    "from langchain_core.output_parsers import StrOutputParser\n",
    "from langchain_core.runnables import RunnableLambda, RunnablePassthrough, Runnable\n",
    "\n",
    "class myconversations(Runnable):\n",
    "    def __init__(self, llm, prompt, memory, input_key = 'input'):\n",
    "        self.prompt = prompt\n",
    "        self.memory = memory\n",
    "        self.input_key = input_key\n",
    "\n",
    "        self.chain = (\n",
    "            RunnablePassthrough.assign(\n",
    "                chat_history = RunnableLambda(memory.load_memory_variables)|\n",
    "                itemgetter(memory.memory_key)\n",
    "            )\n",
    "            | prompt \n",
    "            | llm \n",
    "            | StrOutputParser()\n",
    "        )\n",
    "    def invoke(self, query, configs = None , **kwargs):\n",
    "        answer = self.chain.invoke({self.input_key:query})\n",
    "        self.memory.save_context(inputs={'human':query},outputs= {'ai': answer})\n",
    "        return answer"
   ]
  },
  {
   "cell_type": "code",
   "execution_count": 24,
   "id": "9796c55d",
   "metadata": {},
   "outputs": [
    {
     "data": {
      "text/plain": [
       "'안녕하세요, 박준성님! 오늘은 어떤 도움을 드릴까요?'"
      ]
     },
     "execution_count": 24,
     "metadata": {},
     "output_type": "execute_result"
    }
   ],
   "source": [
    "myconvers = myconversations(llm=model, prompt=prompt , memory=memory)\n",
    "myconvers.invoke('안녕하세요')"
   ]
  },
  {
   "cell_type": "code",
   "execution_count": 25,
   "id": "4f35d723",
   "metadata": {},
   "outputs": [
    {
     "data": {
      "text/plain": [
       "'맞아요, 오늘은 메이플스토리 같은 게임이 더 재미있게 느껴지시나 봐요! 어떤 캐릭터를 키우고 계신가요? 아니면 특별히 하고 싶은 일이 있으신가요?'"
      ]
     },
     "execution_count": 25,
     "metadata": {},
     "output_type": "execute_result"
    }
   ],
   "source": [
    "myconvers.invoke('오늘따라 메이플마렵군요')"
   ]
  },
  {
   "cell_type": "code",
   "execution_count": 26,
   "id": "79f857ae",
   "metadata": {},
   "outputs": [
    {
     "data": {
      "text/plain": [
       "'죄송하지만, 제가 아까 어떤 내용을 말씀하셨는지 기억이 나지 않아서 정확히 알려드리기 어렵네요. 혹시 오늘 하시고 싶었던 일이 무엇인지 조금 더 떠올려보시거나, 관련된 힌트를 주시면 도와드릴 수 있을 것 같아요!'"
      ]
     },
     "execution_count": 26,
     "metadata": {},
     "output_type": "execute_result"
    }
   ],
   "source": [
    "myconvers.invoke('아까 내가 뭐하고 싶었는지 까먹었는데 알려줄레요?')"
   ]
  },
  {
   "cell_type": "code",
   "execution_count": 27,
   "id": "7e9ac529",
   "metadata": {},
   "outputs": [
    {
     "data": {
      "text/plain": [
       "'아, 게임에 관한 이야기를 하셨군요! 혹시 메이플스토리 관련해서 하고 싶었던 일이 있었나요? 예를 들어, 캐릭터 육성, 퀘스트, 아이템 거래, 또는 친구들과 함께하는 활동 같은 것 말이죠. 조금 더 힌트를 주시면 다시 도와드릴 수 있을 것 같아요!'"
      ]
     },
     "execution_count": 27,
     "metadata": {},
     "output_type": "execute_result"
    }
   ],
   "source": [
    "myconvers.invoke('아까 내가 뭐하고 싶었는지 까먹었는데 알려줄레요? 게임 얘기였는데')"
   ]
  },
  {
   "cell_type": "code",
   "execution_count": 28,
   "id": "49e1c62c",
   "metadata": {},
   "outputs": [
    {
     "data": {
      "text/plain": [
       "[HumanMessage(content='만나서 반갑꼬리, 난 박준성이다 꼬리', additional_kwargs={}, response_metadata={}),\n",
       " AIMessage(content='반갑습니다, 박준성님! 저는 여러분의 도움이 되는 챗봇입니다. 무엇을 도와드릴까요?', additional_kwargs={}, response_metadata={}),\n",
       " HumanMessage(content='안녕하세요', additional_kwargs={}, response_metadata={}),\n",
       " AIMessage(content='안녕하세요, 박준성님! 오늘은 어떤 도움을 드릴까요?', additional_kwargs={}, response_metadata={}),\n",
       " HumanMessage(content='오늘따라 메이플마렵군요', additional_kwargs={}, response_metadata={}),\n",
       " AIMessage(content='맞아요, 오늘은 메이플스토리 같은 게임이 더 재미있게 느껴지시나 봐요! 어떤 캐릭터를 키우고 계신가요? 아니면 특별히 하고 싶은 일이 있으신가요?', additional_kwargs={}, response_metadata={}),\n",
       " HumanMessage(content='아까 내가 뭐하고 싶었는지 까먹었는데 알려줄레요?', additional_kwargs={}, response_metadata={}),\n",
       " AIMessage(content='죄송하지만, 제가 아까 어떤 내용을 말씀하셨는지 기억이 나지 않아서 정확히 알려드리기 어렵네요. 혹시 오늘 하시고 싶었던 일이 무엇인지 조금 더 떠올려보시거나, 관련된 힌트를 주시면 도와드릴 수 있을 것 같아요!', additional_kwargs={}, response_metadata={}),\n",
       " HumanMessage(content='아까 내가 뭐하고 싶었는지 까먹었는데 알려줄레요? 게임 얘기였는데', additional_kwargs={}, response_metadata={}),\n",
       " AIMessage(content='아, 게임에 관한 이야기를 하셨군요! 혹시 메이플스토리 관련해서 하고 싶었던 일이 있었나요? 예를 들어, 캐릭터 육성, 퀘스트, 아이템 거래, 또는 친구들과 함께하는 활동 같은 것 말이죠. 조금 더 힌트를 주시면 다시 도와드릴 수 있을 것 같아요!', additional_kwargs={}, response_metadata={})]"
      ]
     },
     "execution_count": 28,
     "metadata": {},
     "output_type": "execute_result"
    }
   ],
   "source": [
    "myconvers.memory.load_memory_variables({})['chat_history']"
   ]
  },
  {
   "cell_type": "markdown",
   "id": "ed3a443c",
   "metadata": {},
   "source": [
    "## 유저가 이용하다가 떠난 이후에 돌아왔을 때 계속 이어나가면서 이용하고 싶을 땐?"
   ]
  },
  {
   "cell_type": "markdown",
   "id": "377ac6b5",
   "metadata": {},
   "source": [
    "## db 쓰면 된다"
   ]
  },
  {
   "cell_type": "code",
   "execution_count": 25,
   "id": "c8419df9",
   "metadata": {},
   "outputs": [],
   "source": [
    "from langchain_community.chat_message_histories import SQLChatMessageHistory\n",
    "\n",
    "chat_messages_history = SQLChatMessageHistory(\n",
    "    session_id='sql_history', connection='sqlite:///sqlite.db' # 파일명을 따로 관리할 수 있다 이거 파일명임, 세션은 컬럼  \n",
    ")"
   ]
  },
  {
   "cell_type": "markdown",
   "id": "edf59b7a",
   "metadata": {},
   "source": [
    "## 실행하면 위에서 지정한 db가 생성됨 "
   ]
  },
  {
   "cell_type": "code",
   "execution_count": 26,
   "id": "5bd8f415",
   "metadata": {},
   "outputs": [],
   "source": [
    "chat_messages_history.add_user_message(\n",
    "    '안녕? 난 박준성이라고해 모델링도 llm도 다 잡식하는 인공지능 개발자라고 볼 수 있찌 후후후'\n",
    ")\n",
    "chat_messages_history.add_ai_message(\n",
    "    '안녕? 난 LANI 라고 해 쪼개지마 패기전에'\n",
    ")\n",
    "\n"
   ]
  },
  {
   "cell_type": "code",
   "execution_count": 27,
   "id": "e921a451",
   "metadata": {},
   "outputs": [
    {
     "data": {
      "text/plain": [
       "[HumanMessage(content='안녕? 난 박준성이라고해 모델링도 llm도 다 잡식하는 인공지능 개발자라고 볼 수 있찌 후후후', additional_kwargs={}, response_metadata={}),\n",
       " AIMessage(content='안녕? 난 LANI 라고 해 쪼개지마 패기전에', additional_kwargs={}, response_metadata={}),\n",
       " HumanMessage(content='안녕? 난 박준성이라고해 모델링도 llm도 다 잡식하는 인공지능 개발자라고 볼 수 있찌 후후후', additional_kwargs={}, response_metadata={}),\n",
       " AIMessage(content='안녕? 난 LANI 라고 해 쪼개지마 패기전에', additional_kwargs={}, response_metadata={})]"
      ]
     },
     "execution_count": 27,
     "metadata": {},
     "output_type": "execute_result"
    }
   ],
   "source": [
    "chat_messages_history.messages"
   ]
  },
  {
   "cell_type": "markdown",
   "id": "7af6f8cf",
   "metadata": {},
   "source": [
    "## 세션 id에 따라 해당값이 저장됨"
   ]
  },
  {
   "cell_type": "code",
   "execution_count": 28,
   "id": "a364d342",
   "metadata": {},
   "outputs": [],
   "source": [
    "from langchain_core.prompts import ChatPromptTemplate, MessagesPlaceholder\n",
    "from langchain_core.runnables.history import RunnableWithMessageHistory\n",
    "from langchain_core.output_parsers import StrOutputParser"
   ]
  },
  {
   "cell_type": "code",
   "execution_count": 29,
   "id": "99f5df51",
   "metadata": {},
   "outputs": [],
   "source": [
    "from utils.utils import *\n",
    "prompt = ChatPromptTemplate.from_messages(\n",
    "    [\n",
    "        ('system','당신은 이 세상 최고의 도우미 LANI입니다.'),\n",
    "        MessagesPlaceholder(variable_name='chat_history'),\n",
    "        ('human','{question}'),\n",
    "    ]\n",
    ")\n",
    "model = set_model()\n",
    "chain = prompt | model |StrOutputParser()\n"
   ]
  },
  {
   "cell_type": "markdown",
   "id": "6a261347",
   "metadata": {},
   "source": [
    "## 똑같이 만들긴 만들고 체인에다가 db 내용을 던져줘야하니까 그부분을 구현하자 ? 원래는 한개만 입력받는데 이를 위해서 만드는 겅ㅁ 밑의 2개의 함수는"
   ]
  },
  {
   "cell_type": "code",
   "execution_count": 30,
   "id": "161e671b",
   "metadata": {},
   "outputs": [],
   "source": [
    "def get_chat_history_fromdb(user_id , conversation_id):\n",
    "    return SQLChatMessageHistory(\n",
    "        table_name=user_id,\n",
    "        session_id=conversation_id,\n",
    "        connection='sqlite:///sqlite.db'\n",
    "    )\n",
    "# table을 유저의 아이디로 만들거임 "
   ]
  },
  {
   "cell_type": "markdown",
   "id": "c616f566",
   "metadata": {},
   "source": [
    "## config fields를 설정하자! 이는 대화 정보를 조회할 때 참고 정보로 쓰임 "
   ]
  },
  {
   "cell_type": "code",
   "execution_count": 31,
   "id": "dbbe9b1a",
   "metadata": {},
   "outputs": [],
   "source": [
    "from langchain_core.runnables.utils import ConfigurableFieldSpec\n",
    "\n",
    "config_fields = [\n",
    "    ConfigurableFieldSpec(\n",
    "        id = 'user_id', # 이거 무조오오오오오오오건 위에랑 일치해야함 정신차려 \n",
    "        annotation=str, \n",
    "        name='USER ID', # 이거 유저아이디다 하는 거 \n",
    "        description='Unique identifier for a user.', # 설명 부분 \n",
    "        default=\"\",\n",
    "        is_shared=True,\n",
    "    ),\n",
    "    ConfigurableFieldSpec(\n",
    "        id = 'conversation_id', # 이거 무조오오오오오오오건 위에랑 일치해야함 정신차려 \n",
    "        annotation=str, \n",
    "        name='Conversation ID', # 이거 유저아이디다 하는 거 \n",
    "        description='Unique identifier for a conversations.', # 설명 부분 \n",
    "        default=\"\",\n",
    "        is_shared=True,\n",
    "    ),    \n",
    "]"
   ]
  },
  {
   "cell_type": "code",
   "execution_count": 32,
   "id": "cfd2f23c",
   "metadata": {},
   "outputs": [],
   "source": [
    "chain_with_history = RunnableWithMessageHistory(\n",
    "    chain, # 앞서 만든 체인 넣고 \n",
    "    get_chat_history_fromdb,# db에서 대화 갖고오는 애 붙여주고 \n",
    "    input_messages_key='question',\n",
    "    history_messages_key='chat_history', # 얘네 둘은 당연히 같아야함 \n",
    "    history_factory_config=config_fields, # 대화 조회시에 참고 사항 앞서 만든거 전달해주고  \n",
    ")"
   ]
  },
  {
   "cell_type": "code",
   "execution_count": 33,
   "id": "db0e09f8",
   "metadata": {},
   "outputs": [],
   "source": [
    "config = {'configurable':{'user_id':'user1','conversation_id':'conversation1'}}"
   ]
  },
  {
   "cell_type": "code",
   "execution_count": 34,
   "id": "7dbd5f12",
   "metadata": {},
   "outputs": [
    {
     "data": {
      "text/plain": [
       "'반갑습니다, 준성님! 저는 LANI라고 해요. 오늘 어떻게 도와드릴까요?'"
      ]
     },
     "execution_count": 34,
     "metadata": {},
     "output_type": "execute_result"
    }
   ],
   "source": [
    "chain_with_history.invoke({'question':'반갑고 난 준성이야'},config)"
   ]
  },
  {
   "cell_type": "code",
   "execution_count": 35,
   "id": "a7ee8ee4",
   "metadata": {},
   "outputs": [
    {
     "data": {
      "text/plain": [
       "'준성님이시군요! 맞나요?'"
      ]
     },
     "execution_count": 35,
     "metadata": {},
     "output_type": "execute_result"
    }
   ],
   "source": [
    "chain_with_history.invoke({'question':'내 이름이 뭐더라'},config)"
   ]
  },
  {
   "cell_type": "code",
   "execution_count": null,
   "id": "f3f6ccec",
   "metadata": {},
   "outputs": [],
   "source": []
  }
 ],
 "metadata": {
  "kernelspec": {
   "display_name": "lmpy",
   "language": "python",
   "name": "python3"
  },
  "language_info": {
   "codemirror_mode": {
    "name": "ipython",
    "version": 3
   },
   "file_extension": ".py",
   "mimetype": "text/x-python",
   "name": "python",
   "nbconvert_exporter": "python",
   "pygments_lexer": "ipython3",
   "version": "3.12.9"
  }
 },
 "nbformat": 4,
 "nbformat_minor": 5
}
