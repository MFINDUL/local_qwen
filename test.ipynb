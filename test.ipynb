{
 "cells": [
  {
   "cell_type": "code",
   "execution_count": 4,
   "metadata": {},
   "outputs": [],
   "source": [
    "import streamlit as st \n",
    "from langchain_core.messages.chat import ChatMessage\n",
    "from langchain_openai import ChatOpenAI\n",
    "from langchain_core.prompts import ChatPromptTemplate\n",
    "from langchain_core.prompts import load_prompt \n",
    "from dotenv import load_dotenv\n",
    "from langchain_text_splitters import RecursiveCharacterTextSplitter\n",
    "from langchain_community.document_loaders import PyMuPDFLoader\n",
    "from langchain_community.vectorstores import FAISS\n",
    "from langchain_core.output_parsers import StrOutputParser\n",
    "from langchain_core.runnables import RunnablePassthrough,RunnableLambda\n",
    "from langchain_core.prompts import PromptTemplate\n",
    "from langchain_openai import ChatOpenAI, OpenAIEmbeddings\n",
    "from utils.utils import set_model,setstate\n",
    "import tempfile\n",
    "import os \n",
    "from utils.utils import *"
   ]
  },
  {
   "cell_type": "code",
   "execution_count": 3,
   "metadata": {},
   "outputs": [],
   "source": [
    "load_dotenv()\n",
    "\n",
    "pts = load_prompt(r'C:\\Users\\roaco\\Desktop\\프로젝트들 정리하기\\github\\prompts\\rags.yaml')\n",
    "\n"
   ]
  },
  {
   "cell_type": "code",
   "execution_count": 5,
   "metadata": {},
   "outputs": [],
   "source": [
    "llm = set_model()\n"
   ]
  },
  {
   "cell_type": "code",
   "execution_count": 7,
   "metadata": {},
   "outputs": [],
   "source": [
    "pdfs = PyMuPDFLoader('unsus.pdf')\n",
    "docs = pdfs.load()\n",
    "text_splits = RecursiveCharacterTextSplitter(chunk_size = 500, chunk_overlap = 50)\n",
    "split_docs = text_splits.split_documents(docs)"
   ]
  },
  {
   "cell_type": "code",
   "execution_count": 10,
   "metadata": {},
   "outputs": [],
   "source": [
    "embeddings = OpenAIEmbeddings()\n",
    "vectordb= FAISS.from_documents(documents = split_docs, embedding = embeddings)\n",
    "retirever = vectordb.as_retriever()\n"
   ]
  },
  {
   "cell_type": "code",
   "execution_count": 20,
   "metadata": {},
   "outputs": [],
   "source": [
    "\n",
    "def retrievers_pages(docs):\n",
    "    temp = '\\n\\n'\n",
    "    for i in docs:\n",
    "        temp += i.page_content\n",
    "    return temp \n",
    "question = '아내가 먹고 싶어한 음식은 무엇이었나요?'\n",
    "chain = (\n",
    "    {'context': retirever | retrievers_pages , 'question':RunnablePassthrough()} | \n",
    "    pts |\n",
    "    llm\n",
    ")"
   ]
  },
  {
   "cell_type": "code",
   "execution_count": 21,
   "metadata": {},
   "outputs": [
    {
     "data": {
      "text/plain": [
       "[Document(id='c624f1ce-31d9-4831-9893-bc744a41827c', metadata={'producer': 'ezPDF Builder 2006', 'creator': 'ezPDF Builder 2006', 'creationdate': '2010-03-19T13:04:08+09:00', 'source': 'unsus.pdf', 'file_path': 'unsus.pdf', 'total_pages': 10, 'format': 'PDF 1.4', 'title': '', 'author': '', 'subject': '', 'keywords': '', 'moddate': '2010-03-19T13:04:08+09:00', 'trapped': '', 'modDate': \"D:20100319130408+09'00'\", 'creationDate': \"D:20100319130408+09'00'\", 'page': 5}, page_content='이놈아\\n그걸먹고취할내냐\\n어서더먹어\\n“\\n,\\n,\\n.”\\n하고는치삼의귀를잡아치며취한이는부르짖었다\\n그리고술을붓는열\\n.'),\n",
       " Document(id='a5aed252-6732-4e84-a94e-d16552227d16', metadata={'producer': 'ezPDF Builder 2006', 'creator': 'ezPDF Builder 2006', 'creationdate': '2010-03-19T13:04:08+09:00', 'source': 'unsus.pdf', 'file_path': 'unsus.pdf', 'total_pages': 10, 'format': 'PDF 1.4', 'title': '', 'author': '', 'subject': '', 'keywords': '', 'moddate': '2010-03-19T13:04:08+09:00', 'trapped': '', 'modDate': \"D:20100319130408+09'00'\", 'creationDate': \"D:20100319130408+09'00'\", 'page': 5}, page_content='청하였다\\n주린창자는음식맛을보더니더욱더욱비어지며자꾸자꾸들이\\n.\\n라들이라하였다\\n순식간에두부와미꾸리든국한그릇을그냥물같이\\n.\\n들이켜고말았다\\n셋째그릇을받아들었을제데우던막걸리곱배기두잔\\n.\\n이더웠다\\n치삼이와같이마시자원원이비었던속이라찌르를하고창자\\n.\\n에퍼지며얼굴이화끈하였다\\n눌러곱배기한잔을또마셨다\\n.\\n.\\n김첨지의눈은벌써개개풀리기시작하였다\\n석쇠에얹힌떡두개를숭\\n.\\n덩숭덩썰어서볼을불룩거리며또곱배기두잔을부어라하였다.\\n치삼은의아한듯이김첨지를보며,\\n여보게또붓다니\\n벌써우리가넉잔씩먹었네\\n돈이사십전일세\\n“\\n,\\n,\\n.”\\n라고주의시켰다.\\n아따이놈아\\n사십전이그리끔찍하냐\\n오늘내가돈을막벌었어\\n참\\n“\\n,\\n.\\n.\\n오늘운수가좋았느니.”\\n그래얼마를벌었단말인가\\n“\\n.”\\n삼십원을벌었어\\n삼십원을\\n이런젠장맞을술을왜안부어\\n괜찮\\n“\\n,\\n!\\n……\\n다괜찮다\\n막먹어도상관이없어\\n오늘돈산더미같이벌었는데\\n,\\n.\\n.”\\n어\\n이사람취했군\\n그만두세\\n“\\n,\\n,\\n.”\\n이놈아\\n그걸먹고취할내냐\\n어서더먹어\\n“\\n,\\n,\\n.”\\n하고는치삼의귀를잡아치며취한이는부르짖었다'),\n",
       " Document(id='b4f4c94c-9cbc-4e31-a7b5-66770c427c94', metadata={'producer': 'ezPDF Builder 2006', 'creator': 'ezPDF Builder 2006', 'creationdate': '2010-03-19T13:04:08+09:00', 'source': 'unsus.pdf', 'file_path': 'unsus.pdf', 'total_pages': 10, 'format': 'PDF 1.4', 'title': '', 'author': '', 'subject': '', 'keywords': '', 'moddate': '2010-03-19T13:04:08+09:00', 'trapped': '', 'modDate': \"D:20100319130408+09'00'\", 'creationDate': \"D:20100319130408+09'00'\", 'page': 0}, page_content='조밥도굶기를\\n.\\n먹다시피하는형편이니물론약한첩써본일이없다\\n구태여쓰려면못\\n.\\n쓸바도아니로되그는병이란놈에게약을주어보내면재미를붙여서자\\n꾸온다는자기의신조\\n에어디까지충실하였다\\n따라서의사에게보\\n(\\n)\\n.\\n信條\\n인적이없으니무슨병인지는알수없으되반듯이누워가지고일어나기\\n는새로모로도못눕는걸보면중증은중증인듯\\n병이이대도록심해지\\n.\\n기는열흘전에조밥을먹고체한때문이다\\n그때도김첨지가오래간만에돈\\n.\\n을얻어서좁쌀한되와십전짜리나무한단을사다주었더니김첨지의\\n말에의지하면그오라질년이천방지축으로냄비에대고끓였다\\n마음은\\n.\\n급하고불길은달지않아채익지도않은것을그오라질년이숟가락은고\\n만두고손으로움켜서두뺨에주먹덩이같은혹이불거지도록누가빼앗을\\n듯이처박질하더니만그날저녁부터가슴이땡긴다\\n배가켕긴다고눈을흡\\n,\\n뜨고지랄병을하였다\\n그때김첨지는열화와같이성을내며\\n.\\n,\\n에이\\n오라질년\\n조랑복은할수가없어\\n못먹어병\\n먹어서병\\n어쩌\\n“\\n,\\n,\\n,\\n,\\n!\\n란말이야\\n왜눈을바루뜨지못해\\n!\\n!”\\n하고앓는이의뺨을한번후려갈겼다\\n흡뜬눈은조금바루어졌건만이슬\\n.'),\n",
       " Document(id='ded50083-75cf-4236-8316-94a1eefce6dd', metadata={'producer': 'ezPDF Builder 2006', 'creator': 'ezPDF Builder 2006', 'creationdate': '2010-03-19T13:04:08+09:00', 'source': 'unsus.pdf', 'file_path': 'unsus.pdf', 'total_pages': 10, 'format': 'PDF 1.4', 'title': '', 'author': '', 'subject': '', 'keywords': '', 'moddate': '2010-03-19T13:04:08+09:00', 'trapped': '', 'modDate': \"D:20100319130408+09'00'\", 'creationDate': \"D:20100319130408+09'00'\", 'page': 1}, page_content='이맺히었다\\n김첨지의눈시울도뜨끈뜨끈하였다\\n.\\n.\\n이환자가그러고도먹는데는물리지않았다\\n사흘전부터설렁탕국물이\\n.\\n마시고싶다고남편을졸랐다.\\n이런오라질년\\n조밥도못먹는년이설렁탕은\\n또처먹고지랄병을하\\n“\\n!\\n.\\n게.”\\n라고\\n야단을쳐보았건만\\n못사주는마음이시원치는않았다\\n,\\n,\\n.\\n인제설렁탕을사줄수도있다\\n앓는어미곁에서배고파보채는개똥이\\n.\\n세살먹이에게죽을사줄수도있다\\n팔십전을손에쥔김첨지의마음\\n(\\n)\\n-\\n은푼푼하였다.\\n그러나그의행운은그걸로그치지않았다\\n땀과빗물이섞여흐르는목덜\\n.\\n미를기름주머니가다된왜목수건으로닦으며\\n그학교문을돌아나올때\\n,\\n였다\\n뒤에서\\n인력거\\n하고부르는소리가난다\\n자기를불러멈춘사\\n.\\n“\\n!”\\n.\\n람이그학교학생인줄김첨지는한번보고짐작할수있었다\\n그학생은\\n.\\n다짜고짜로,\\n남대문정거장까지얼마요\\n“\\n.”\\n라고물었다\\n아마도그학교기숙사에있는이로동기방학을이용하여귀\\n.\\n향하려함이리라\\n오늘가기로작정은하였건만비는오고\\n짐은있고해서\\n.\\n,\\n어찌할줄모르다가마침김첨지를보고뛰어나왔음이리라\\n그렇지않으면\\n.\\n왜구두를채신지못해서질질끌고')]"
      ]
     },
     "execution_count": 21,
     "metadata": {},
     "output_type": "execute_result"
    }
   ],
   "source": [
    "retreturns = retirever.invoke(question)\n",
    "retreturns"
   ]
  },
  {
   "cell_type": "code",
   "execution_count": 22,
   "metadata": {},
   "outputs": [
    {
     "data": {
      "text/plain": [
       "'\\n\\n이놈아\\n그걸먹고취할내냐\\n어서더먹어\\n“\\n,\\n,\\n.”\\n하고는치삼의귀를잡아치며취한이는부르짖었다\\n그리고술을붓는열\\n.청하였다\\n주린창자는음식맛을보더니더욱더욱비어지며자꾸자꾸들이\\n.\\n라들이라하였다\\n순식간에두부와미꾸리든국한그릇을그냥물같이\\n.\\n들이켜고말았다\\n셋째그릇을받아들었을제데우던막걸리곱배기두잔\\n.\\n이더웠다\\n치삼이와같이마시자원원이비었던속이라찌르를하고창자\\n.\\n에퍼지며얼굴이화끈하였다\\n눌러곱배기한잔을또마셨다\\n.\\n.\\n김첨지의눈은벌써개개풀리기시작하였다\\n석쇠에얹힌떡두개를숭\\n.\\n덩숭덩썰어서볼을불룩거리며또곱배기두잔을부어라하였다.\\n치삼은의아한듯이김첨지를보며,\\n여보게또붓다니\\n벌써우리가넉잔씩먹었네\\n돈이사십전일세\\n“\\n,\\n,\\n.”\\n라고주의시켰다.\\n아따이놈아\\n사십전이그리끔찍하냐\\n오늘내가돈을막벌었어\\n참\\n“\\n,\\n.\\n.\\n오늘운수가좋았느니.”\\n그래얼마를벌었단말인가\\n“\\n.”\\n삼십원을벌었어\\n삼십원을\\n이런젠장맞을술을왜안부어\\n괜찮\\n“\\n,\\n!\\n……\\n다괜찮다\\n막먹어도상관이없어\\n오늘돈산더미같이벌었는데\\n,\\n.\\n.”\\n어\\n이사람취했군\\n그만두세\\n“\\n,\\n,\\n.”\\n이놈아\\n그걸먹고취할내냐\\n어서더먹어\\n“\\n,\\n,\\n.”\\n하고는치삼의귀를잡아치며취한이는부르짖었다조밥도굶기를\\n.\\n먹다시피하는형편이니물론약한첩써본일이없다\\n구태여쓰려면못\\n.\\n쓸바도아니로되그는병이란놈에게약을주어보내면재미를붙여서자\\n꾸온다는자기의신조\\n에어디까지충실하였다\\n따라서의사에게보\\n(\\n)\\n.\\n信條\\n인적이없으니무슨병인지는알수없으되반듯이누워가지고일어나기\\n는새로모로도못눕는걸보면중증은중증인듯\\n병이이대도록심해지\\n.\\n기는열흘전에조밥을먹고체한때문이다\\n그때도김첨지가오래간만에돈\\n.\\n을얻어서좁쌀한되와십전짜리나무한단을사다주었더니김첨지의\\n말에의지하면그오라질년이천방지축으로냄비에대고끓였다\\n마음은\\n.\\n급하고불길은달지않아채익지도않은것을그오라질년이숟가락은고\\n만두고손으로움켜서두뺨에주먹덩이같은혹이불거지도록누가빼앗을\\n듯이처박질하더니만그날저녁부터가슴이땡긴다\\n배가켕긴다고눈을흡\\n,\\n뜨고지랄병을하였다\\n그때김첨지는열화와같이성을내며\\n.\\n,\\n에이\\n오라질년\\n조랑복은할수가없어\\n못먹어병\\n먹어서병\\n어쩌\\n“\\n,\\n,\\n,\\n,\\n!\\n란말이야\\n왜눈을바루뜨지못해\\n!\\n!”\\n하고앓는이의뺨을한번후려갈겼다\\n흡뜬눈은조금바루어졌건만이슬\\n.이맺히었다\\n김첨지의눈시울도뜨끈뜨끈하였다\\n.\\n.\\n이환자가그러고도먹는데는물리지않았다\\n사흘전부터설렁탕국물이\\n.\\n마시고싶다고남편을졸랐다.\\n이런오라질년\\n조밥도못먹는년이설렁탕은\\n또처먹고지랄병을하\\n“\\n!\\n.\\n게.”\\n라고\\n야단을쳐보았건만\\n못사주는마음이시원치는않았다\\n,\\n,\\n.\\n인제설렁탕을사줄수도있다\\n앓는어미곁에서배고파보채는개똥이\\n.\\n세살먹이에게죽을사줄수도있다\\n팔십전을손에쥔김첨지의마음\\n(\\n)\\n-\\n은푼푼하였다.\\n그러나그의행운은그걸로그치지않았다\\n땀과빗물이섞여흐르는목덜\\n.\\n미를기름주머니가다된왜목수건으로닦으며\\n그학교문을돌아나올때\\n,\\n였다\\n뒤에서\\n인력거\\n하고부르는소리가난다\\n자기를불러멈춘사\\n.\\n“\\n!”\\n.\\n람이그학교학생인줄김첨지는한번보고짐작할수있었다\\n그학생은\\n.\\n다짜고짜로,\\n남대문정거장까지얼마요\\n“\\n.”\\n라고물었다\\n아마도그학교기숙사에있는이로동기방학을이용하여귀\\n.\\n향하려함이리라\\n오늘가기로작정은하였건만비는오고\\n짐은있고해서\\n.\\n,\\n어찌할줄모르다가마침김첨지를보고뛰어나왔음이리라\\n그렇지않으면\\n.\\n왜구두를채신지못해서질질끌고'"
      ]
     },
     "execution_count": 22,
     "metadata": {},
     "output_type": "execute_result"
    }
   ],
   "source": [
    "processed_return = retrievers_pages(retreturns)\n",
    "processed_return"
   ]
  },
  {
   "cell_type": "code",
   "execution_count": 23,
   "metadata": {},
   "outputs": [
    {
     "data": {
      "text/plain": [
       "str"
      ]
     },
     "execution_count": 23,
     "metadata": {},
     "output_type": "execute_result"
    }
   ],
   "source": [
    "type(processed_return)"
   ]
  },
  {
   "cell_type": "code",
   "execution_count": 24,
   "metadata": {},
   "outputs": [],
   "source": [
    "def format_docs(docs):\n",
    "  return '\\n\\n'.join(document.page_content for document in docs)"
   ]
  },
  {
   "cell_type": "code",
   "execution_count": 25,
   "metadata": {},
   "outputs": [
    {
     "data": {
      "text/plain": [
       "'이놈아\\n그걸먹고취할내냐\\n어서더먹어\\n“\\n,\\n,\\n.”\\n하고는치삼의귀를잡아치며취한이는부르짖었다\\n그리고술을붓는열\\n.\\n\\n청하였다\\n주린창자는음식맛을보더니더욱더욱비어지며자꾸자꾸들이\\n.\\n라들이라하였다\\n순식간에두부와미꾸리든국한그릇을그냥물같이\\n.\\n들이켜고말았다\\n셋째그릇을받아들었을제데우던막걸리곱배기두잔\\n.\\n이더웠다\\n치삼이와같이마시자원원이비었던속이라찌르를하고창자\\n.\\n에퍼지며얼굴이화끈하였다\\n눌러곱배기한잔을또마셨다\\n.\\n.\\n김첨지의눈은벌써개개풀리기시작하였다\\n석쇠에얹힌떡두개를숭\\n.\\n덩숭덩썰어서볼을불룩거리며또곱배기두잔을부어라하였다.\\n치삼은의아한듯이김첨지를보며,\\n여보게또붓다니\\n벌써우리가넉잔씩먹었네\\n돈이사십전일세\\n“\\n,\\n,\\n.”\\n라고주의시켰다.\\n아따이놈아\\n사십전이그리끔찍하냐\\n오늘내가돈을막벌었어\\n참\\n“\\n,\\n.\\n.\\n오늘운수가좋았느니.”\\n그래얼마를벌었단말인가\\n“\\n.”\\n삼십원을벌었어\\n삼십원을\\n이런젠장맞을술을왜안부어\\n괜찮\\n“\\n,\\n!\\n……\\n다괜찮다\\n막먹어도상관이없어\\n오늘돈산더미같이벌었는데\\n,\\n.\\n.”\\n어\\n이사람취했군\\n그만두세\\n“\\n,\\n,\\n.”\\n이놈아\\n그걸먹고취할내냐\\n어서더먹어\\n“\\n,\\n,\\n.”\\n하고는치삼의귀를잡아치며취한이는부르짖었다\\n\\n조밥도굶기를\\n.\\n먹다시피하는형편이니물론약한첩써본일이없다\\n구태여쓰려면못\\n.\\n쓸바도아니로되그는병이란놈에게약을주어보내면재미를붙여서자\\n꾸온다는자기의신조\\n에어디까지충실하였다\\n따라서의사에게보\\n(\\n)\\n.\\n信條\\n인적이없으니무슨병인지는알수없으되반듯이누워가지고일어나기\\n는새로모로도못눕는걸보면중증은중증인듯\\n병이이대도록심해지\\n.\\n기는열흘전에조밥을먹고체한때문이다\\n그때도김첨지가오래간만에돈\\n.\\n을얻어서좁쌀한되와십전짜리나무한단을사다주었더니김첨지의\\n말에의지하면그오라질년이천방지축으로냄비에대고끓였다\\n마음은\\n.\\n급하고불길은달지않아채익지도않은것을그오라질년이숟가락은고\\n만두고손으로움켜서두뺨에주먹덩이같은혹이불거지도록누가빼앗을\\n듯이처박질하더니만그날저녁부터가슴이땡긴다\\n배가켕긴다고눈을흡\\n,\\n뜨고지랄병을하였다\\n그때김첨지는열화와같이성을내며\\n.\\n,\\n에이\\n오라질년\\n조랑복은할수가없어\\n못먹어병\\n먹어서병\\n어쩌\\n“\\n,\\n,\\n,\\n,\\n!\\n란말이야\\n왜눈을바루뜨지못해\\n!\\n!”\\n하고앓는이의뺨을한번후려갈겼다\\n흡뜬눈은조금바루어졌건만이슬\\n.\\n\\n이맺히었다\\n김첨지의눈시울도뜨끈뜨끈하였다\\n.\\n.\\n이환자가그러고도먹는데는물리지않았다\\n사흘전부터설렁탕국물이\\n.\\n마시고싶다고남편을졸랐다.\\n이런오라질년\\n조밥도못먹는년이설렁탕은\\n또처먹고지랄병을하\\n“\\n!\\n.\\n게.”\\n라고\\n야단을쳐보았건만\\n못사주는마음이시원치는않았다\\n,\\n,\\n.\\n인제설렁탕을사줄수도있다\\n앓는어미곁에서배고파보채는개똥이\\n.\\n세살먹이에게죽을사줄수도있다\\n팔십전을손에쥔김첨지의마음\\n(\\n)\\n-\\n은푼푼하였다.\\n그러나그의행운은그걸로그치지않았다\\n땀과빗물이섞여흐르는목덜\\n.\\n미를기름주머니가다된왜목수건으로닦으며\\n그학교문을돌아나올때\\n,\\n였다\\n뒤에서\\n인력거\\n하고부르는소리가난다\\n자기를불러멈춘사\\n.\\n“\\n!”\\n.\\n람이그학교학생인줄김첨지는한번보고짐작할수있었다\\n그학생은\\n.\\n다짜고짜로,\\n남대문정거장까지얼마요\\n“\\n.”\\n라고물었다\\n아마도그학교기숙사에있는이로동기방학을이용하여귀\\n.\\n향하려함이리라\\n오늘가기로작정은하였건만비는오고\\n짐은있고해서\\n.\\n,\\n어찌할줄모르다가마침김첨지를보고뛰어나왔음이리라\\n그렇지않으면\\n.\\n왜구두를채신지못해서질질끌고'"
      ]
     },
     "execution_count": 25,
     "metadata": {},
     "output_type": "execute_result"
    }
   ],
   "source": [
    "processed_return2 =format_docs(retreturns)\n",
    "processed_return2"
   ]
  },
  {
   "cell_type": "code",
   "execution_count": 26,
   "metadata": {},
   "outputs": [
    {
     "data": {
      "text/plain": [
       "str"
      ]
     },
     "execution_count": 26,
     "metadata": {},
     "output_type": "execute_result"
    }
   ],
   "source": [
    "type(processed_return2)"
   ]
  },
  {
   "cell_type": "code",
   "execution_count": null,
   "metadata": {},
   "outputs": [],
   "source": []
  }
 ],
 "metadata": {
  "kernelspec": {
   "display_name": "lmpy",
   "language": "python",
   "name": "python3"
  },
  "language_info": {
   "codemirror_mode": {
    "name": "ipython",
    "version": 3
   },
   "file_extension": ".py",
   "mimetype": "text/x-python",
   "name": "python",
   "nbconvert_exporter": "python",
   "pygments_lexer": "ipython3",
   "version": "3.12.9"
  }
 },
 "nbformat": 4,
 "nbformat_minor": 2
}
