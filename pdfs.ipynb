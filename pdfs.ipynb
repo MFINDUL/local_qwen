{
 "cells": [
  {
   "cell_type": "code",
   "execution_count": 2,
   "id": "035fcd5d",
   "metadata": {},
   "outputs": [
    {
     "name": "stderr",
     "output_type": "stream",
     "text": [
      "CropBox missing from /Page, defaulting to MediaBox\n",
      "CropBox missing from /Page, defaulting to MediaBox\n",
      "CropBox missing from /Page, defaulting to MediaBox\n",
      "CropBox missing from /Page, defaulting to MediaBox\n",
      "CropBox missing from /Page, defaulting to MediaBox\n",
      "CropBox missing from /Page, defaulting to MediaBox\n",
      "CropBox missing from /Page, defaulting to MediaBox\n",
      "CropBox missing from /Page, defaulting to MediaBox\n",
      "CropBox missing from /Page, defaulting to MediaBox\n",
      "CropBox missing from /Page, defaulting to MediaBox\n"
     ]
    },
    {
     "name": "stdout",
     "output_type": "stream",
     "text": [
      "10\n"
     ]
    }
   ],
   "source": [
    "from langchain.document_loaders import PDFPlumberLoader\n",
    "\n",
    "\n",
    "loader = PDFPlumberLoader(r'C:\\Users\\roaco\\Desktop\\프로젝트들 정리하기\\25_06_02\\unsus.pdf')\n",
    "\n",
    "docs = loader.load()\n",
    "\n",
    "print(len(docs))\n"
   ]
  },
  {
   "cell_type": "code",
   "execution_count": 3,
   "id": "952e4709",
   "metadata": {},
   "outputs": [
    {
     "data": {
      "text/plain": [
       "Document(metadata={'source': 'C:\\\\Users\\\\roaco\\\\Desktop\\\\프로젝트들 정리하기\\\\25_06_02\\\\unsus.pdf', 'file_path': 'C:\\\\Users\\\\roaco\\\\Desktop\\\\프로젝트들 정리하기\\\\25_06_02\\\\unsus.pdf', 'page': 0, 'total_pages': 10, 'Creator': 'ezPDF Builder 2006', 'ModDate': \"D:20100319130408+09'00'\", 'Producer': 'ezPDF Builder 2006', 'CreationDate': \"D:20100319130408+09'00'\"}, page_content='운수 좋은날\\n현진건\\n새침하게 흐린 품이 눈이 올 듯하더니 눈은 아니 오고 얼다가 만 비가 추\\n적추적 내리는 날이었다.\\n이날이야말로 동소문 안에서 인력거꾼 노릇을 하는 김첨지에게는 오래간만\\n에도 닥친 운수 좋은 날이었다. 문안에(거기도 문밖은 아니지만) 들어간답\\n시는 앞집 마마님을 전찻길까지 모셔다 드린 것을 비롯으로 행여나 손님이\\n있을까 하고 정류장에서 어정어정하며 내리는 사람 하나하나에게 거의 비는\\n듯한 눈결을 보내고 있다가 마침내 교원인 듯한 양복쟁이를 동광학교(東光\\n學校)까지 태워다 주기로 되었다.\\n첫 번에 삼십전 , 둘째 번에 오십전 - 아침 댓바람에 그리 흉치 않은 일이\\n었다. 그야말로 재수가 옴붙어서 근 열흘 동안 돈 구경도 못한 김첨지는 십\\n전짜리 백동화 서 푼, 또는 다섯 푼이 찰깍 하고 손바닥에 떨어질 제 거의\\n눈물을 흘릴 만큼 기뻤었다. 더구나 이날 이때에 이 팔십 전이라는 돈이 그\\n에게 얼마나 유용한지 몰랐다. 컬컬한 목에 모주 한 잔도 적실 수 있거니와\\n그보다도 앓는 아내에게 설렁탕 한 그릇도 사다 줄 수 있음이다.\\n그의 아내가 기침으로 쿨룩거리기는 벌써 달포가 넘었다. 조밥도 굶기를\\n먹다시피 하는 형편이니 물론 약 한 첩 써본 일이 없다. 구태여 쓰려면 못\\n쓸 바도 아니로되 그는 병이란 놈에게 약을 주어 보내면 재미를 붙여서 자\\n꾸 온다는 자기의 신조(信條)에 어디까지 충실하였다. 따라서 의사에게 보\\n인 적이 없으니 무슨 병인지는 알 수 없으되 반듯이 누워 가지고 일어나기\\n는 새로 모로도 못 눕는 걸 보면 중증은 중증인 듯. 병이 이대도록 심해지\\n기는 열흘전에 조밥을 먹고 체한 때문이다. 그때도 김첨지가 오래간만에 돈\\n을 얻어서 좁쌀 한 되와 십 전짜리 나무 한 단을 사다 주었더니 김첨지의\\n말에 의지하면 그 오라질 년이 천방지축으로 냄비에 대고 끓였다. 마음은\\n급하고 불길은 달지 않아 채 익지도 않은 것을 그 오라질년이 숟가락은 고\\n만두고 손으로 움켜서 두 뺨에 주먹덩이 같은 혹이 불거지도록 누가 빼앗을\\n듯이 처박질하더니만 그날 저녁부터 가슴이 땡긴다, 배가 켕긴다고 눈을 흡\\n뜨고 지랄병을 하였다. 그때 김첨지는 열화와 같이 성을 내며,\\n“에이, 오라질년, 조랑복은 할 수가 없어, 못 먹어 병, 먹어서 병! 어쩌\\n란 말이야! 왜 눈을 바루 뜨지 못해!”\\n하고 앓는 이의 뺨을 한 번 후려갈겼다. 흡뜬 눈은 조금 바루어졌건만 이슬\\n')"
      ]
     },
     "execution_count": 3,
     "metadata": {},
     "output_type": "execute_result"
    }
   ],
   "source": [
    "docs[0]"
   ]
  },
  {
   "cell_type": "code",
   "execution_count": null,
   "id": "e63324b9",
   "metadata": {},
   "outputs": [],
   "source": []
  }
 ],
 "metadata": {
  "kernelspec": {
   "display_name": "lmpy",
   "language": "python",
   "name": "python3"
  },
  "language_info": {
   "codemirror_mode": {
    "name": "ipython",
    "version": 3
   },
   "file_extension": ".py",
   "mimetype": "text/x-python",
   "name": "python",
   "nbconvert_exporter": "python",
   "pygments_lexer": "ipython3",
   "version": "3.12.9"
  }
 },
 "nbformat": 4,
 "nbformat_minor": 5
}
