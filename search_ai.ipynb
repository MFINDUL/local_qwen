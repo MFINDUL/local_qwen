{
 "cells": [
  {
   "cell_type": "code",
   "execution_count": 101,
   "metadata": {},
   "outputs": [
    {
     "data": {
      "text/plain": [
       "True"
      ]
     },
     "execution_count": 101,
     "metadata": {},
     "output_type": "execute_result"
    }
   ],
   "source": [
    "from langchain_core.messages.chat import ChatMessage\n",
    "from langchain_openai import ChatOpenAI\n",
    "from langchain_core.prompts import ChatPromptTemplate\n",
    "from langchain_core.prompts import load_prompt \n",
    "from dotenv import load_dotenv\n",
    "from langchain_text_splitters import RecursiveCharacterTextSplitter\n",
    "from langchain_community.document_loaders import PyMuPDFLoader\n",
    "from langchain_community.vectorstores import FAISS\n",
    "from langchain_core.output_parsers import StrOutputParser\n",
    "from langchain_core.runnables import RunnablePassthrough,RunnableLambda\n",
    "from langchain_core.prompts import PromptTemplate\n",
    "from langchain_openai import ChatOpenAI, OpenAIEmbeddings\n",
    "from utils.utils import set_model,setstate\n",
    "import tempfile\n",
    "import os \n",
    "from dotenv import load_dotenv\n",
    "load_dotenv()"
   ]
  },
  {
   "cell_type": "code",
   "execution_count": 7,
   "metadata": {},
   "outputs": [],
   "source": [
    "from langchain_community.utilities import SerpAPIWrapper\n",
    "\n",
    "parm = {'engine':'google', 'gl':'kr', 'h':'ko', 'num':'2'}\n",
    "\n",
    "search = SerpAPIWrapper(params=parm)\n",
    "\n"
   ]
  },
  {
   "cell_type": "code",
   "execution_count": 8,
   "metadata": {},
   "outputs": [
    {
     "data": {
      "text/plain": [
       "SerpAPIWrapper(search_engine=<class 'serpapi.google_search.GoogleSearch'>, params={'engine': 'google', 'gl': 'kr', 'h': 'ko', 'num': '2'}, serpapi_api_key='78652c8362f1d03c76325b9fc1141e04d3d92e24b4eec941c46242e9046c7681', aiosession=None)"
      ]
     },
     "execution_count": 8,
     "metadata": {},
     "output_type": "execute_result"
    }
   ],
   "source": [
    "search "
   ]
  },
  {
   "cell_type": "code",
   "execution_count": 10,
   "metadata": {},
   "outputs": [],
   "source": [
    "result = search.run('ICT공학')"
   ]
  },
  {
   "cell_type": "markdown",
   "metadata": {},
   "source": [
    "### 쉽게 리스트로 변환이 가능 "
   ]
  },
  {
   "cell_type": "code",
   "execution_count": 11,
   "metadata": {},
   "outputs": [
    {
     "data": {
      "text/plain": [
       "['ICT는 Information Communications Technologies의 약자입니다. ICT공학과는 정보 기술(Information Technology)과. 통신 기술(Communication Technology) ...',\n",
       " '컴퓨터공학, 수학, 통계학 등 관련 분야에 대한 기본 지식과 컴퓨팅 사고를 바탕으로 한 프로그래밍 능력을 집중적으로 교육하고 있습니다. 세부적 ...']"
      ]
     },
     "execution_count": 11,
     "metadata": {},
     "output_type": "execute_result"
    }
   ],
   "source": [
    "result = eval(result)\n",
    "result"
   ]
  },
  {
   "cell_type": "code",
   "execution_count": 39,
   "metadata": {},
   "outputs": [],
   "source": [
    "from langchain_openai import ChatOpenAI\n",
    "from langchain_core.callbacks.streaming_stdout import StreamingStdOutCallbackHandler\n",
    "\n",
    "# LM Studio 연결 설정 (올바른 방법)\n",
    "llm = ChatOpenAI(\n",
    "    base_url=\"http://127.0.0.1:1234/v1\",  # /v1 엔드포인트 추가\n",
    "    api_key=\"not-needed\",  # LM Studio는 보통 API 키가 필요없음\n",
    "    model=\"qwen3-1.7b\",  # 모델명을 model 파라미터로 지정\n",
    "    temperature=0.7,\n",
    "    streaming=True,\n",
    "    callbacks=[StreamingStdOutCallbackHandler()]\n",
    ")\n",
    "\n",
    "\n"
   ]
  },
  {
   "cell_type": "code",
   "execution_count": 44,
   "metadata": {},
   "outputs": [],
   "source": [
    "pt = PromptTemplate(\n",
    "    template='''\\no_think {question}''',\n",
    "    input_variables=['question']  # 오타 수정: 'qeustion' -> 'question'\n",
    ")\n"
   ]
  },
  {
   "cell_type": "code",
   "execution_count": 45,
   "metadata": {},
   "outputs": [],
   "source": [
    "chain = pt|llm|StrOutputParser()"
   ]
  },
  {
   "cell_type": "code",
   "execution_count": 46,
   "metadata": {},
   "outputs": [
    {
     "name": "stdout",
     "output_type": "stream",
     "text": [
      "<think>\n",
      "Okay, the user asked, \"Who are you?\" Let me think about how to answer that.\n",
      "\n",
      "First, I need to introduce myself. My name is Qwen, right? And I'm a large language model developed by Alibaba Cloud. But wait, maybe I should mention my main functions and capabilities to give them a clear picture.\n",
      "\n",
      "I should explain that I can help with various tasks like answering questions, writing text, coding, and more. It's important to highlight that I'm designed to be helpful and friendly, but also emphasize that I shouldn't replace real people or medical advice.\n",
      "\n",
      "Wait, the user might be testing my knowledge. I need to make sure I don't miss any key points. Let me check if there are any specific details I should include. Maybe mention that I can understand and generate Chinese text, which is useful for users in China.\n",
      "\n",
      "Also, I should remind them not to rely solely on me for important decisions. That's a good ethical point. Alright, putting it all together in a friendly and informative way.\n",
      "</think>\n",
      "\n",
      "안녕하세요! 저는 Qwen이라고 불리며, Alibaba Cloud에서 개발된 대형 자연어 처리 모델입니다. 저는 질문을 이해하고 답변을 제공해드리는 도우미 역할을 합니다. 다양한 작업을 수행할 수 있어요: 질문에 대한 답, 텍스트를 작성하거나 쓰기, 프로그래밍 코드 생성 등이 가능합니다.\n",
      "\n",
      "저는 친절하고 유쾌한 대화를 통해 사용자에게 도움을 드릴 수 있습니다. 하지만 중요한 결정이나 실용적인 정보를 구하는 경우, 전문가의 조언을 참고하시는 것이 더욱 바람직할 수 있어요. \n",
      "\n",
      "제가 제공하는 답변은 항상 타당성과 정확성을 보장하며, 사용자의 요구에 맞게 조정되도록 설계되었습니다. 질문하신 내용이 궁금한 부분이 있다면 언제든지 물어보세요! 😊"
     ]
    },
    {
     "data": {
      "text/plain": [
       "'<think>\\nOkay, the user asked, \"Who are you?\" Let me think about how to answer that.\\n\\nFirst, I need to introduce myself. My name is Qwen, right? And I\\'m a large language model developed by Alibaba Cloud. But wait, maybe I should mention my main functions and capabilities to give them a clear picture.\\n\\nI should explain that I can help with various tasks like answering questions, writing text, coding, and more. It\\'s important to highlight that I\\'m designed to be helpful and friendly, but also emphasize that I shouldn\\'t replace real people or medical advice.\\n\\nWait, the user might be testing my knowledge. I need to make sure I don\\'t miss any key points. Let me check if there are any specific details I should include. Maybe mention that I can understand and generate Chinese text, which is useful for users in China.\\n\\nAlso, I should remind them not to rely solely on me for important decisions. That\\'s a good ethical point. Alright, putting it all together in a friendly and informative way.\\n</think>\\n\\n안녕하세요! 저는 Qwen이라고 불리며, Alibaba Cloud에서 개발된 대형 자연어 처리 모델입니다. 저는 질문을 이해하고 답변을 제공해드리는 도우미 역할을 합니다. 다양한 작업을 수행할 수 있어요: 질문에 대한 답, 텍스트를 작성하거나 쓰기, 프로그래밍 코드 생성 등이 가능합니다.\\n\\n저는 친절하고 유쾌한 대화를 통해 사용자에게 도움을 드릴 수 있습니다. 하지만 중요한 결정이나 실용적인 정보를 구하는 경우, 전문가의 조언을 참고하시는 것이 더욱 바람직할 수 있어요. \\n\\n제가 제공하는 답변은 항상 타당성과 정확성을 보장하며, 사용자의 요구에 맞게 조정되도록 설계되었습니다. 질문하신 내용이 궁금한 부분이 있다면 언제든지 물어보세요! 😊'"
      ]
     },
     "execution_count": 46,
     "metadata": {},
     "output_type": "execute_result"
    }
   ],
   "source": [
    "chain.invoke({\"question\":'당신은 누구인가요?'})\n"
   ]
  },
  {
   "cell_type": "code",
   "execution_count": 43,
   "metadata": {},
   "outputs": [
    {
     "name": "stdout",
     "output_type": "stream",
     "text": [
      "기본 주소 상태: 200\n",
      "API 엔드포인트 상태: 200\n",
      "사용 가능한 모델들: {'data': [{'id': 'qwen3-1.7b', 'object': 'model', 'owned_by': 'organization_owner'}, {'id': 'text-embedding-nomic-embed-text-v1.5', 'object': 'model', 'owned_by': 'organization_owner'}], 'object': 'list'}\n"
     ]
    }
   ],
   "source": [
    "# 엔드포인트 확인해보기\n",
    "import requests\n",
    "\n",
    "# LM Studio가 실행 중이라면 이 요청들을 테스트해볼 수 있습니다\n",
    "try:\n",
    "    # 1. 기본 주소 (웹 UI)\n",
    "    response1 = requests.get(\"http://127.0.0.1:1234/\")\n",
    "    print(\"기본 주소 상태:\", response1.status_code)\n",
    "    \n",
    "    # 2. API 엔드포인트 \n",
    "    response2 = requests.get(\"http://127.0.0.1:1234/v1/models\")\n",
    "    print(\"API 엔드포인트 상태:\", response2.status_code)\n",
    "    print(\"사용 가능한 모델들:\", response2.json())\n",
    "    \n",
    "except Exception as e:\n",
    "    print(\"LM Studio가 실행되지 않았거나 서버가 시작되지 않았습니다:\", e)\n"
   ]
  },
  {
   "cell_type": "code",
   "execution_count": null,
   "metadata": {},
   "outputs": [],
   "source": [
    "# LM Studio API 엔드포인트들 설명\n",
    "\n",
    "\"\"\"\n",
    "LM Studio가 제공하는 API 엔드포인트들:\n",
    "\n",
    "1. GET /v1/models\n",
    "   - 목적: 사용 가능한 모델 목록 조회\n",
    "   - HTTP 메소드: GET (데이터 조회용)\n",
    "   - 예시: \"어떤 모델들이 로드되어 있나요?\"\n",
    "\n",
    "2. POST /v1/chat/completions  \n",
    "   - 목적: 채팅 형식으로 대화 (ChatGPT 스타일)\n",
    "   - HTTP 메소드: POST (데이터 전송용)\n",
    "   - 예시: \"안녕하세요, 파이썬에 대해 알려주세요\"\n",
    "\n",
    "3. POST /v1/completions\n",
    "   - 목적: 텍스트 자동완성 (옛날 GPT-3 스타일)\n",
    "   - HTTP 메소드: POST (데이터 전송용)  \n",
    "   - 예시: \"파이썬은...\" → \"파이썬은 프로그래밍 언어입니다\"\n",
    "\n",
    "4. POST /v1/embeddings\n",
    "   - 목적: 텍스트를 벡터로 변환 (RAG용)\n",
    "   - HTTP 메소드: POST (데이터 전송용)\n",
    "   - 예시: \"안녕하세요\" → [0.1, 0.5, -0.2, ...]\n",
    "\"\"\"\n",
    "\n",
    "# 실제 사용 예시\n",
    "import requests\n",
    "import json\n"
   ]
  },
  {
   "cell_type": "code",
   "execution_count": null,
   "metadata": {},
   "outputs": [],
   "source": [
    "# 각 엔드포인트 실제 테스트해보기\n",
    "\n",
    "def test_lm_studio_endpoints():\n",
    "    base_url = \"http://127.0.0.1:1234\"\n",
    "    \n",
    "    print(\"=== LM Studio 엔드포인트 테스트 ===\\n\")\n",
    "    \n",
    "    # 1. GET /v1/models - 모델 목록 조회\n",
    "    try:\n",
    "        response = requests.get(f\"{base_url}/v1/models\")\n",
    "        print(\"1. 모델 목록 조회 (GET /v1/models):\")\n",
    "        print(f\"   상태: {response.status_code}\")\n",
    "        if response.status_code == 200:\n",
    "            models = response.json()\n",
    "            print(f\"   로드된 모델들: {[m['id'] for m in models['data']]}\")\n",
    "        print()\n",
    "    except Exception as e:\n",
    "        print(f\"   에러: {e}\\n\")\n",
    "    \n",
    "    # 2. POST /v1/chat/completions - 채팅\n",
    "    try:\n",
    "        chat_data = {\n",
    "            \"model\": \"qwen3-1.7b\",  # 실제 모델명으로 변경하세요\n",
    "            \"messages\": [\n",
    "                {\"role\": \"user\", \"content\": \"안녕하세요! 간단히 인사해주세요.\"}\n",
    "            ],\n",
    "            \"max_tokens\": 50\n",
    "        }\n",
    "        \n",
    "        response = requests.post(\n",
    "            f\"{base_url}/v1/chat/completions\",\n",
    "            headers={\"Content-Type\": \"application/json\"},\n",
    "            json=chat_data\n",
    "        )\n",
    "        \n",
    "        print(\"2. 채팅 (POST /v1/chat/completions):\")\n",
    "        print(f\"   상태: {response.status_code}\")\n",
    "        if response.status_code == 200:\n",
    "            result = response.json()\n",
    "            print(f\"   응답: {result['choices'][0]['message']['content']}\")\n",
    "        print()\n",
    "        \n",
    "    except Exception as e:\n",
    "        print(f\"   에러: {e}\\n\")\n",
    "\n",
    "# 함수 실행 (LM Studio가 실행 중일 때만)\n",
    "# test_lm_studio_endpoints()\n"
   ]
  },
  {
   "cell_type": "markdown",
   "metadata": {},
   "source": [
    "### llm 캐쉬하기"
   ]
  },
  {
   "cell_type": "code",
   "execution_count": 71,
   "metadata": {},
   "outputs": [
    {
     "data": {
      "text/plain": [
       "AIMessage(content='사랑이란 사람들 사이에서 깊은 감정과 연민, 이해와 배려를 바탕으로 하는 특별한 감정을 말합니다. 이는 서로를 아끼고 존중하며, 함께하는 시간 속에서 행복과 위로를 느끼게 하는 힘이기도 합니다. 사랑은 가족, 친구, 연인 등 다양한 관계에서 나타날 수 있으며, 각 사람에게 다르게 다가올 수 있지만, 공통적으로 따뜻함과 연결감을 주는 중요한 인간의 감정입니다.', additional_kwargs={'refusal': None}, response_metadata={'token_usage': {'completion_tokens': 107, 'prompt_tokens': 15, 'total_tokens': 122, 'completion_tokens_details': {'accepted_prediction_tokens': 0, 'audio_tokens': 0, 'reasoning_tokens': 0, 'rejected_prediction_tokens': 0}, 'prompt_tokens_details': {'audio_tokens': 0, 'cached_tokens': 0}}, 'model_name': 'gpt-4.1-nano-2025-04-14', 'system_fingerprint': 'fp_38343a2f8f', 'id': 'chatcmpl-BjyfuYfpHANyJF0zMmeDcFo8sjx22', 'service_tier': 'default', 'finish_reason': 'stop', 'logprobs': None}, id='run--5f476e09-973f-4a16-ba3a-fd848358b2b6-0', usage_metadata={'input_tokens': 15, 'output_tokens': 107, 'total_tokens': 122, 'input_token_details': {'audio': 0, 'cache_read': 0}, 'output_token_details': {'audio': 0, 'reasoning': 0}})"
      ]
     },
     "execution_count": 71,
     "metadata": {},
     "output_type": "execute_result"
    }
   ],
   "source": [
    "from langchain.cache import InMemoryCache\n",
    "from langchain.globals import set_llm_cache\n",
    "\n",
    "llm = set_model()\n",
    "set_llm_cache(InMemoryCache())\n",
    "answer = llm.invoke('사랑이란 무엇일까요?')\n",
    "answer"
   ]
  },
  {
   "cell_type": "markdown",
   "metadata": {},
   "source": [
    "### 0초 레전드"
   ]
  },
  {
   "cell_type": "code",
   "execution_count": 72,
   "metadata": {},
   "outputs": [
    {
     "data": {
      "text/plain": [
       "AIMessage(content='사랑이란 사람들 사이에서 깊은 감정과 연민, 이해와 배려를 바탕으로 하는 특별한 감정을 말합니다. 이는 서로를 아끼고 존중하며, 함께하는 시간 속에서 행복과 위로를 느끼게 하는 힘이기도 합니다. 사랑은 가족, 친구, 연인 등 다양한 관계에서 나타날 수 있으며, 각 사람에게 다르게 다가올 수 있지만, 공통적으로 따뜻함과 연결감을 주는 중요한 인간의 감정입니다.', additional_kwargs={'refusal': None}, response_metadata={'token_usage': {'completion_tokens': 107, 'prompt_tokens': 15, 'total_tokens': 122, 'completion_tokens_details': {'accepted_prediction_tokens': 0, 'audio_tokens': 0, 'reasoning_tokens': 0, 'rejected_prediction_tokens': 0}, 'prompt_tokens_details': {'audio_tokens': 0, 'cached_tokens': 0}}, 'model_name': 'gpt-4.1-nano-2025-04-14', 'system_fingerprint': 'fp_38343a2f8f', 'id': 'chatcmpl-BjyfuYfpHANyJF0zMmeDcFo8sjx22', 'service_tier': 'default', 'finish_reason': 'stop', 'logprobs': None}, id='run--5f476e09-973f-4a16-ba3a-fd848358b2b6-0', usage_metadata={'input_tokens': 15, 'output_tokens': 107, 'total_tokens': 122, 'input_token_details': {'audio': 0, 'cache_read': 0}, 'output_token_details': {'audio': 0, 'reasoning': 0}})"
      ]
     },
     "execution_count": 72,
     "metadata": {},
     "output_type": "execute_result"
    }
   ],
   "source": [
    "answer = llm.invoke('사랑이란 무엇일까요?')\n",
    "answer"
   ]
  },
  {
   "cell_type": "markdown",
   "metadata": {},
   "source": [
    "### sqlite로 저장해서 쓸 수도 있다~"
   ]
  },
  {
   "cell_type": "code",
   "execution_count": 76,
   "metadata": {},
   "outputs": [
    {
     "data": {
      "text/plain": [
       "AIMessage(content='메이플은 주로 \"메이플스토리\"라는 온라인 캐주얼 MMORPG(대규모 다중 사용자 온라인 역할 수행 게임)를 가리키는 말입니다. 메이플스토리는 넥슨이 개발하고 서비스하는 게임으로, 2003년에 처음 출시되었으며, 귀여운 그래픽과 다양한 캐릭터, 퀘스트, 몬스터, 아이템 등을 특징으로 합니다. 플레이어는 다양한 직업군 중 하나를 선택하여 캐릭터를 성장시키고, 친구들과 함께 파티를 구성하거나 길드 활동을 즐기며 게임 세계를 탐험할 수 있습니다. \\n\\n이 외에도 \"메이플\"이라는 단어는 메이플 나무(단풍나무) 또는 메이플 시럽 등 다른 의미로도 사용될 수 있지만, 일반적으로는 온라인 게임 \"메이플스토리\"를 의미하는 경우가 많습니다.', additional_kwargs={'refusal': None}, response_metadata={'token_usage': {'completion_tokens': 195, 'prompt_tokens': 16, 'total_tokens': 211, 'completion_tokens_details': {'accepted_prediction_tokens': 0, 'audio_tokens': 0, 'reasoning_tokens': 0, 'rejected_prediction_tokens': 0}, 'prompt_tokens_details': {'audio_tokens': 0, 'cached_tokens': 0}}, 'model_name': 'gpt-4.1-nano-2025-04-14', 'system_fingerprint': 'fp_f12167b370', 'id': 'chatcmpl-BjyutNJ6TRxBlIsmJM68qUhvyvM5R', 'service_tier': 'default', 'finish_reason': 'stop', 'logprobs': None}, id='run--2c0500d5-4981-42e9-96c2-078bad97aa50-0', usage_metadata={'input_tokens': 16, 'output_tokens': 195, 'total_tokens': 211, 'input_token_details': {'audio': 0, 'cache_read': 0}, 'output_token_details': {'audio': 0, 'reasoning': 0}})"
      ]
     },
     "execution_count": 76,
     "metadata": {},
     "output_type": "execute_result"
    }
   ],
   "source": [
    "from langchain.cache import SQLiteCache\n",
    "from langchain.globals import set_llm_cache\n",
    "\n",
    "set_llm_cache(SQLiteCache(database_path = r'C:\\Users\\roaco\\Desktop\\프로젝트들 정리하기\\github\\answer_db\\langchain.db'))\n",
    "answer = llm.invoke('메이플이란 무엇일까요?')\n",
    "answer"
   ]
  },
  {
   "cell_type": "code",
   "execution_count": 77,
   "metadata": {},
   "outputs": [
    {
     "data": {
      "text/plain": [
       "AIMessage(content='메이플은 주로 \"메이플스토리\"라는 온라인 캐주얼 MMORPG(대규모 다중 사용자 온라인 역할 수행 게임)를 가리키는 말입니다. 메이플스토리는 넥슨이 개발하고 서비스하는 게임으로, 2003년에 처음 출시되었으며, 귀여운 그래픽과 다양한 캐릭터, 퀘스트, 몬스터, 아이템 등을 특징으로 합니다. 플레이어는 다양한 직업군 중 하나를 선택하여 캐릭터를 성장시키고, 친구들과 함께 파티를 구성하거나 길드 활동을 즐기며 게임 세계를 탐험할 수 있습니다. \\n\\n이 외에도 \"메이플\"이라는 단어는 메이플 나무(단풍나무) 또는 메이플 시럽 등 다른 의미로도 사용될 수 있지만, 일반적으로는 온라인 게임 \"메이플스토리\"를 의미하는 경우가 많습니다.', additional_kwargs={'refusal': None}, response_metadata={'token_usage': {'completion_tokens': 195, 'prompt_tokens': 16, 'total_tokens': 211, 'completion_tokens_details': {'accepted_prediction_tokens': 0, 'audio_tokens': 0, 'reasoning_tokens': 0, 'rejected_prediction_tokens': 0}, 'prompt_tokens_details': {'audio_tokens': 0, 'cached_tokens': 0}}, 'model_name': 'gpt-4.1-nano-2025-04-14', 'system_fingerprint': 'fp_f12167b370', 'id': 'chatcmpl-BjyutNJ6TRxBlIsmJM68qUhvyvM5R', 'service_tier': 'default', 'finish_reason': 'stop', 'logprobs': None}, id='run--2c0500d5-4981-42e9-96c2-078bad97aa50-0', usage_metadata={'input_tokens': 16, 'output_tokens': 195, 'total_tokens': 211, 'input_token_details': {'audio': 0, 'cache_read': 0}, 'output_token_details': {'audio': 0, 'reasoning': 0}})"
      ]
     },
     "execution_count": 77,
     "metadata": {},
     "output_type": "execute_result"
    }
   ],
   "source": [
    "answer = llm.invoke('메이플이란 무엇일까요?')\n",
    "answer"
   ]
  },
  {
   "cell_type": "markdown",
   "metadata": {},
   "source": [
    "### 직렬화하기, 저장가능한 형식으로 모델을 저장하는 목적"
   ]
  },
  {
   "cell_type": "code",
   "execution_count": 79,
   "metadata": {},
   "outputs": [],
   "source": [
    "pt = PromptTemplate(\n",
    "    template=''' {question}은 무엇인가요? '''\n",
    "    , input_variables = ['question']\n",
    ")\n",
    "\n"
   ]
  },
  {
   "cell_type": "markdown",
   "metadata": {},
   "source": [
    "### 직렬화 여부 체크하기"
   ]
  },
  {
   "cell_type": "code",
   "execution_count": 83,
   "metadata": {},
   "outputs": [
    {
     "name": "stdout",
     "output_type": "stream",
     "text": [
      "True\n",
      "True\n",
      "True\n"
     ]
    }
   ],
   "source": [
    "print(ChatOpenAI.is_lc_serializable())\n",
    "print(pt.is_lc_serializable())\n",
    "chain = pt | llm \n",
    "print(chain.is_lc_serializable())\n"
   ]
  },
  {
   "cell_type": "markdown",
   "metadata": {},
   "source": [
    "### 체인이 이뤄지는 요소는 디게 많잖슴, 이때 이러한 정보를 다 쭉 넣고 직렬화를 시켜두면 딕셔너리타입으로 나옴"
   ]
  },
  {
   "cell_type": "code",
   "execution_count": 84,
   "metadata": {},
   "outputs": [
    {
     "data": {
      "text/plain": [
       "{'lc': 1,\n",
       " 'type': 'constructor',\n",
       " 'id': ['langchain', 'schema', 'runnable', 'RunnableSequence'],\n",
       " 'kwargs': {'first': {'lc': 1,\n",
       "   'type': 'constructor',\n",
       "   'id': ['langchain', 'prompts', 'prompt', 'PromptTemplate'],\n",
       "   'kwargs': {'input_variables': ['question'],\n",
       "    'template': ' {question}은 무엇인가요? ',\n",
       "    'template_format': 'f-string'},\n",
       "   'name': 'PromptTemplate'},\n",
       "  'last': {'lc': 1,\n",
       "   'type': 'constructor',\n",
       "   'id': ['langchain', 'chat_models', 'openai', 'ChatOpenAI'],\n",
       "   'kwargs': {'model_name': 'gpt-4.1-nano-2025-04-14',\n",
       "    'temperature': 0.2,\n",
       "    'openai_api_key': {'lc': 1, 'type': 'secret', 'id': ['OPENAI_API_KEY']}},\n",
       "   'name': 'ChatOpenAI'}},\n",
       " 'name': 'RunnableSequence'}"
      ]
     },
     "execution_count": 84,
     "metadata": {},
     "output_type": "execute_result"
    }
   ],
   "source": [
    "from langchain_core.load import dumpd, dumps \n",
    "\n",
    "dumps_chain = dumpd(chain)\n",
    "dumps_chain"
   ]
  },
  {
   "cell_type": "code",
   "execution_count": 85,
   "metadata": {},
   "outputs": [
    {
     "data": {
      "text/plain": [
       "dict"
      ]
     },
     "execution_count": 85,
     "metadata": {},
     "output_type": "execute_result"
    }
   ],
   "source": [
    "type(dumps_chain)"
   ]
  },
  {
   "cell_type": "markdown",
   "metadata": {},
   "source": [
    "### dumps는 그냥 문자열로 저장함 "
   ]
  },
  {
   "cell_type": "code",
   "execution_count": 86,
   "metadata": {},
   "outputs": [
    {
     "data": {
      "text/plain": [
       "'{\"lc\": 1, \"type\": \"constructor\", \"id\": [\"langchain\", \"schema\", \"runnable\", \"RunnableSequence\"], \"kwargs\": {\"first\": {\"lc\": 1, \"type\": \"constructor\", \"id\": [\"langchain\", \"prompts\", \"prompt\", \"PromptTemplate\"], \"kwargs\": {\"input_variables\": [\"question\"], \"template\": \" {question}\\\\uc740 \\\\ubb34\\\\uc5c7\\\\uc778\\\\uac00\\\\uc694? \", \"template_format\": \"f-string\"}, \"name\": \"PromptTemplate\"}, \"last\": {\"lc\": 1, \"type\": \"constructor\", \"id\": [\"langchain\", \"chat_models\", \"openai\", \"ChatOpenAI\"], \"kwargs\": {\"model_name\": \"gpt-4.1-nano-2025-04-14\", \"temperature\": 0.2, \"openai_api_key\": {\"lc\": 1, \"type\": \"secret\", \"id\": [\"OPENAI_API_KEY\"]}}, \"name\": \"ChatOpenAI\"}}, \"name\": \"RunnableSequence\"}'"
      ]
     },
     "execution_count": 86,
     "metadata": {},
     "output_type": "execute_result"
    }
   ],
   "source": [
    "str_chain = dumps(chain)\n",
    "str_chain"
   ]
  },
  {
   "cell_type": "code",
   "execution_count": 87,
   "metadata": {},
   "outputs": [
    {
     "data": {
      "text/plain": [
       "str"
      ]
     },
     "execution_count": 87,
     "metadata": {},
     "output_type": "execute_result"
    }
   ],
   "source": [
    "type(str_chain)"
   ]
  },
  {
   "cell_type": "markdown",
   "metadata": {},
   "source": [
    "### pcikle은 파이썬객체를 바이너리 형태로 직렬화하는 포맷인데 이거 써서 할거읾... 대신 다른언어랑 호환은 안됨 역직렬화시엔 주의해야함 보안적 요소~"
   ]
  },
  {
   "cell_type": "code",
   "execution_count": 88,
   "metadata": {},
   "outputs": [],
   "source": [
    "import pickle \n",
    "\n",
    "with open('answer_chain.pkl','wb') as f:\n",
    "    pickle.dump(dumps_chain,f)\n",
    "    "
   ]
  },
  {
   "cell_type": "markdown",
   "metadata": {},
   "source": [
    "### 실행을 안할 거지만 json도 마찬가지로 저장가능하다~"
   ]
  },
  {
   "cell_type": "code",
   "execution_count": 91,
   "metadata": {},
   "outputs": [],
   "source": [
    "import json \n",
    "with open('answer_chain.json', 'w') as fp:\n",
    "    json.dump(dumps_chain, fp)\n"
   ]
  },
  {
   "cell_type": "markdown",
   "metadata": {},
   "source": [
    "### 불러오기 "
   ]
  },
  {
   "cell_type": "code",
   "execution_count": 92,
   "metadata": {},
   "outputs": [
    {
     "data": {
      "text/plain": [
       "{'lc': 1,\n",
       " 'type': 'constructor',\n",
       " 'id': ['langchain', 'schema', 'runnable', 'RunnableSequence'],\n",
       " 'kwargs': {'first': {'lc': 1,\n",
       "   'type': 'constructor',\n",
       "   'id': ['langchain', 'prompts', 'prompt', 'PromptTemplate'],\n",
       "   'kwargs': {'input_variables': ['question'],\n",
       "    'template': ' {question}은 무엇인가요? ',\n",
       "    'template_format': 'f-string'},\n",
       "   'name': 'PromptTemplate'},\n",
       "  'last': {'lc': 1,\n",
       "   'type': 'constructor',\n",
       "   'id': ['langchain', 'chat_models', 'openai', 'ChatOpenAI'],\n",
       "   'kwargs': {'model_name': 'gpt-4.1-nano-2025-04-14',\n",
       "    'temperature': 0.2,\n",
       "    'openai_api_key': {'lc': 1, 'type': 'secret', 'id': ['OPENAI_API_KEY']}},\n",
       "   'name': 'ChatOpenAI'}},\n",
       " 'name': 'RunnableSequence'}"
      ]
     },
     "execution_count": 92,
     "metadata": {},
     "output_type": "execute_result"
    }
   ],
   "source": [
    "import pickle \n",
    "\n",
    "with open('answer_chain.pkl','rb') as f:\n",
    "    load_chain = pickle.load(f)\n",
    "load_chain"
   ]
  },
  {
   "cell_type": "code",
   "execution_count": 93,
   "metadata": {},
   "outputs": [
    {
     "data": {
      "text/plain": [
       "{'lc': 1,\n",
       " 'type': 'constructor',\n",
       " 'id': ['langchain', 'schema', 'runnable', 'RunnableSequence'],\n",
       " 'kwargs': {'first': {'lc': 1,\n",
       "   'type': 'constructor',\n",
       "   'id': ['langchain', 'prompts', 'prompt', 'PromptTemplate'],\n",
       "   'kwargs': {'input_variables': ['question'],\n",
       "    'template': ' {question}은 무엇인가요? ',\n",
       "    'template_format': 'f-string'},\n",
       "   'name': 'PromptTemplate'},\n",
       "  'last': {'lc': 1,\n",
       "   'type': 'constructor',\n",
       "   'id': ['langchain', 'chat_models', 'openai', 'ChatOpenAI'],\n",
       "   'kwargs': {'model_name': 'gpt-4.1-nano-2025-04-14',\n",
       "    'temperature': 0.2,\n",
       "    'openai_api_key': {'lc': 1, 'type': 'secret', 'id': ['OPENAI_API_KEY']}},\n",
       "   'name': 'ChatOpenAI'}},\n",
       " 'name': 'RunnableSequence'}"
      ]
     },
     "execution_count": 93,
     "metadata": {},
     "output_type": "execute_result"
    }
   ],
   "source": [
    "import json \n",
    "with open('answer_chain.json', 'r') as f:\n",
    "    load_json = json.load(f)\n",
    "load_json"
   ]
  },
  {
   "cell_type": "markdown",
   "metadata": {},
   "source": [
    "### 이렇게 로드하면 되는데 바로 모델 부르네? 엮인거 전부 제이슨으로 잘 저장해서 불러오는 걸 알았다~"
   ]
  },
  {
   "cell_type": "code",
   "execution_count": 94,
   "metadata": {},
   "outputs": [
    {
     "name": "stderr",
     "output_type": "stream",
     "text": [
      "C:\\Users\\roaco\\AppData\\Local\\Temp\\ipykernel_17912\\2609559767.py:3: LangChainBetaWarning: The function `load` is in beta. It is actively being worked on, so the API may change.\n",
      "  chain_from = load(load_chain)\n"
     ]
    },
    {
     "data": {
      "text/plain": [
       "AIMessage(content='메이플은 대한민국의 온라인 게임인 \"메이플스토리\"를 줄여 부르는 말입니다. 메이플스토리(MapleStory)는 넥슨이 개발하고 서비스하는 2D 사이드 스크롤 MMORPG(대규모 다중 사용자 온라인 역할 수행 게임)로, 2003년 처음 출시되었습니다. 이 게임은 귀여운 캐릭터와 다양한 직업, 방대한 퀘스트, 커뮤니티 요소로 많은 인기를 끌었으며, 전 세계적으로 많은 팬을 보유하고 있습니다. 플레이어는 다양한 캐릭터를 육성하며 몬스터를 사냥하거나 아이템을 수집하는 등 여러 활동을 즐길 수 있습니다.', additional_kwargs={'refusal': None}, response_metadata={'token_usage': {'completion_tokens': 150, 'prompt_tokens': 16, 'total_tokens': 166, 'completion_tokens_details': {'accepted_prediction_tokens': 0, 'audio_tokens': 0, 'reasoning_tokens': 0, 'rejected_prediction_tokens': 0}, 'prompt_tokens_details': {'audio_tokens': 0, 'cached_tokens': 0}}, 'model_name': 'gpt-4.1-nano-2025-04-14', 'system_fingerprint': 'fp_38343a2f8f', 'id': 'chatcmpl-BjzKVw0WavQNsuXzgzgPmQm21bfDY', 'service_tier': 'default', 'finish_reason': 'stop', 'logprobs': None}, id='run--45fa6b99-44d1-475a-86f7-da4bb6a70e29-0', usage_metadata={'input_tokens': 16, 'output_tokens': 150, 'total_tokens': 166, 'input_token_details': {'audio': 0, 'cache_read': 0}, 'output_token_details': {'audio': 0, 'reasoning': 0}})"
      ]
     },
     "execution_count": 94,
     "metadata": {},
     "output_type": "execute_result"
    }
   ],
   "source": [
    "from langchain_core.load import load\n",
    "\n",
    "chain_from = load(load_chain)\n",
    "\n",
    "chain_from.invoke({'question':'메이플'})"
   ]
  },
  {
   "cell_type": "markdown",
   "metadata": {},
   "source": [
    "### 토큰 사용량 보기 "
   ]
  },
  {
   "cell_type": "code",
   "execution_count": 95,
   "metadata": {},
   "outputs": [
    {
     "name": "stdout",
     "output_type": "stream",
     "text": [
      "Tokens Used: 23\n",
      "\tPrompt Tokens: 15\n",
      "\t\tPrompt Tokens Cached: 0\n",
      "\tCompletion Tokens: 8\n",
      "\t\tReasoning Tokens: 0\n",
      "Successful Requests: 1\n",
      "Total Cost (USD): $4.700000000000001e-06\n"
     ]
    }
   ],
   "source": [
    "from langchain.callbacks import get_openai_callback \n",
    "\n",
    "with get_openai_callback() as cb:\n",
    "    result = llm.invoke('대한민국의 수도는 어디야?')\n",
    "    print(cb)\n"
   ]
  },
  {
   "cell_type": "markdown",
   "metadata": {},
   "source": [
    "### 제미니도 한번 써보자"
   ]
  },
  {
   "cell_type": "code",
   "execution_count": 99,
   "metadata": {},
   "outputs": [
    {
     "name": "stdout",
     "output_type": "stream",
     "text": [
      "사랑은 참 복잡하고 다층적인 감정이라 한마디로 정의하기는 어렵지만, 여러 측면에서 설명해 볼 수 있을 것 같아요. \n",
      "\n",
      "**1. 감정적 측면:**\n",
      "\n",
      "*   **애정:** 누군가에게 깊은 애착을 느끼고, 그 사람을 소중하게 생각하며 아끼는 마음입니다.\n",
      "*   **헌신:** 상대방을 위해 기꺼이 희생하고 헌신하려는 마음입니다. 어려움 속에서도 함께하고 지지하며, 상대방의 행복을 우선시하는 태도를 보입니다.\n",
      "*   **공감:** 상대방의 감정을 이해하고 함께 느끼는 능력입니다. 기쁨과 슬픔을 함께 나누고, 어려움을 겪을 때 진심으로 공감하며 위로합니다.\n",
      "*   **존경:** 상대방의 인격, 가치관, 능력 등을 존중하고 존경하는 마음입니다. 상호 존중은 건강한 관계의 중요한 기반이 됩니다.\n",
      "*   **끌림:** 육체적, 정신적으로 서로에게 끌리는 감정입니다. 설렘과 두근거림을 느끼고, 함께 시간을 보내고 싶어 합니다.\n",
      "\n",
      "**2. 행동적 측면:**\n",
      "\n",
      "*   **돌봄:** 상대방을 보살피고 챙기는 행동입니다. 필요한 것을 제공하고, 어려움을 겪을 때 도움을 주며, 편안함을 느낄 수 있도록 배려합니다.\n",
      "*   **지지:** 상대방의 꿈과 목표를 응원하고 지지하는 행동입니다. 용기를 북돋아주고, 어려움을 극복할 수 있도록 격려하며, 성공을 함께 기뻐합니다.\n",
      "*   **소통:** 솔직하고 진솔하게 마음을 나누는 행동입니다. 서로의 생각과 감정을 공유하고, 오해를 풀고, 갈등을 해결해 나갑니다.\n",
      "*   **함께하는 시간:** 함께 시간을 보내고 추억을 만드는 행동입니다. 데이트를 하거나, 취미를 공유하거나, 여행을 떠나는 등 다양한 활동을 통해 관계를 돈독하게 합니다.\n",
      "*   **인정:** 상대방의 존재를 인정하고 가치를 부여하는 행동입니다. 칭찬과 격려를 아끼지 않고, 작은 부분이라도 고마움을 표현하며, 상대방의 노력을 알아줍니다.\n",
      "\n",
      "**3. 사랑의 종류:**\n",
      "\n",
      "사랑은 대상과 관계의 특성에 따라 다양한 형태로 나타납니다.\n",
      "\n",
      "*   **자기애 (Self-love):** 자신을 사랑하고 존중하는 마음입니다.\n",
      "*   **가족애 (Familial love):** 가족 구성원 간의 사랑입니다.\n",
      "*   **우정 (Friendship):** 친구 간의 사랑입니다.\n",
      "*   **낭만적인 사랑 (Romantic love):** 연인 간의 사랑입니다.\n",
      "*   **플라토닉 사랑 (Platonic love):** 육체적인 욕망이 없는 정신적인 사랑입니다.\n",
      "*   **이타적인 사랑 (Altruistic love):** 타인의 행복을 위해 헌신하는 사랑입니다.\n",
      "\n",
      "**4. 사랑에 대한 다양한 관점:**\n",
      "\n",
      "*   **생물학적 관점:** 사랑은 번식을 위한 본능적인 욕구에서 비롯된다고 봅니다.\n",
      "*   **심리학적 관점:** 사랑은 애착, 친밀감, 헌신 등 다양한 심리적 요소들의 복합적인 작용이라고 봅니다.\n",
      "*   **사회학적 관점:** 사랑은 사회적, 문화적 규범과 가치관에 영향을 받는다고 봅니다.\n",
      "\n",
      "사랑은 주관적인 경험이기 때문에 사람마다 다르게 정의할 수 있습니다. 중요한 것은 자신에게 진정으로 의미 있는 사랑을 경험하고, 건강하고 행복한 관계를 만들어나가는 것입니다.\n",
      "\n",
      "혹시 더 궁금한 점이 있다면 언제든지 물어보세요!"
     ]
    }
   ],
   "source": [
    "from langchain_google_genai import ChatGoogleGenerativeAI\n",
    "\n",
    "llm = ChatGoogleGenerativeAI(model = 'gemini-2.0-flash', temperature=0.8)\n",
    "\n",
    "answer = llm.stream('사랑이란 뭔지 설명해줘')\n",
    "\n",
    "for token in answer:\n",
    "    print(token.content, end = '' , flush= True)\n"
   ]
  },
  {
   "cell_type": "markdown",
   "metadata": {},
   "source": [
    "### 로컬 모델 호스팅하기"
   ]
  },
  {
   "cell_type": "code",
   "execution_count": 105,
   "metadata": {},
   "outputs": [
    {
     "name": "stdout",
     "output_type": "stream",
     "text": [
      "\n"
     ]
    }
   ],
   "source": [
    "from langchain_huggingface import HuggingFaceEndpoint\n",
    "\n",
    "# 사용할 모델의 저장소 ID를 설정합니다.\n",
    "repo_id = \"microsoft/Phi-3-mini-4k-instruct\"\n",
    "\n",
    "llm = HuggingFaceEndpoint(\n",
    "    repo_id=repo_id,  # 모델 저장소 ID를 지정합니다.\n",
    "    max_new_tokens=256,  # 생성할 최대 토큰 길이를 설정합니다.\n",
    "    temperature=0.1,\n",
    "    task=\"text-generation\",\n",
    "    huggingfacehub_api_token=os.environ[\"HUGGINGFACEHUB_API_TOKEN\"],  # 허깅페이스 토큰\n",
    ")\n",
    "\n",
    "prompt = PromptTemplate.from_template('{question}에 대해서 한국어로 답변해주세요')\n",
    "# LLMChain을 초기화하고 프롬프트와 언어 모델을 전달합니다.\n",
    "chain = prompt | llm | StrOutputParser()\n",
    "# 질문을 전달하여 LLMChain을 실행하고 결과를 출력합니다.\n",
    "response = chain.invoke({\"question\": \"what is the capital of South Korea?\"})\n",
    "print(response)"
   ]
  },
  {
   "cell_type": "markdown",
   "metadata": {},
   "source": [
    "### 이건 돈써야해서 안해봤는데 그냥 허깅페이스 들어가서 디플로이 누르면 aws 빌려서 하는 거 대신 해서 서버 열어주고 api 연동 편하다 정도로 끝"
   ]
  },
  {
   "cell_type": "code",
   "execution_count": 107,
   "metadata": {},
   "outputs": [],
   "source": [
    "원래_엔드포인트_주소값이여야함_이거_서버대여해야해서_미안한데_알아서빌려주셈='원래라면주소여야한다니까'\n",
    "\n",
    "llm = HuggingFaceEndpoint(\n",
    "    endpoint_url=원래_엔드포인트_주소값이여야함_이거_서버대여해야해서_미안한데_알아서빌려주셈,\n",
    "    max_new_tokens=512,\n",
    "    temperature= 0,\n",
    "    task='text-generation',\n",
    ")\n",
    "#이뒤는 알제???"
   ]
  },
  {
   "cell_type": "markdown",
   "metadata": {},
   "source": [
    "### ggev 파일을 원하는 걸 받으셈 이후에 그걸 폴더에 넣고, modelfile를 설정하면됨 ollama는!  gguf여도 상관없을거임"
   ]
  },
  {
   "cell_type": "markdown",
   "metadata": {},
   "source": [
    "### 여기서는 양식을 어떻게 지정하는지를 정의할거임, 왜? 다운받는거 솔직히 그냥 cmd 열어서 ollama run 니가원하는모델 하는게 더 빠르고 편리하고 알잘딱깔센인데 이 경우가 아닌 경우 특히 , qwen3같이 현재 기준으로 나온지 얼마안됐다면 이놈들이 걍 템플릿이 없는 경우가 있어서 커스텀하기 불편함, 이경우를 위해 적어둘거임/"
   ]
  },
  {
   "cell_type": "markdown",
   "metadata": {},
   "source": [
    "### 그럼에도 불구하고 어느 모델이든 누군가 올렷다면 그 모델에 알맞게 템플릿파일은 보통 공유가 돼 있으니 작성해보자 "
   ]
  },
  {
   "cell_type": "code",
   "execution_count": 108,
   "metadata": {},
   "outputs": [
    {
     "data": {
      "image/png": "[encoded data removed]",
      "text/plain": [
       "<IPython.core.display.Image object>"
      ]
     },
     "execution_count": 108,
     "metadata": {},
     "output_type": "execute_result"
    }
   ],
   "source": [
    "from IPython.display import Image\n",
    "Image(r\"C:\\Users\\roaco\\Desktop\\potho\\Screenshots\\2025-06\\firefox_f9qnxPgNqa.png\")"
   ]
  },
  {
   "cell_type": "markdown",
   "metadata": {},
   "source": [
    "### 예를 들어 r1이면 템플릿 파일이 저기 있음 "
   ]
  },
  {
   "cell_type": "markdown",
   "metadata": {},
   "source": [
    "{{- if .System }}{{ .System }}{{ end }}\n",
    "{{- range $i, $_ := .Messages }}\n",
    "{{- $last := eq (len (slice $.Messages $i)) 1}}\n",
    "{{- if eq .Role \"user\" }}<｜User｜>{{ .Content }}\n",
    "{{- else if eq .Role \"assistant\" }}<｜Assistant｜>\n",
    "  {{- if and $.IsThinkSet (and $last .Thinking) -}}\n",
    "<think>\n",
    "{{ .Thinking }}\n",
    "</think>\n",
    "{{- end }}{{ .Content }}{{- if not $last }}<｜end▁of▁sentence｜>{{- end }}\n",
    "{{- end }}\n",
    "{{- if and $last (ne .Role \"assistant\") }}<｜Assistant｜>\n",
    "{{- if and $.IsThinkSet (not $.Think) -}}\n",
    "<think>\n",
    "\n",
    "</think>\n",
    "\n",
    "{{ end }}\n",
    "{{- end -}}\n",
    "{{- end }}"
   ]
  },
  {
   "cell_type": "markdown",
   "metadata": {},
   "source": [
    "#### 저렇게 작성돼 있는 걸 보면 얘네가 학습을 어떻게 시켰는지 템플릿이 나와있는거임~ 시스템넣고, 엔드 토큰, 메세지 넣고, 유저일때 입력넣고 이런식으로 학습이 진행됐다는 걸 알 수 있음 이러한 것을 ollama에 맞게 변경해주면 되는 것, 근데 사실 기다리면 어차피 올라오긴 해서 큰 의미는 없을지도??"
   ]
  },
  {
   "cell_type": "markdown",
   "metadata": {},
   "source": [
    "저기 없는 건 \n",
    "PARAMETER stop <s>\n",
    "PARAMETER stop </s>\n",
    "\n",
    "이정도인데 이러한 스페셜 토큰이 없으면 막 계속 죽을 때 까지 생성하도록 ollama는 그런걸로 아는데 그것땜에 이러한 modelfile을 생성해서 관리하는 편, 커스텀이 필요없거나, 이미 잘 돼 있는 모델의 경우에는 필요가 없음 "
   ]
  },
  {
   "cell_type": "markdown",
   "metadata": {},
   "source": [
    "### 그렇게 해서 잘 만들었으면 이렇게 쓰면된다"
   ]
  },
  {
   "cell_type": "code",
   "execution_count": 115,
   "metadata": {},
   "outputs": [
    {
     "name": "stdout",
     "output_type": "stream",
     "text": [
      "<think>\n",
      "Okay, the user is asking for a description of vibration. Let me start by explaining what vibration means in general. I should mention it's a physical phenomenon that occurs in objects moving or changing. Maybe include examples like a pendulum or a spring. I need to explain the different types of vibrations, like harmonic and forced vibrations. Also, mention applications in technology and everyday life. Keep it simple and clear, avoiding technical jargon. Make sure to highlight how vibration is important in various fields.\n",
      "</think>\n",
      "\n",
      "진동은 물리적으로 기존 상태를 유지하는 데 따라 자동으로 전환되는 운동이나 상태를 말합니다. 진동은 물리적 요소(예: 구조물, 시스템, 시스템)에 의해 자동으로 발생하는 흐름이나 변동을 말합니다. \n",
      "\n",
      "### 진동의 기본 개념\n",
      "- **건강 진동**: 기존 상태를 유지하면서 자동으로 전환되는 진동.\n",
      "- **유발 진동**: 외부 요인(예: 힙, 압력)으로 인해 발생하는 진동.\n",
      "\n",
      "### 진동의 유형\n",
      "1. **기존 진동**: 자동으로 전환되는 진동 (예: 봄 시기, 빛이 빛나는 시점).\n",
      "2. **유발 진동**: 외부 요인에 의해 발생하는 진동 (예: 힙, 압력).\n",
      "\n",
      "### 진동의 은의\n",
      "- **기존 진동**: 자동으로 전환되는 운동.\n",
      "- **유발 진동**: 외부 요인에 의해 발생하는 운동.\n",
      "\n",
      "### 진동의 은의\n",
      "- **기존 진동**: 자동으로 전환되는 운동.\n",
      "- **유발 진동**: 외부 요인에 의해 발생하는 운동.\n",
      "\n",
      "### 진동의 은의\n",
      "- **기존 진동**: 자동으로 전환되는 운동.\n",
      "- **유발 진동**: 외부 요인에 의해 발생하는 운동.\n",
      "\n",
      "### 진동의 은의\n",
      "- **기존 진동**: 자동으로 전환되는 운동.\n",
      "- **유발 진동**: 외부 요인에 의해 발생하는 운동."
     ]
    }
   ],
   "source": [
    "from langchain_community.chat_models import ChatOllama\n",
    "\n",
    "llm = ChatOllama(model = 'qwen3:0.6b')\n",
    "\n",
    "prmpt = PromptTemplate(\n",
    "    template='{question}에 대해서 설명해줘',\n",
    "    input_variables=['question'],\n",
    ")\n",
    "\n",
    "chain = prmpt | llm \n",
    "answer = chain.stream({'question':'진동'})\n",
    "for token in answer:\n",
    "    print(token.content, end = '', flush=True)\n"
   ]
  },
  {
   "cell_type": "code",
   "execution_count": null,
   "metadata": {},
   "outputs": [],
   "source": []
  }
 ],
 "metadata": {
  "kernelspec": {
   "display_name": "lmpy",
   "language": "python",
   "name": "python3"
  },
  "language_info": {
   "codemirror_mode": {
    "name": "ipython",
    "version": 3
   },
   "file_extension": ".py",
   "mimetype": "text/x-python",
   "name": "python",
   "nbconvert_exporter": "python",
   "pygments_lexer": "ipython3",
   "version": "3.12.9"
  }
 },
 "nbformat": 4,
 "nbformat_minor": 2
}
