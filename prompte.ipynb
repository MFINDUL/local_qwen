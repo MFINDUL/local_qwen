{
 "cells": [
  {
   "cell_type": "markdown",
   "metadata": {},
   "source": [
    "### 인풋 변수를 반드시 채워줘야함 "
   ]
  },
  {
   "cell_type": "code",
   "execution_count": 1,
   "metadata": {},
   "outputs": [
    {
     "data": {
      "text/plain": [
       "PromptTemplate(input_variables=['person'], input_types={}, partial_variables={}, template=' 당신은 유능한 AV업계의 관리자입니다.\\n#[format] \\n-미카미 유아의 쓰리사이즈는 얼마 인가요? 또한 미카미 유아의 연봉을 알려주세요 \\n-그녀의 신장은 159cm 이며, 쓰리 사이즈는 B:84, W:59, H:88입니다. 그녀의 연봉은 약 3억정도인 것으로 알려져 있습니다.\\n\\n앞선 [format]에 맞게 질문에 답해주세요 {person}의 정보를 알려주세요  \\n')"
      ]
     },
     "execution_count": 1,
     "metadata": {},
     "output_type": "execute_result"
    }
   ],
   "source": [
    "from langchain_core.prompts import PromptTemplate\n",
    "from langchain_openai import ChatOpenAI\n",
    "llm = ChatOpenAI(model='gpt-4.1-nano-2025-04-14', temperature=0.3) \n",
    "\n",
    "pt = PromptTemplate.from_template(''' 당신은 유능한 AV업계의 관리자입니다.\n",
    "#[format] \n",
    "-미카미 유아의 쓰리사이즈는 얼마 인가요? 또한 미카미 유아의 연봉을 알려주세요 \n",
    "-그녀의 신장은 159cm 이며, 쓰리 사이즈는 B:84, W:59, H:88입니다. 그녀의 연봉은 약 3억정도인 것으로 알려져 있습니다.\n",
    "\n",
    "앞선 [format]에 맞게 질문에 답해주세요 {person}의 정보를 알려주세요  \n",
    "''')\n",
    "pt"
   ]
  },
  {
   "cell_type": "markdown",
   "metadata": {},
   "source": [
    "### 중간에 굳이 채우고 싶으면 format을 사용하면 됨, 허나 체인을 만들 때엔 비워져있어야함"
   ]
  },
  {
   "cell_type": "code",
   "execution_count": 2,
   "metadata": {},
   "outputs": [
    {
     "data": {
      "text/plain": [
       "' 당신은 유능한 AV업계의 관리자입니다.\\n#[format] \\n-미카미 유아의 쓰리사이즈는 얼마 인가요? 또한 미카미 유아의 연봉을 알려주세요 \\n-그녀의 신장은 159cm 이며, 쓰리 사이즈는 B:84, W:59, H:88입니다. 그녀의 연봉은 약 3억정도인 것으로 알려져 있습니다.\\n\\n앞선 [format]에 맞게 질문에 답해주세요 미나가와 치하루의 정보를 알려주세요  \\n'"
      ]
     },
     "execution_count": 2,
     "metadata": {},
     "output_type": "execute_result"
    }
   ],
   "source": [
    "pt = pt.format(person = '미나가와 치하루')\n",
    "pt"
   ]
  },
  {
   "cell_type": "code",
   "execution_count": 3,
   "metadata": {},
   "outputs": [
    {
     "ename": "TypeError",
     "evalue": "Expected a Runnable, callable or dict.Instead got an unsupported type: <class 'str'>",
     "output_type": "error",
     "traceback": [
      "\u001b[31m---------------------------------------------------------------------------\u001b[39m",
      "\u001b[31mTypeError\u001b[39m                                 Traceback (most recent call last)",
      "\u001b[36mCell\u001b[39m\u001b[36m \u001b[39m\u001b[32mIn[3]\u001b[39m\u001b[32m, line 11\u001b[39m\n\u001b[32m      1\u001b[39m template = PromptTemplate.from_template(\u001b[33m'''\u001b[39m\u001b[33m 당신은 유능한 AV업계의 관리자입니다.\u001b[39m\n\u001b[32m      2\u001b[39m \u001b[33m#[format] \u001b[39m\n\u001b[32m      3\u001b[39m \u001b[33m-미카미 유아의 쓰리사이즈는 얼마 인가요? 또한 미카미 유아의 연봉을 알려주세요 \u001b[39m\n\u001b[32m   (...)\u001b[39m\u001b[32m      6\u001b[39m \u001b[33m앞선 [format]에 맞게 질문에 답해주세요 \u001b[39m\u001b[38;5;132;01m{person}\u001b[39;00m\u001b[33m의 정보를 알려주세요  \u001b[39m\n\u001b[32m      7\u001b[39m \u001b[33m'''\u001b[39m)\n\u001b[32m      9\u001b[39m template = template.format(person = \u001b[33m'\u001b[39m\u001b[33m미나가와 치하루\u001b[39m\u001b[33m'\u001b[39m)\n\u001b[32m---> \u001b[39m\u001b[32m11\u001b[39m chain = \u001b[43mtemplate\u001b[49m\u001b[43m \u001b[49m\u001b[43m|\u001b[49m\u001b[43m \u001b[49m\u001b[43mllm\u001b[49m\n",
      "\u001b[36mFile \u001b[39m\u001b[32mc:\\Users\\roaco\\anaconda3\\envs\\lmpy\\Lib\\site-packages\\langchain_core\\runnables\\base.py:588\u001b[39m, in \u001b[36mRunnable.__ror__\u001b[39m\u001b[34m(self, other)\u001b[39m\n\u001b[32m    577\u001b[39m \u001b[38;5;28;01mdef\u001b[39;00m\u001b[38;5;250m \u001b[39m\u001b[34m__ror__\u001b[39m(\n\u001b[32m    578\u001b[39m     \u001b[38;5;28mself\u001b[39m,\n\u001b[32m    579\u001b[39m     other: Union[\n\u001b[32m   (...)\u001b[39m\u001b[32m    585\u001b[39m     ],\n\u001b[32m    586\u001b[39m ) -> RunnableSerializable[Other, Output]:\n\u001b[32m    587\u001b[39m \u001b[38;5;250m    \u001b[39m\u001b[33;03m\"\"\"Compose this Runnable with another object to create a RunnableSequence.\"\"\"\u001b[39;00m\n\u001b[32m--> \u001b[39m\u001b[32m588\u001b[39m     \u001b[38;5;28;01mreturn\u001b[39;00m RunnableSequence(\u001b[43mcoerce_to_runnable\u001b[49m\u001b[43m(\u001b[49m\u001b[43mother\u001b[49m\u001b[43m)\u001b[49m, \u001b[38;5;28mself\u001b[39m)\n",
      "\u001b[36mFile \u001b[39m\u001b[32mc:\\Users\\roaco\\anaconda3\\envs\\lmpy\\Lib\\site-packages\\langchain_core\\runnables\\base.py:5929\u001b[39m, in \u001b[36mcoerce_to_runnable\u001b[39m\u001b[34m(thing)\u001b[39m\n\u001b[32m   5924\u001b[39m     \u001b[38;5;28;01mreturn\u001b[39;00m cast(\u001b[33m\"\u001b[39m\u001b[33mRunnable[Input, Output]\u001b[39m\u001b[33m\"\u001b[39m, RunnableParallel(thing))\n\u001b[32m   5925\u001b[39m msg = (\n\u001b[32m   5926\u001b[39m     \u001b[33mf\u001b[39m\u001b[33m\"\u001b[39m\u001b[33mExpected a Runnable, callable or dict.\u001b[39m\u001b[33m\"\u001b[39m\n\u001b[32m   5927\u001b[39m     \u001b[33mf\u001b[39m\u001b[33m\"\u001b[39m\u001b[33mInstead got an unsupported type: \u001b[39m\u001b[38;5;132;01m{\u001b[39;00m\u001b[38;5;28mtype\u001b[39m(thing)\u001b[38;5;132;01m}\u001b[39;00m\u001b[33m\"\u001b[39m\n\u001b[32m   5928\u001b[39m )\n\u001b[32m-> \u001b[39m\u001b[32m5929\u001b[39m \u001b[38;5;28;01mraise\u001b[39;00m \u001b[38;5;167;01mTypeError\u001b[39;00m(msg)\n",
      "\u001b[31mTypeError\u001b[39m: Expected a Runnable, callable or dict.Instead got an unsupported type: <class 'str'>"
     ]
    }
   ],
   "source": [
    "template = PromptTemplate.from_template(''' 당신은 유능한 AV업계의 관리자입니다.\n",
    "#[format] \n",
    "-미카미 유아의 쓰리사이즈는 얼마 인가요? 또한 미카미 유아의 연봉을 알려주세요 \n",
    "-그녀의 신장은 159cm 이며, 쓰리 사이즈는 B:84, W:59, H:88입니다. 그녀의 연봉은 약 3억정도인 것으로 알려져 있습니다.\n",
    "\n",
    "앞선 [format]에 맞게 질문에 답해주세요 {person}의 정보를 알려주세요  \n",
    "''')\n",
    "\n",
    "template = template.format(person = '미나가와 치하루')\n",
    "\n",
    "chain = template | llm\n"
   ]
  },
  {
   "cell_type": "markdown",
   "metadata": {},
   "source": [
    "### 이렇게 "
   ]
  },
  {
   "cell_type": "code",
   "execution_count": 4,
   "metadata": {},
   "outputs": [],
   "source": [
    "template = PromptTemplate.from_template(''' 당신은 지구본을 갖고 있는 지리리학자입니다.\n",
    "{country}는 어디에 위치해 있나요?''')\n",
    "\n",
    "\n",
    "chain = template | llm"
   ]
  },
  {
   "cell_type": "markdown",
   "metadata": {},
   "source": [
    "### 또한 aimessage 객체로 오기 때문에 .content로 값만 들고오거나 str파서를 사용할 수도 있음 "
   ]
  },
  {
   "cell_type": "code",
   "execution_count": 5,
   "metadata": {},
   "outputs": [
    {
     "data": {
      "text/plain": [
       "AIMessage(content='한국은 동아시아에 위치한 반도 국가로, 한반도에 자리잡고 있습니다. 북쪽으로는 북한과 접하며, 남쪽으로는 대한해협을 사이에 두고 일본과 마주보고 있습니다. 서쪽으로는 황해를 경계로 중국과 인접해 있고, 동쪽으로는 동해(일본해)를 접하고 있습니다. 지리적으로는 북위 약 33도에서 43도, 동경 약 124도에서 131도 사이에 위치해 있으며, 주변 해역과 육지로 둘러싸인 반도 국가입니다.', additional_kwargs={'refusal': None}, response_metadata={'token_usage': {'completion_tokens': 129, 'prompt_tokens': 32, 'total_tokens': 161, 'completion_tokens_details': {'accepted_prediction_tokens': 0, 'audio_tokens': 0, 'reasoning_tokens': 0, 'rejected_prediction_tokens': 0}, 'prompt_tokens_details': {'audio_tokens': 0, 'cached_tokens': 0}}, 'model_name': 'gpt-4.1-nano-2025-04-14', 'system_fingerprint': 'fp_38343a2f8f', 'id': 'chatcmpl-BhA8wweU3bMjnbGw2wv686XwrbMHe', 'service_tier': 'default', 'finish_reason': 'stop', 'logprobs': None}, id='run--fe6a38ce-3583-4ddb-9031-242b4e2ed00a-0', usage_metadata={'input_tokens': 32, 'output_tokens': 129, 'total_tokens': 161, 'input_token_details': {'audio': 0, 'cache_read': 0}, 'output_token_details': {'audio': 0, 'reasoning': 0}})"
      ]
     },
     "execution_count": 5,
     "metadata": {},
     "output_type": "execute_result"
    }
   ],
   "source": [
    "chain.invoke({'country':'한국'})"
   ]
  },
  {
   "cell_type": "markdown",
   "metadata": {},
   "source": [
    "### 템플릿 안에 변수를 삽입할 때 매개변수 마냥 기본 값을 줄 순 없을까? "
   ]
  },
  {
   "cell_type": "code",
   "execution_count": 8,
   "metadata": {},
   "outputs": [
    {
     "data": {
      "text/plain": [
       "PromptTemplate(input_variables=['country'], input_types={}, partial_variables={'maple': '빅토리아 아일랜드'}, template='{country}는 어디에 있나요? 또한 {maple}은 어디에 있나요?')"
      ]
     },
     "execution_count": 8,
     "metadata": {},
     "output_type": "execute_result"
    }
   ],
   "source": [
    "template = PromptTemplate(\n",
    "    template='{country}는 어디에 있나요? 또한 {maple}은 어디에 있나요?', \n",
    "    input_variables={'country'},\n",
    "    partial_variables={\n",
    "        'maple':'빅토리아 아일랜드'\n",
    "    },\n",
    "    )\n",
    "template"
   ]
  },
  {
   "cell_type": "code",
   "execution_count": 9,
   "metadata": {},
   "outputs": [
    {
     "data": {
      "text/plain": [
       "AIMessage(content='한국은 동아시아에 위치한 나라로, 한반도에 자리잡고 있습니다. 북쪽으로는 북한과 국경을 접하고 있으며, 남쪽으로는 대한민국이 있습니다. 동쪽으로는 동해(일본해), 서쪽으로는 황해, 남쪽으로는 대한해협을 사이에 두고 일본과 마주하고 있습니다.\\n\\n빅토리아 아일랜드는 오스트레일리아의 빅토리아 주에 속한 섬으로, 오스트레일리아 남동부 해안에 위치해 있습니다. 멜버른에서 가까운 곳에 있으며, 주로 자연 보호 구역과 해변으로 유명합니다.', additional_kwargs={'refusal': None}, response_metadata={'token_usage': {'completion_tokens': 143, 'prompt_tokens': 28, 'total_tokens': 171, 'completion_tokens_details': {'accepted_prediction_tokens': 0, 'audio_tokens': 0, 'reasoning_tokens': 0, 'rejected_prediction_tokens': 0}, 'prompt_tokens_details': {'audio_tokens': 0, 'cached_tokens': 0}}, 'model_name': 'gpt-4.1-nano-2025-04-14', 'system_fingerprint': 'fp_38343a2f8f', 'id': 'chatcmpl-BhABkHvKkgqkVyLIJRDGu0oJreNQs', 'service_tier': 'default', 'finish_reason': 'stop', 'logprobs': None}, id='run--b48106b1-028e-4d99-87fb-1cd465752fe4-0', usage_metadata={'input_tokens': 28, 'output_tokens': 143, 'total_tokens': 171, 'input_token_details': {'audio': 0, 'cache_read': 0}, 'output_token_details': {'audio': 0, 'reasoning': 0}})"
      ]
     },
     "execution_count": 9,
     "metadata": {},
     "output_type": "execute_result"
    }
   ],
   "source": [
    "chain = template | llm \n",
    "chain.invoke({'country':'한국'})"
   ]
  },
  {
   "cell_type": "markdown",
   "metadata": {},
   "source": [
    "### 이렇게도 가능합니다 "
   ]
  },
  {
   "cell_type": "code",
   "execution_count": 10,
   "metadata": {},
   "outputs": [],
   "source": [
    "pt = PromptTemplate.from_template('{item}의 정보를 알려주세요 {chr}도 마찬가지로, 둘 다 메이플 스토리와 연관돼있습니다.'  )"
   ]
  },
  {
   "cell_type": "code",
   "execution_count": 12,
   "metadata": {},
   "outputs": [],
   "source": [
    "pt = pt.partial(item='거대한 공포')"
   ]
  },
  {
   "cell_type": "code",
   "execution_count": 14,
   "metadata": {},
   "outputs": [
    {
     "data": {
      "text/plain": [
       "AIMessage(content='물론입니다. \"거대한 공포의 정보\"와 \"렌도\"는 모두 메이플스토리와 관련된 내용입니다. 아래에 각각에 대한 설명을 드리겠습니다.\\n\\n1. 거대한 공포의 정보 (The Great Fear Information)\\n- \"거대한 공포\"는 메이플스토리 내에서 특정 이벤트 또는 퀘스트와 관련된 용어일 수 있습니다. 또는 게임 내에서 등장하는 강력한 보스 또는 적을 의미할 수도 있습니다.\\n- 만약 특정 퀘스트나 이벤트 이름이라면, 해당 콘텐츠는 플레이어에게 큰 공포와 도전을 주는 강력한 적 또는 스토리라인을 포함하고 있을 가능성이 높습니다.\\n- 예를 들어, 메이플스토리에서는 다양한 공포와 위협을 주는 보스들이 존재하며, 이들은 종종 \"거대한 공포\"라는 이름 또는 컨셉으로 등장할 수 있습니다.\\n\\n2. 렌도 (Lendo)\\n- \"렌도\"는 메이플스토리 내에서 등장하는 강력한 보스 또는 특정 캐릭터일 가능성이 높습니다.\\n- 또는, 렌도라는 이름이 게임 내 특정 이벤트, 던전, 또는 스토리라인과 연관되어 있을 수 있습니다.\\n- 구체적인 정보는 게임 내 업데이트 또는 커뮤니티 자료에서 찾을 수 있으며, 렌도는 강력한 적 또는 중요한 스토리 캐릭터일 가능성이 큽니다.\\n\\n추가로, 메이플스토리의 공식 가이드, 커뮤니티 포럼, 또는 관련 위키 페이지를 참고하시면 더 상세하고 정확한 정보를 얻으실 수 있습니다. 만약 더 구체적인 내용을 원하시면, 관련 퀘스트 이름이나 이벤트 이름 등을 알려주시면 더 도움을 드릴 수 있습니다.', additional_kwargs={'refusal': None}, response_metadata={'token_usage': {'completion_tokens': 386, 'prompt_tokens': 38, 'total_tokens': 424, 'completion_tokens_details': {'accepted_prediction_tokens': 0, 'audio_tokens': 0, 'reasoning_tokens': 0, 'rejected_prediction_tokens': 0}, 'prompt_tokens_details': {'audio_tokens': 0, 'cached_tokens': 0}}, 'model_name': 'gpt-4.1-nano-2025-04-14', 'system_fingerprint': 'fp_38343a2f8f', 'id': 'chatcmpl-BhANE4sPibD5oDHf7dzeLqRCCylE6', 'service_tier': 'default', 'finish_reason': 'stop', 'logprobs': None}, id='run--b98ca240-9c30-47fb-b4ea-14622e522cbb-0', usage_metadata={'input_tokens': 38, 'output_tokens': 386, 'total_tokens': 424, 'input_token_details': {'audio': 0, 'cache_read': 0}, 'output_token_details': {'audio': 0, 'reasoning': 0}})"
      ]
     },
     "execution_count": 14,
     "metadata": {},
     "output_type": "execute_result"
    }
   ],
   "source": [
    "chain = pt | llm \n",
    "chain.invoke({'chr':'렌'})"
   ]
  },
  {
   "cell_type": "markdown",
   "metadata": {},
   "source": [
    "### 덮어씌우는 것도 가능 , 매개변수의 역할임"
   ]
  },
  {
   "cell_type": "code",
   "execution_count": 15,
   "metadata": {},
   "outputs": [
    {
     "data": {
      "text/plain": [
       "AIMessage(content='물론입니다! 메이플스토리에서 \"에테르넬 모자\"와 \"렌도\"는 각각 특정 아이템과 캐릭터 또는 몬스터와 관련이 있습니다. 아래에 자세한 정보를 정리해드릴게요.\\n\\n1. 에테르넬 모자 (Ethereal Nel Hat)\\n- 설명: 에테르넬 모자는 메이플스토리에서 이벤트 또는 특정 콘텐츠에서 얻을 수 있는 희귀한 모자 아이템입니다. 이름에서 알 수 있듯이 \\'에테르\\'라는 신비로운 느낌과 \\'넬\\'이라는 캐릭터 또는 세계관과 연관이 있을 가능성이 높습니다.\\n- 특징: 보통 특별한 능력치 또는 이펙트가 부여되어 있으며, 외형도 독특하고 화려한 디자인을 가지고 있습니다.\\n- 획득 방법: 이벤트 보상, 특정 던전 또는 레이드, 또는 한정 기간 동안 판매되는 아이템일 수 있습니다.\\n\\n2. 렌도 (Lendo 또는 Rend)\\n- 설명: \\'렌도\\'는 메이플스토리 내에서 특정 몬스터 또는 캐릭터 이름일 가능성이 높습니다. 또는 \\'렌도\\'라는 이름이 붙은 아이템 또는 퀘스트와 연관되어 있을 수 있습니다.\\n- 만약 렌도라는 몬스터 또는 캐릭터가 있다면, 그와 관련된 퀘스트 또는 보상, 또는 몬스터 사냥 시 드롭하는 아이템일 수 있습니다.\\n- 또는, \\'렌도\\'가 특정 지역 또는 콘텐츠의 이름일 수도 있습니다.\\n\\n추가 정보:\\n- 메이플스토리의 아이템과 캐릭터는 종종 업데이트와 이벤트에 따라 변경되거나 새롭게 등장하기 때문에, 최신 정보를 원하시면 공식 홈페이지 또는 공식 커뮤니티, 또는 게임 내 아이템 정보를 참고하는 것이 가장 정확합니다.\\n- 만약 더 구체적인 아이템 이름이나 캐릭터 이름이 있다면 알려주시면 더 상세히 도와드릴 수 있습니다.\\n\\n요약하자면:\\n- **에테르넬 모자**: 희귀하거나 이벤트 아이템으로 보이는 모자, 신비롭고 화려한 디자인이 특징.\\n- **렌도**: 특정 몬스터 또는 캐릭터 이름, 또는 관련 콘텐츠 이름일 가능성.\\n\\n추가로 궁금하신 점이 있거나 더 구체적인 정보를 원하시면 말씀해 주세요!', additional_kwargs={'refusal': None}, response_metadata={'token_usage': {'completion_tokens': 518, 'prompt_tokens': 40, 'total_tokens': 558, 'completion_tokens_details': {'accepted_prediction_tokens': 0, 'audio_tokens': 0, 'reasoning_tokens': 0, 'rejected_prediction_tokens': 0}, 'prompt_tokens_details': {'audio_tokens': 0, 'cached_tokens': 0}}, 'model_name': 'gpt-4.1-nano-2025-04-14', 'system_fingerprint': 'fp_f12167b370', 'id': 'chatcmpl-BhAOH5nbSrzkgOIZQ04TnKtfPNJ62', 'service_tier': 'default', 'finish_reason': 'stop', 'logprobs': None}, id='run--cfde5cf5-dd02-4c54-83cb-725af5f09867-0', usage_metadata={'input_tokens': 40, 'output_tokens': 518, 'total_tokens': 558, 'input_token_details': {'audio': 0, 'cache_read': 0}, 'output_token_details': {'audio': 0, 'reasoning': 0}})"
      ]
     },
     "execution_count": 15,
     "metadata": {},
     "output_type": "execute_result"
    }
   ],
   "source": [
    "chain = pt | llm \n",
    "chain.invoke({'chr':'렌', 'item' :'에테르넬 모자'})"
   ]
  },
  {
   "cell_type": "markdown",
   "metadata": {},
   "source": [
    "### 근데 이거 어디다가 쓰냐? 함수를 넣을 수 있기 때문에 유용한거 이땐 매개변수 필요없음, 매개변수 필요한건 뭐다? runnable 그거임"
   ]
  },
  {
   "cell_type": "code",
   "execution_count": 20,
   "metadata": {},
   "outputs": [
    {
     "name": "stdout",
     "output_type": "stream",
     "text": [
      "<function day at 0x000001E6FB874AE0>\n"
     ]
    }
   ],
   "source": [
    "from datetime import datetime\n",
    "def day():\n",
    "    return datetime.now().strftime('%B %d')\n",
    "\n",
    "print(day)"
   ]
  },
  {
   "cell_type": "markdown",
   "metadata": {},
   "source": [
    "### 이거 직접 쓸 때만 호출됨 이 펑션은"
   ]
  },
  {
   "cell_type": "code",
   "execution_count": 21,
   "metadata": {},
   "outputs": [
    {
     "data": {
      "text/plain": [
       "PromptTemplate(input_variables=['n'], input_types={}, partial_variables={'date': 'June 11'}, template='오늘은 {date} 입니다. 이를 기준으로 오늘이 생일인 유명인 {n}명을 찾아주세요')"
      ]
     },
     "execution_count": 21,
     "metadata": {},
     "output_type": "execute_result"
    }
   ],
   "source": [
    "pt = PromptTemplate(\n",
    "    template = '오늘은 {date} 입니다. 이를 기준으로 오늘이 생일인 유명인 {n}명을 찾아주세요'\n",
    "    ,\n",
    "    input_variables={'n'},\n",
    "    partial_variables={\n",
    "        'date':day()},\n",
    "\n",
    ")\n",
    "pt"
   ]
  },
  {
   "cell_type": "code",
   "execution_count": 23,
   "metadata": {},
   "outputs": [
    {
     "data": {
      "text/plain": [
       "'오늘이 6월 11일인 날 생일인 유명인으로는 다음과 같은 인물들이 있습니다:\\n\\n1. 안젤리나 졸리 (Angelina Jolie) - 1975년 6월 4일 출생이지만, 생일이 6월 11일인 유명인으로는 해당 인물이 아니므로 제외됩니다.\\n2. 마이클 J. 폭스 (Michael J. Fox) - 1961년 6월 9일 출생으로, 역시 제외됩니다.\\n3. 헬렌 켈러 (Helen Keller) - 1880년 6월 27일 출생으로, 생일이 아닙니다.\\n4. 조지 클루니 (George Clooney) - 1961년 5월 6일 출생으로, 역시 해당되지 않습니다.\\n\\n실제 6월 11일 생일인 유명인으로는:\\n\\n- 아담 샌들러 (Adam Sandler) - 1966년 9월 9일 (아니고)\\n- 제니퍼 러브 휴잇 (Jennifer Love Hewitt) - 1979년 2월 21일 (아니고)\\n- 마이클 잭슨 (Michael Jackson) - 1958년 8월 29일 (아니고)\\n\\n하지만, 정확히 6월 11일 생일인 유명인으로는 다음이 있습니다:\\n\\n**1. 토니 블레어 (Tony Blair)** - 1953년 5월 6일 (아니고)\\n**2. 레이디 가가 (Lady Gaga)** - 1986년 3월 28일 (아니고)\\n**3. 마이클 J. 폭스 (Michael J. Fox)** - 1961년 6월 9일 (아니고)\\n**4. 조지 클루니 (George Clooney)** - 1961년 5월 6일 (아니고)\\n\\n이처럼, 6월 11일 생일인 유명인으로는 다음과 같습니다:\\n\\n- **이반 바실레비치 (Ivan Vasilievich)** - 1930년 6월 11일 (러시아 배우)\\n- **이반 드 라 파예르 (Ivan de la Pagerie)** - 1763년 6월 11일 (프랑스의 인물)\\n\\n하지만, 국제적으로 널리 알려진 유명인 중 6월 11일이 생일인 인물은 상대적으로 적습니다.\\n\\n---\\n\\n**요약:**  \\n오늘이 6월 11일인 날 생일인 유명인으로는  \\n- **이반 바실레비치 (Ivan Vasilievich)** (러시아 배우, 1930년 6월 11일)  \\n- **이반 드 라 파예르 (Ivan de la Pagerie)** (프랑스 인물, 1763년 6월 11일)  \\n\\n이외에 널리 알려진 인물은 많지 않습니다.  \\n\\n혹시 더 구체적인 분야(연예인, 역사인물 등)로 검색을 원하시면 알려주세요!'"
      ]
     },
     "execution_count": 23,
     "metadata": {},
     "output_type": "execute_result"
    }
   ],
   "source": [
    "chain = pt |llm \n",
    "chain.invoke({'n':'4'}).content"
   ]
  },
  {
   "cell_type": "markdown",
   "metadata": {},
   "source": [
    "### 프롬프트가 너무 길어지면 파일로 관리해야함 이를 위해선?"
   ]
  },
  {
   "cell_type": "markdown",
   "metadata": {},
   "source": [
    "### yaml 작성법"
   ]
  },
  {
   "cell_type": "raw",
   "metadata": {},
   "source": [
    "_type : 'prompt'\n",
    "template : | 이거 안쓰면 여러줄로 못씀 \n",
    "  두칸 들여쓰기하고나서 시작 \n",
    "  {country}에 대해서 설명해주세요 양식은 다음과 같습니다.\n",
    "  [양식]\n",
    "  1.어쩌구저쩌구\n",
    "  2.어쩌구저쩌구\n",
    "  #answer : \n",
    "input_variables : ['country']"
   ]
  },
  {
   "cell_type": "markdown",
   "metadata": {},
   "source": [
    "### 만들었다면 읽어와봅시다. , 몇가지 팁이 있다면 모든 역할을 수행하려는 괴물같은 템플릿은 없는 게 낫고, 작은 단위로 문제를 분할하는 게 낫습니다~"
   ]
  },
  {
   "cell_type": "code",
   "execution_count": 25,
   "metadata": {},
   "outputs": [
    {
     "data": {
      "text/plain": [
       "PromptTemplate(input_variables=['country'], input_types={}, partial_variables={}, template='{country}에 대해서 설명해주세요 양식은 다음과 같습니다.\\n[양식]\\n1.지리적인 위치를 알려주세요\\n2.문화를 알려주세요\\n3.모든 설명은 20글자 내외여야합니다.\\n#answer : \\n')"
      ]
     },
     "execution_count": 25,
     "metadata": {},
     "output_type": "execute_result"
    }
   ],
   "source": [
    "from langchain_core.prompts import load_prompt \n",
    "\n",
    "pt = load_prompt('pt.yaml')\n",
    "pt"
   ]
  },
  {
   "cell_type": "code",
   "execution_count": 26,
   "metadata": {},
   "outputs": [
    {
     "data": {
      "text/plain": [
       "AIMessage(content='1. 동아시아 한반도에 위치합니다.  \\n2. 전통과 현대가 조화된 문화입니다.  \\n3. 한글과 한식이 유명합니다.', additional_kwargs={'refusal': None}, response_metadata={'token_usage': {'completion_tokens': 38, 'prompt_tokens': 60, 'total_tokens': 98, 'completion_tokens_details': {'accepted_prediction_tokens': 0, 'audio_tokens': 0, 'reasoning_tokens': 0, 'rejected_prediction_tokens': 0}, 'prompt_tokens_details': {'audio_tokens': 0, 'cached_tokens': 0}}, 'model_name': 'gpt-4.1-nano-2025-04-14', 'system_fingerprint': 'fp_38343a2f8f', 'id': 'chatcmpl-BhAjR9mXgaF3AGUbQObCBLPz841ew', 'service_tier': 'default', 'finish_reason': 'stop', 'logprobs': None}, id='run--bc75bf1c-c687-467b-8e91-49a9bcc6c464-0', usage_metadata={'input_tokens': 60, 'output_tokens': 38, 'total_tokens': 98, 'input_token_details': {'audio': 0, 'cache_read': 0}, 'output_token_details': {'audio': 0, 'reasoning': 0}})"
      ]
     },
     "execution_count": 26,
     "metadata": {},
     "output_type": "execute_result"
    }
   ],
   "source": [
    "chain = pt | llm \n",
    "chain.invoke({'country':'한국'})"
   ]
  },
  {
   "cell_type": "code",
   "execution_count": null,
   "metadata": {},
   "outputs": [],
   "source": []
  }
 ],
 "metadata": {
  "kernelspec": {
   "display_name": "lmpy",
   "language": "python",
   "name": "python3"
  },
  "language_info": {
   "codemirror_mode": {
    "name": "ipython",
    "version": 3
   },
   "file_extension": ".py",
   "mimetype": "text/x-python",
   "name": "python",
   "nbconvert_exporter": "python",
   "pygments_lexer": "ipython3",
   "version": "3.12.9"
  }
 },
 "nbformat": 4,
 "nbformat_minor": 2
}
