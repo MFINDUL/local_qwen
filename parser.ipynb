{
 "cells": [
  {
   "cell_type": "code",
   "execution_count": 3,
   "metadata": {},
   "outputs": [],
   "source": [
    "from langchain_core.messages.chat import ChatMessage\n",
    "from langchain_openai import ChatOpenAI\n",
    "from langchain_core.prompts import ChatPromptTemplate\n",
    "from langchain_core.prompts import load_prompt \n",
    "from dotenv import load_dotenv\n",
    "from langchain_text_splitters import RecursiveCharacterTextSplitter\n",
    "from langchain_community.document_loaders import PyMuPDFLoader\n",
    "from langchain_community.vectorstores import FAISS\n",
    "from langchain_core.output_parsers import StrOutputParser\n",
    "from langchain_core.runnables import RunnablePassthrough,RunnableLambda\n",
    "from langchain_core.prompts import PromptTemplate\n",
    "from langchain_openai import ChatOpenAI, OpenAIEmbeddings\n",
    "from utils.utils import set_model,setstate\n",
    "import tempfile\n",
    "import os \n",
    "from utils.utils import *\n",
    "\n",
    "from langchain.output_parsers import PandasDataFrameOutputParser \n",
    "\n"
   ]
  },
  {
   "cell_type": "code",
   "execution_count": 4,
   "metadata": {},
   "outputs": [
    {
     "data": {
      "text/plain": [
       "True"
      ]
     },
     "execution_count": 4,
     "metadata": {},
     "output_type": "execute_result"
    }
   ],
   "source": [
    "load_dotenv()\n",
    "\n",
    "\n"
   ]
  },
  {
   "cell_type": "markdown",
   "metadata": {},
   "source": [
    "# 파서를 통해 우리가 지정한 형식 , 스키마 형태로 데이터를 받아올 수 있다. 이 점이 좋은 건 내가 번역기 만들었을 때 무슨 번역이 필요하신가요 같은 쓸데없는 주석땜에 고생한거 해결해줄 수 있을 것 같다. "
   ]
  },
  {
   "cell_type": "code",
   "execution_count": 11,
   "metadata": {},
   "outputs": [],
   "source": [
    "blood_born = '''\n",
    "[Entry Log: August 2, 1999]\n",
    "***The hunter's first Encounter with the Doll***\n",
    "The doll:  Welcome home, good hunter, what is it your desire?\n",
    "인형: 어서오세요, 사냥꾼님, 무엇을 소망하시나요?\n",
    "The Hunter remains silent, simply watching her.\n",
    "그는 아무 말도 하지 않고, 그저 그녀를 바라보았다. \n",
    "The doll: May you find your worth in the waking world\n",
    "인형: 깨어난 세상에서 가치를 찾으시길\n",
    "And with that, The Hunter gives a silent nod, then vanishes from his dream.\n",
    "사냥꾼은 말없이 고개를 끄덕이고는, 그의 꿈에서 자취를 감추었다.\n",
    " '''"
   ]
  },
  {
   "cell_type": "code",
   "execution_count": 12,
   "metadata": {},
   "outputs": [
    {
     "name": "stdout",
     "output_type": "stream",
     "text": [
      "중요한 내용 요약:\n",
      "\n",
      "1. 날짜: 1999년 8월 2일\n",
      "2. 사건: 사냥꾼과 인형(드롤) 간의 첫 만남\n",
      "3. 인형의 인사: \"환영합니다, 사냥꾼님, 무엇을 소망하시나요?\"\n",
      "4. 사냥꾼은 침묵하며 인형을 관찰함\n",
      "5. 인형의 희망 메시지: \"깨어난 세상에서 가치를 찾으시길\"\n",
      "6. 사냥꾼은 말없이 고개를 끄덕이고 꿈에서 사라짐\n",
      "\n",
      "이 내용은 사냥꾼과 인형의 첫 만남과 인형이 전하는 메시지, 그리고 사냥꾼의 침묵과 떠남을 보여줍니다."
     ]
    }
   ],
   "source": [
    "from itertools import chain\n",
    "from langchain_core.prompts import PromptTemplate\n",
    "\n",
    "prompt = PromptTemplate.from_template(\n",
    "    \"다음의 대사 중 중요한 내용을 추출해 주세요.\\n\\n{blood_born}\"\n",
    ")\n",
    "\n",
    "llm = set_model()\n",
    "\n",
    "chain = prompt | llm\n",
    "\n",
    "answer = chain.stream({\"blood_born\": blood_born})\n",
    "temp = ''\n",
    "for token in answer :\n",
    "    print(token.content,end = '',flush=True)"
   ]
  },
  {
   "cell_type": "code",
   "execution_count": 63,
   "metadata": {},
   "outputs": [],
   "source": [
    "from pydantic import BaseModel, Field\n",
    "from langchain_core.output_parsers import PydanticOutputParser\n",
    "class bloodSummary(BaseModel):\n",
    "    person: str = Field(description=\"대사를 한 사람\")\n",
    "    sex : str = Field(description=\"대사를 한 사람의 성별\")\n",
    "    subject: str = Field(description=\"상황의 제목\")\n",
    "    summary: str = Field(description=\"상황을 요약한 내용\")\n",
    "    date: str = Field(description=\"현재 상황 속 날짜\")\n",
    "\n",
    "\n",
    "# PydanticOutputParser 생성\n",
    "parser = PydanticOutputParser(pydantic_object=bloodSummary)"
   ]
  },
  {
   "cell_type": "markdown",
   "metadata": {},
   "source": [
    "## 이런것처럼, 실제로 걍 프롬프트에 적어주기만 해도 되긴 함 ㅇㅇ"
   ]
  },
  {
   "cell_type": "code",
   "execution_count": 15,
   "metadata": {},
   "outputs": [
    {
     "name": "stdout",
     "output_type": "stream",
     "text": [
      "The output should be formatted as a JSON instance that conforms to the JSON schema below.\n",
      "\n",
      "As an example, for the schema {\"properties\": {\"foo\": {\"title\": \"Foo\", \"description\": \"a list of strings\", \"type\": \"array\", \"items\": {\"type\": \"string\"}}}, \"required\": [\"foo\"]}\n",
      "the object {\"foo\": [\"bar\", \"baz\"]} is a well-formatted instance of the schema. The object {\"properties\": {\"foo\": [\"bar\", \"baz\"]}} is not well-formatted.\n",
      "\n",
      "Here is the output schema:\n",
      "```\n",
      "{\"properties\": {\"person\": {\"description\": \"대사를 한 사람\", \"title\": \"Person\", \"type\": \"string\"}, \"sex\": {\"description\": \"대사를 한 사람의 성별\", \"title\": \"Sex\", \"type\": \"string\"}, \"subject\": {\"description\": \"상황의 제목\", \"title\": \"Subject\", \"type\": \"string\"}, \"summary\": {\"description\": \"상황을 요약한 내용\", \"title\": \"Summary\", \"type\": \"string\"}, \"date\": {\"description\": \"현재 상황 속 날짜\", \"title\": \"Date\", \"type\": \"string\"}}, \"required\": [\"person\", \"sex\", \"subject\", \"summary\", \"date\"]}\n",
      "```\n"
     ]
    }
   ],
   "source": [
    "print(parser.get_format_instructions())"
   ]
  },
  {
   "cell_type": "code",
   "execution_count": 16,
   "metadata": {},
   "outputs": [],
   "source": [
    "prompts = PromptTemplate.from_template('''\n",
    "    당신은 친절한 도우미입니다. 다음 질문에 한국어로 답변해주세요 \n",
    "    Qustion:\n",
    "    {question}\n",
    "    blood_borns:\n",
    "    {blood_born}\n",
    "                                       \n",
    "    format:\n",
    "    {format}\n",
    "                                       \n",
    "                                       \n",
    "''')\n",
    "\n",
    "prompt = prompts.partial(format = parser.get_format_instructions())\n"
   ]
  },
  {
   "cell_type": "code",
   "execution_count": 17,
   "metadata": {},
   "outputs": [],
   "source": [
    "chain = prompt | llm "
   ]
  },
  {
   "cell_type": "code",
   "execution_count": 30,
   "metadata": {},
   "outputs": [
    {
     "name": "stdout",
     "output_type": "stream",
     "text": [
      "{\"person\": \"인형\", \"sex\": \"여성\", \"subject\": \"대사 중 주요 내용\", \"summary\": \"인형이 사냥꾼에게 환영하며 소망을 묻고, 깨어난 세상에서 가치를 찾기를 바라는 메시지를 전달하는 대화입니다. 사냥꾼은 말을 하지 않고 그녀를 바라보다가 조용히 고개를 끄덕이고 꿈에서 사라집니다.\", \"date\": \"1999년 8월 2일\"}"
     ]
    }
   ],
   "source": [
    "response = chain.stream({'question':'대사 중 주요한 내용은 무엇이었나요?', 'blood_born':blood_born})\n",
    "temp  = ''\n",
    "for token in response:\n",
    "    print(token.content , end = '' ,flush=True )\n",
    "    temp += token.content"
   ]
  },
  {
   "cell_type": "markdown",
   "metadata": {},
   "source": [
    "## 이렇게 쓰거나, 아님 걍 인보크해서 전부 불러오거나."
   ]
  },
  {
   "cell_type": "code",
   "execution_count": 53,
   "metadata": {},
   "outputs": [
    {
     "name": "stdout",
     "output_type": "stream",
     "text": [
      "현재 temp 변수 내용:\n",
      "{\"person\": \"인형\", \"sex\": \"여성\", \"subject\": \"대사 중 주요 내용\", \"summary\": \"인형이 사냥꾼에게 환영하며 소망을 묻고, 깨어난 세상에서 가치를 찾기를 바라는 메시지를 전달하는 대화입니다. 사냥꾼은 말을 하지 않고 그녀를 바라보다가 조용히 고개를 끄덕이고 꿈에서 사라집니다.\", \"date\": \"1999년 8월 2일\"}\n",
      "\n",
      "JSON 파싱 성공!\n",
      "딕셔너리: {'person': '인형', 'sex': '여성', 'subject': '대사 중 주요 내용', 'summary': '인형이 사냥꾼에게 환영하며 소망을 묻고, 깨어난 세상에서 가치를 찾기를 바라는 메시지를 전달하는 대화입니다. 사냥꾼은 말을 하지 않고 그녀를 바라보다가 조용히 고개를 끄덕이고 꿈에서 사라집니다.', 'date': '1999년 8월 2일'}\n",
      "타입: <class 'dict'>\n",
      "\n",
      "대사한 사람: 인형\n",
      "성별: 여성\n",
      "제목: 대사 중 주요 내용\n",
      "요약: 인형이 사냥꾼에게 환영하며 소망을 묻고, 깨어난 세상에서 가치를 찾기를 바라는 메시지를 전달하는 대화입니다. 사냥꾼은 말을 하지 않고 그녀를 바라보다가 조용히 고개를 끄덕이고 꿈에서 사라집니다.\n",
      "날짜: 1999년 8월 2일\n"
     ]
    }
   ],
   "source": [
    "\n",
    "# 현재 temp에 있는 JSON 문자열을 딕셔너리로 변환하는 방법\n",
    "import json\n",
    "\n",
    "print(\"현재 temp 변수 내용:\")\n",
    "print(temp)\n",
    "\n",
    "# JSON 문자열을 딕셔너리로 변환\n",
    "try:\n",
    "    temp_dict = json.loads(temp)\n",
    "    print(\"\\nJSON 파싱 성공!\")\n",
    "    print(\"딕셔너리:\", temp_dict)\n",
    "    print(\"타입:\", type(temp_dict))\n",
    "    \n",
    "    # 각 필드 접근\n",
    "    print(f\"\\n대사한 사람: {temp_dict['person']}\")\n",
    "    print(f\"성별: {temp_dict['sex']}\")\n",
    "    print(f\"제목: {temp_dict['subject']}\")\n",
    "    print(f\"요약: {temp_dict['summary']}\")\n",
    "    print(f\"날짜: {temp_dict['date']}\")\n",
    "    \n",
    "except json.JSONDecodeError as e:\n",
    "    print(f\"JSON 파싱 실패: {e}\")\n",
    "    print(\"문자열이 완전한 JSON이 아닐 수 있습니다.\")"
   ]
  },
  {
   "cell_type": "markdown",
   "metadata": {},
   "source": [
    "## 가 아니라 이렇게 파서를 쓰면 알아서 객체로 바꿔줌 "
   ]
  },
  {
   "cell_type": "code",
   "execution_count": 55,
   "metadata": {},
   "outputs": [],
   "source": [
    "structured_output = parser.parse(temp)"
   ]
  },
  {
   "cell_type": "code",
   "execution_count": 58,
   "metadata": {},
   "outputs": [
    {
     "data": {
      "text/plain": [
       "'인형'"
      ]
     },
     "execution_count": 58,
     "metadata": {},
     "output_type": "execute_result"
    }
   ],
   "source": [
    "structured_output.person\n"
   ]
  },
  {
   "cell_type": "markdown",
   "metadata": {},
   "source": [
    "## 그니까 따로 쓰지말고 걍 체인에 엮어버리는 거"
   ]
  },
  {
   "cell_type": "code",
   "execution_count": 59,
   "metadata": {},
   "outputs": [],
   "source": [
    "\n",
    "chain = prompt | llm | parser "
   ]
  },
  {
   "cell_type": "code",
   "execution_count": 64,
   "metadata": {},
   "outputs": [],
   "source": [
    "response = chain.invoke({'question':'대사 중 주요한 내용은 무엇이었나요?', 'blood_born':blood_born})\n",
    "    "
   ]
  },
  {
   "cell_type": "code",
   "execution_count": 65,
   "metadata": {},
   "outputs": [
    {
     "data": {
      "text/plain": [
       "'인형과 사냥꾼'"
      ]
     },
     "execution_count": 65,
     "metadata": {},
     "output_type": "execute_result"
    }
   ],
   "source": [
    "response.person"
   ]
  },
  {
   "cell_type": "markdown",
   "metadata": {},
   "source": [
    "## 혹은 모델을 선언할 때 붙여버릴 수도 있다.\n"
   ]
  },
  {
   "cell_type": "code",
   "execution_count": 67,
   "metadata": {},
   "outputs": [],
   "source": [
    "llm_structed = llm = ChatOpenAI(\n",
    "        temperature= 0.2,\n",
    "        model= 'gpt-4.1-nano-2025-04-14',\n",
    "    ).with_structured_output(bloodSummary)\n",
    "# 얘는 스트림 기능을 지원하진 않음 "
   ]
  },
  {
   "cell_type": "code",
   "execution_count": 68,
   "metadata": {},
   "outputs": [],
   "source": [
    "answer = llm_structed.invoke(blood_born)\n"
   ]
  },
  {
   "cell_type": "code",
   "execution_count": 69,
   "metadata": {},
   "outputs": [
    {
     "data": {
      "text/plain": [
       "'사냥꾼'"
      ]
     },
     "execution_count": 69,
     "metadata": {},
     "output_type": "execute_result"
    }
   ],
   "source": [
    "answer.person"
   ]
  },
  {
   "cell_type": "code",
   "execution_count": 70,
   "metadata": {},
   "outputs": [
    {
     "data": {
      "text/plain": [
       "'알 수 없음'"
      ]
     },
     "execution_count": 70,
     "metadata": {},
     "output_type": "execute_result"
    }
   ],
   "source": [
    "answer.sex"
   ]
  },
  {
   "cell_type": "markdown",
   "metadata": {},
   "source": [
    "## commaseparetedparseroutputparser"
   ]
  },
  {
   "cell_type": "code",
   "execution_count": 71,
   "metadata": {},
   "outputs": [],
   "source": [
    "from langchain_core.output_parsers import CommaSeparatedListOutputParser\n",
    "\n",
    "cparser = CommaSeparatedListOutputParser()\n",
    "\n",
    "format_instruc = cparser.get_format_instructions()"
   ]
  },
  {
   "cell_type": "markdown",
   "metadata": {},
   "source": [
    "## 얘도 결국 지침일 뿐인데 라이브러리화 시켜둔거 "
   ]
  },
  {
   "cell_type": "code",
   "execution_count": 72,
   "metadata": {},
   "outputs": [
    {
     "name": "stdout",
     "output_type": "stream",
     "text": [
      "Your response should be a list of comma separated values, eg: `foo, bar, baz` or `foo,bar,baz`\n"
     ]
    }
   ],
   "source": [
    "print(format_instruc)"
   ]
  },
  {
   "cell_type": "code",
   "execution_count": 77,
   "metadata": {},
   "outputs": [],
   "source": [
    "prompt2 = PromptTemplate(\n",
    "    template='list five {subject}. \\n {format_instruc}',\n",
    "    input_variables= ['subject'], # 입력 이걸로받고 \n",
    "    partial_variables= {'format_instruc':format_instruc}, \n",
    "    #채워질 변수는 없다면 얘로 넣어두고, 위에 프린트한대로 들어가겠음 따로 변수를 넣지 않는다면 \n",
    ")\n",
    "\n",
    "model = set_model()\n",
    "\n",
    "chain2 = prompt2 | model | cparser\n",
    "# 엮기만했지 아직 변수를 넣진 않고 순서대로 -> -> 넘김 \n"
   ]
  },
  {
   "cell_type": "code",
   "execution_count": 78,
   "metadata": {},
   "outputs": [],
   "source": [
    "answer = chain2.invoke({'subject':'백일몽의 청사진 속 등장인물의 시대적 배경'})"
   ]
  },
  {
   "cell_type": "markdown",
   "metadata": {},
   "source": [
    "## 뭔 이상한 소리를 적어뒀지만 여튼 리스트 형태로 잘 반환됐음"
   ]
  },
  {
   "cell_type": "code",
   "execution_count": 79,
   "metadata": {},
   "outputs": [
    {
     "data": {
      "text/plain": [
       "['조선시대', '현대 대한민국', '일제강점기', '1980년대', '미래 도시']"
      ]
     },
     "execution_count": 79,
     "metadata": {},
     "output_type": "execute_result"
    }
   ],
   "source": [
    "answer "
   ]
  },
  {
   "cell_type": "code",
   "execution_count": 82,
   "metadata": {},
   "outputs": [
    {
     "data": {
      "image/png": "[encoded data removed]",
      "text/plain": [
       "<IPython.core.display.Image object>"
      ]
     },
     "execution_count": 82,
     "metadata": {},
     "output_type": "execute_result"
    }
   ],
   "source": [
    "from IPython.display import Image\n",
    "Image(r\"C:\\Users\\roaco\\OneDrive\\사진\\스크린샷\\스크린샷 2025-06-16 135210.png\")"
   ]
  },
  {
   "cell_type": "markdown",
   "metadata": {},
   "source": [
    "## 원칙상 stream 기능을 쓸거라면 아웃풋 파서를 안쓰는게 맞긴하다!"
   ]
  },
  {
   "cell_type": "code",
   "execution_count": 83,
   "metadata": {},
   "outputs": [
    {
     "name": "stdout",
     "output_type": "stream",
     "text": [
      "['조선시대']['현대 대한민국']['일제강점기']['1980년대']['미래 도시']"
     ]
    }
   ],
   "source": [
    "answer = chain2.stream({'subject':'백일몽의 청사진 속 등장인물의 시대적 배경'})\n",
    "\n",
    "for token in answer:\n",
    "    print(token, end = '' , flush= True)\n",
    "    "
   ]
  },
  {
   "cell_type": "markdown",
   "metadata": {},
   "source": [
    "## gpt 말고 로컬을 쓰는 경우도 존재하므로 dict 형식으로 리턴하는 다른 얘도 있음 , structured 아웃풋파서 pydantic/json이 더 잘되는데 이게 좀 모자란 모델 쓸 때는 이게 낫다라는 얘기임"
   ]
  },
  {
   "cell_type": "code",
   "execution_count": 5,
   "metadata": {},
   "outputs": [],
   "source": [
    "\n",
    "\n",
    "from langchain.output_parsers import ResponseSchema, StructuredOutputParser"
   ]
  },
  {
   "cell_type": "code",
   "execution_count": 86,
   "metadata": {},
   "outputs": [],
   "source": [
    "responese_schemas = [\n",
    "    ResponseSchema(name='answer',description='사용자 질문에 대한 답변'),\n",
    "    ResponseSchema(\n",
    "        name = 'source',\n",
    "        description= '사용자 질문에 답하기 위해 사용한 출처, 웹사이트 주소여야 합니다.'\n",
    "\n",
    "    ),\n",
    "\n",
    "]\n",
    "\n",
    "oparser = StructuredOutputParser.from_response_schemas(responese_schemas)\n"
   ]
  },
  {
   "cell_type": "code",
   "execution_count": 87,
   "metadata": {},
   "outputs": [
    {
     "data": {
      "text/plain": [
       "StructuredOutputParser(response_schemas=[ResponseSchema(name='answer', description='사용자 질문에 대한 답변', type='string'), ResponseSchema(name='source', description='사용자 질문에 답하기 위해 사용한 출처, 웹사이트 주소여야 합니다.', type='string')])"
      ]
     },
     "execution_count": 87,
     "metadata": {},
     "output_type": "execute_result"
    }
   ],
   "source": [
    "oparser"
   ]
  },
  {
   "cell_type": "code",
   "execution_count": 92,
   "metadata": {},
   "outputs": [],
   "source": [
    "fromat_instructed = oparser.get_format_instructions()\n",
    "\n",
    "prompt3 = PromptTemplate(\n",
    "    template='유저의 질문에 최선을 다해 답하세요 \\n{fromat_instructed} \\n {question}',\n",
    "    input_variables= ['question'], # 입력변수는 퀘스천 \n",
    "    partial_variables={'fromat_instructed':fromat_instructed},\n",
    "    # 미리 채워넣을거 이거 따로 입력 안하면 이걸로 채워짐 \n",
    ")\n",
    "\n",
    "chain3 = prompt3 | model | oparser \n"
   ]
  },
  {
   "cell_type": "code",
   "execution_count": 93,
   "metadata": {},
   "outputs": [
    {
     "data": {
      "text/plain": [
       "{'answer': '6월 16일에 생일인 유명인으로는 미국의 배우 조지 클루니(George Clooney)가 있습니다.',\n",
       " 'source': 'https://en.wikipedia.org/wiki/June_16'}"
      ]
     },
     "execution_count": 93,
     "metadata": {},
     "output_type": "execute_result"
    }
   ],
   "source": [
    "answer = chain3.invoke({'question':'6월16일이 생인인 유명인은 누가 있나요?'})\n",
    "answer "
   ]
  },
  {
   "cell_type": "code",
   "execution_count": 94,
   "metadata": {},
   "outputs": [
    {
     "name": "stdout",
     "output_type": "stream",
     "text": [
      "input_variables=['question'] input_types={} partial_variables={'fromat_instructed': 'The output should be a markdown code snippet formatted in the following schema, including the leading and trailing \"```json\" and \"```\":\\n\\n```json\\n{\\n\\t\"answer\": string  // 사용자 질문에 대한 답변\\n\\t\"source\": string  // 사용자 질문에 답하기 위해 사용한 출처, 웹사이트 주소여야 합니다.\\n}\\n```'} template='유저의 질문에 최선을 다해 답하세요 \\n{fromat_instructed} \\n {question}'\n"
     ]
    }
   ],
   "source": [
    "print(prompt3)"
   ]
  },
  {
   "cell_type": "code",
   "execution_count": 95,
   "metadata": {},
   "outputs": [
    {
     "name": "stdout",
     "output_type": "stream",
     "text": [
      "response_schemas=[ResponseSchema(name='answer', description='사용자 질문에 대한 답변', type='string'), ResponseSchema(name='source', description='사용자 질문에 답하기 위해 사용한 출처, 웹사이트 주소여야 합니다.', type='string')]\n"
     ]
    }
   ],
   "source": [
    "print(oparser)"
   ]
  },
  {
   "cell_type": "code",
   "execution_count": 97,
   "metadata": {},
   "outputs": [
    {
     "data": {
      "text/plain": [
       "'https://en.wikipedia.org/wiki/June_16'"
      ]
     },
     "execution_count": 97,
     "metadata": {},
     "output_type": "execute_result"
    }
   ],
   "source": [
    "answer['source']"
   ]
  },
  {
   "cell_type": "markdown",
   "metadata": {},
   "source": [
    "## json 아웃풋 파서는 내가 원하는 json 스키마를 지정할 수 있음, 답변을 json형태로 받게할 수 있다~ 정도로 요약 , 사용자가 원하는 형태의 json 되기 위해서면 좀 모델의 용량이 커야함 "
   ]
  },
  {
   "cell_type": "markdown",
   "metadata": {},
   "source": [
    "### 구조 정의하기 앞선 거랑 뭐 똑같음 "
   ]
  },
  {
   "cell_type": "code",
   "execution_count": 116,
   "metadata": {},
   "outputs": [],
   "source": [
    "from langchain_core.output_parsers import JsonOutputParser\n",
    "from langchain_core.pydantic_v1 import BaseModel,Field \n",
    "\n",
    "class mapleSummary(BaseModel):\n",
    "    person: str = Field(description=\"대상 캐릭터의 이름\")\n",
    "    sex : str = Field(description=\"대상 캐릭터의 성별\")\n",
    "    job : str = Field(description=\"대상 캐릭터의 직업\")\n",
    "    lavel :str = Field(description=\"대상 캐릭터의 레벨\")\n",
    "    from_maple_gg :str = Field(description=\"대상 캐릭터의 정보 출처 예시 : https://maple.gg/\")\n",
    "\n"
   ]
  },
  {
   "cell_type": "code",
   "execution_count": 117,
   "metadata": {},
   "outputs": [],
   "source": [
    "question = '엘리시움 서버:ICT공학 캐릭터의 정보를 알려주세요'\n",
    "oparser = JsonOutputParser(pydantic_object=mapleSummary)\n",
    " "
   ]
  },
  {
   "cell_type": "code",
   "execution_count": 118,
   "metadata": {},
   "outputs": [
    {
     "name": "stdout",
     "output_type": "stream",
     "text": [
      "pydantic_object=<class '__main__.mapleSummary'>\n"
     ]
    }
   ],
   "source": [
    "print(oparser)"
   ]
  },
  {
   "cell_type": "code",
   "execution_count": null,
   "metadata": {},
   "outputs": [],
   "source": []
  },
  {
   "cell_type": "code",
   "execution_count": 119,
   "metadata": {},
   "outputs": [],
   "source": [
    "prompt_maple = PromptTemplate(\n",
    "    template= '''당신은 메이플스토리 출시부터 지금까지 데이터베이스를 구축한 사람입니다. 질문에 답해주세요 \n",
    "    또한 반드시 출처를 포함해주세요\n",
    "    question:\n",
    "    {question}\n",
    "\n",
    "    format:\n",
    "    {format}     \n",
    "     ''' \n",
    ")\n",
    "\n",
    "pt_maple = prompt_maple.partial(format=oparser.get_format_instructions())\n"
   ]
  },
  {
   "cell_type": "code",
   "execution_count": 120,
   "metadata": {},
   "outputs": [
    {
     "data": {
      "text/plain": [
       "PromptTemplate(input_variables=['question'], input_types={}, partial_variables={'format': 'The output should be formatted as a JSON instance that conforms to the JSON schema below.\\n\\nAs an example, for the schema {\"properties\": {\"foo\": {\"title\": \"Foo\", \"description\": \"a list of strings\", \"type\": \"array\", \"items\": {\"type\": \"string\"}}}, \"required\": [\"foo\"]}\\nthe object {\"foo\": [\"bar\", \"baz\"]} is a well-formatted instance of the schema. The object {\"properties\": {\"foo\": [\"bar\", \"baz\"]}} is not well-formatted.\\n\\nHere is the output schema:\\n```\\n{\"properties\": {\"person\": {\"title\": \"Person\", \"description\": \"대상 캐릭터의 이름\", \"type\": \"string\"}, \"sex\": {\"title\": \"Sex\", \"description\": \"대상 캐릭터의 성별\", \"type\": \"string\"}, \"job\": {\"title\": \"Job\", \"description\": \"대상 캐릭터의 직업\", \"type\": \"string\"}, \"lavel\": {\"title\": \"Lavel\", \"description\": \"대상 캐릭터의 레벨\", \"type\": \"string\"}, \"from_maple_gg\": {\"title\": \"From Maple Gg\", \"description\": \"대상 캐릭터의 정보 출처 예시 : https://maple.gg/\", \"type\": \"string\"}}, \"required\": [\"person\", \"sex\", \"job\", \"lavel\", \"from_maple_gg\"]}\\n```'}, template='당신은 메이플스토리 출시부터 지금까지 데이터베이스를 구축한 사람입니다. 질문에 답해주세요 \\n    또한 반드시 출처를 포함해주세요\\n    question:\\n    {question}\\n\\n    format:\\n    {format}     \\n     ')"
      ]
     },
     "execution_count": 120,
     "metadata": {},
     "output_type": "execute_result"
    }
   ],
   "source": [
    "pt_maple"
   ]
  },
  {
   "cell_type": "code",
   "execution_count": 125,
   "metadata": {},
   "outputs": [],
   "source": [
    "model = ChatOpenAI(model='gpt-4.1-2025-04-14')\n",
    "chain_maple = pt_maple | model | oparser \n"
   ]
  },
  {
   "cell_type": "code",
   "execution_count": 126,
   "metadata": {},
   "outputs": [
    {
     "data": {
      "text/plain": [
       "{'person': 'ICT공학',\n",
       " 'sex': '남자',\n",
       " 'job': '아델',\n",
       " 'lavel': '282',\n",
       " 'from_maple_gg': 'https://maple.gg/character/ICT%EA%B3%B5%ED%95%99'}"
      ]
     },
     "execution_count": 126,
     "metadata": {},
     "output_type": "execute_result"
    }
   ],
   "source": [
    "response = chain_maple.invoke({'question':question}) \n",
    "response"
   ]
  },
  {
   "cell_type": "code",
   "execution_count": 109,
   "metadata": {},
   "outputs": [
    {
     "data": {
      "text/plain": [
       "dict"
      ]
     },
     "execution_count": 109,
     "metadata": {},
     "output_type": "execute_result"
    }
   ],
   "source": [
    "type(response)"
   ]
  },
  {
   "cell_type": "code",
   "execution_count": 111,
   "metadata": {},
   "outputs": [
    {
     "data": {
      "text/plain": [
       "'ICT공학'"
      ]
     },
     "execution_count": 111,
     "metadata": {},
     "output_type": "execute_result"
    }
   ],
   "source": [
    "response['person']\n"
   ]
  },
  {
   "cell_type": "markdown",
   "metadata": {},
   "source": [
    "### 판다스 데이터 프레임 아웃풋 파서라는 것도 있음 \n"
   ]
  },
  {
   "cell_type": "code",
   "execution_count": 127,
   "metadata": {},
   "outputs": [],
   "source": [
    "import pprint\n",
    "from typing import Any, Dict \n",
    "\n",
    "import pandas as pd \n",
    "\n",
    "from langchain.output_parsers import PandasDataFrameOutputParser \n",
    "\n"
   ]
  },
  {
   "cell_type": "code",
   "execution_count": 128,
   "metadata": {},
   "outputs": [],
   "source": [
    "model = set_model()"
   ]
  },
  {
   "cell_type": "code",
   "execution_count": 129,
   "metadata": {},
   "outputs": [],
   "source": [
    "def format_parser_op(parser_output: Dict[str,Any]) -> None:\n",
    "    # 파서 출력 키들을 순회함 \n",
    "    for key in parser_output.keys():\n",
    "        parser_output[key] = parser_output[key].to_dict()\n",
    "\n",
    "    return pprint.PrettyPrinter(width=4, compact=True).pprint(parser_output)\n"
   ]
  },
  {
   "cell_type": "code",
   "execution_count": 131,
   "metadata": {},
   "outputs": [
    {
     "data": {
      "text/html": [
       "<div>\n",
       "<style scoped>\n",
       "    .dataframe tbody tr th:only-of-type {\n",
       "        vertical-align: middle;\n",
       "    }\n",
       "\n",
       "    .dataframe tbody tr th {\n",
       "        vertical-align: top;\n",
       "    }\n",
       "\n",
       "    .dataframe thead th {\n",
       "        text-align: right;\n",
       "    }\n",
       "</style>\n",
       "<table border=\"1\" class=\"dataframe\">\n",
       "  <thead>\n",
       "    <tr style=\"text-align: right;\">\n",
       "      <th></th>\n",
       "      <th>PassengerId</th>\n",
       "      <th>Survived</th>\n",
       "      <th>Pclass</th>\n",
       "      <th>Name</th>\n",
       "      <th>Sex</th>\n",
       "      <th>Age</th>\n",
       "      <th>SibSp</th>\n",
       "      <th>Parch</th>\n",
       "      <th>Ticket</th>\n",
       "      <th>Fare</th>\n",
       "      <th>Cabin</th>\n",
       "      <th>Embarked</th>\n",
       "    </tr>\n",
       "  </thead>\n",
       "  <tbody>\n",
       "    <tr>\n",
       "      <th>0</th>\n",
       "      <td>1</td>\n",
       "      <td>0</td>\n",
       "      <td>3</td>\n",
       "      <td>Braund, Mr. Owen Harris</td>\n",
       "      <td>male</td>\n",
       "      <td>22.0</td>\n",
       "      <td>1</td>\n",
       "      <td>0</td>\n",
       "      <td>A/5 21171</td>\n",
       "      <td>7.2500</td>\n",
       "      <td>NaN</td>\n",
       "      <td>S</td>\n",
       "    </tr>\n",
       "    <tr>\n",
       "      <th>1</th>\n",
       "      <td>2</td>\n",
       "      <td>1</td>\n",
       "      <td>1</td>\n",
       "      <td>Cumings, Mrs. John Bradley (Florence Briggs Th...</td>\n",
       "      <td>female</td>\n",
       "      <td>38.0</td>\n",
       "      <td>1</td>\n",
       "      <td>0</td>\n",
       "      <td>PC 17599</td>\n",
       "      <td>71.2833</td>\n",
       "      <td>C85</td>\n",
       "      <td>C</td>\n",
       "    </tr>\n",
       "    <tr>\n",
       "      <th>2</th>\n",
       "      <td>3</td>\n",
       "      <td>1</td>\n",
       "      <td>3</td>\n",
       "      <td>Heikkinen, Miss. Laina</td>\n",
       "      <td>female</td>\n",
       "      <td>26.0</td>\n",
       "      <td>0</td>\n",
       "      <td>0</td>\n",
       "      <td>STON/O2. 3101282</td>\n",
       "      <td>7.9250</td>\n",
       "      <td>NaN</td>\n",
       "      <td>S</td>\n",
       "    </tr>\n",
       "    <tr>\n",
       "      <th>3</th>\n",
       "      <td>4</td>\n",
       "      <td>1</td>\n",
       "      <td>1</td>\n",
       "      <td>Futrelle, Mrs. Jacques Heath (Lily May Peel)</td>\n",
       "      <td>female</td>\n",
       "      <td>35.0</td>\n",
       "      <td>1</td>\n",
       "      <td>0</td>\n",
       "      <td>113803</td>\n",
       "      <td>53.1000</td>\n",
       "      <td>C123</td>\n",
       "      <td>S</td>\n",
       "    </tr>\n",
       "    <tr>\n",
       "      <th>4</th>\n",
       "      <td>5</td>\n",
       "      <td>0</td>\n",
       "      <td>3</td>\n",
       "      <td>Allen, Mr. William Henry</td>\n",
       "      <td>male</td>\n",
       "      <td>35.0</td>\n",
       "      <td>0</td>\n",
       "      <td>0</td>\n",
       "      <td>373450</td>\n",
       "      <td>8.0500</td>\n",
       "      <td>NaN</td>\n",
       "      <td>S</td>\n",
       "    </tr>\n",
       "  </tbody>\n",
       "</table>\n",
       "</div>"
      ],
      "text/plain": [
       "   PassengerId  Survived  Pclass  \\\n",
       "0            1         0       3   \n",
       "1            2         1       1   \n",
       "2            3         1       3   \n",
       "3            4         1       1   \n",
       "4            5         0       3   \n",
       "\n",
       "                                                Name     Sex   Age  SibSp  \\\n",
       "0                            Braund, Mr. Owen Harris    male  22.0      1   \n",
       "1  Cumings, Mrs. John Bradley (Florence Briggs Th...  female  38.0      1   \n",
       "2                             Heikkinen, Miss. Laina  female  26.0      0   \n",
       "3       Futrelle, Mrs. Jacques Heath (Lily May Peel)  female  35.0      1   \n",
       "4                           Allen, Mr. William Henry    male  35.0      0   \n",
       "\n",
       "   Parch            Ticket     Fare Cabin Embarked  \n",
       "0      0         A/5 21171   7.2500   NaN        S  \n",
       "1      0          PC 17599  71.2833   C85        C  \n",
       "2      0  STON/O2. 3101282   7.9250   NaN        S  \n",
       "3      0            113803  53.1000  C123        S  \n",
       "4      0            373450   8.0500   NaN        S  "
      ]
     },
     "execution_count": 131,
     "metadata": {},
     "output_type": "execute_result"
    }
   ],
   "source": [
    "import pandas as pd \n",
    "\n",
    "df = pd.read_csv(r'C:\\Users\\roaco\\Desktop\\프로젝트들 정리하기\\github\\titanic.csv')\n",
    "df.head()"
   ]
  },
  {
   "cell_type": "code",
   "execution_count": 133,
   "metadata": {},
   "outputs": [
    {
     "name": "stdout",
     "output_type": "stream",
     "text": [
      "The output should be formatted as a string as the operation, followed by a colon, followed by the column or row to be queried on, followed by optional array parameters.\n",
      "1. The column names are limited to the possible columns below.\n",
      "2. Arrays must either be a comma-separated list of numbers formatted as [1,3,5], or it must be in range of numbers formatted as [0..4].\n",
      "3. Remember that arrays are optional and not necessarily required.\n",
      "4. If the column is not in the possible columns or the operation is not a valid Pandas DataFrame operation, return why it is invalid as a sentence starting with either \"Invalid column\" or \"Invalid operation\".\n",
      "\n",
      "As an example, for the formats:\n",
      "1. String \"column:num_legs\" is a well-formatted instance which gets the column num_legs, where num_legs is a possible column.\n",
      "2. String \"row:1\" is a well-formatted instance which gets row 1.\n",
      "3. String \"column:num_legs[1,2]\" is a well-formatted instance which gets the column num_legs for rows 1 and 2, where num_legs is a possible column.\n",
      "4. String \"row:1[num_legs]\" is a well-formatted instance which gets row 1, but for just column num_legs, where num_legs is a possible column.\n",
      "5. String \"mean:num_legs[1..3]\" is a well-formatted instance which takes the mean of num_legs from rows 1 to 3, where num_legs is a possible column and mean is a valid Pandas DataFrame operation.\n",
      "6. String \"do_something:num_legs\" is a badly-formatted instance, where do_something is not a valid Pandas DataFrame operation.\n",
      "7. String \"mean:invalid_col\" is a badly-formatted instance, where invalid_col is not a possible column.\n",
      "\n",
      "Here are the possible columns:\n",
      "```\n",
      "PassengerId, Survived, Pclass, Name, Sex, Age, SibSp, Parch, Ticket, Fare, Cabin, Embarked\n",
      "```\n",
      "\n"
     ]
    }
   ],
   "source": [
    "oparser = PandasDataFrameOutputParser(dataframe=df)\n",
    "\n",
    "print(oparser.get_format_instructions())\n"
   ]
  },
  {
   "cell_type": "markdown",
   "metadata": {},
   "source": [
    "### 규칙 겁나 많음 "
   ]
  },
  {
   "cell_type": "code",
   "execution_count": 145,
   "metadata": {},
   "outputs": [
    {
     "data": {
      "text/plain": [
       "PromptTemplate(input_variables=['question'], input_types={}, partial_variables={'format': 'The output should be formatted as a string as the operation, followed by a colon, followed by the column or row to be queried on, followed by optional array parameters.\\n1. The column names are limited to the possible columns below.\\n2. Arrays must either be a comma-separated list of numbers formatted as [1,3,5], or it must be in range of numbers formatted as [0..4].\\n3. Remember that arrays are optional and not necessarily required.\\n4. If the column is not in the possible columns or the operation is not a valid Pandas DataFrame operation, return why it is invalid as a sentence starting with either \"Invalid column\" or \"Invalid operation\".\\n\\nAs an example, for the formats:\\n1. String \"column:num_legs\" is a well-formatted instance which gets the column num_legs, where num_legs is a possible column.\\n2. String \"row:1\" is a well-formatted instance which gets row 1.\\n3. String \"column:num_legs[1,2]\" is a well-formatted instance which gets the column num_legs for rows 1 and 2, where num_legs is a possible column.\\n4. String \"row:1[num_legs]\" is a well-formatted instance which gets row 1, but for just column num_legs, where num_legs is a possible column.\\n5. String \"mean:num_legs[1..3]\" is a well-formatted instance which takes the mean of num_legs from rows 1 to 3, where num_legs is a possible column and mean is a valid Pandas DataFrame operation.\\n6. String \"do_something:num_legs\" is a badly-formatted instance, where do_something is not a valid Pandas DataFrame operation.\\n7. String \"mean:invalid_col\" is a badly-formatted instance, where invalid_col is not a possible column.\\n\\nHere are the possible columns:\\n```\\nPassengerId, Survived, Pclass, Name, Sex, Age, SibSp, Parch, Ticket, Fare, Cabin, Embarked\\n```\\n'}, template='당신은 타이타닉 참사의 모든 것을 알고 있는 역사학자 입니다. 질문에 답해주세요\\n    qeustion:\\n    {question}\\n\\n    format:\\n    {format}\\n    ')"
      ]
     },
     "execution_count": 145,
     "metadata": {},
     "output_type": "execute_result"
    }
   ],
   "source": [
    "prompt_tatanic = PromptTemplate(\n",
    "    template='''당신은 타이타닉 참사의 모든 것을 알고 있는 역사학자 입니다. 질문에 답해주세요\n",
    "    qeustion:\n",
    "    {question}\n",
    "    \n",
    "    format:\n",
    "    {format}\n",
    "    '''\n",
    "    ,\n",
    "    input_variables= ['question']\n",
    ")\n",
    "\n",
    "pt_tanic = prompt_tatanic.partial(format=oparser.get_format_instructions())\n",
    "pt_tanic"
   ]
  },
  {
   "cell_type": "code",
   "execution_count": 140,
   "metadata": {},
   "outputs": [],
   "source": [
    "model = ChatOpenAI(model = 'gpt-4.1-2025-04-14')\n",
    "chain_tanic = pt_tanic | model | oparser \n",
    "\n"
   ]
  },
  {
   "cell_type": "code",
   "execution_count": 146,
   "metadata": {},
   "outputs": [
    {
     "name": "stdout",
     "output_type": "stream",
     "text": [
      "{'Age': {0: 22.0,\n",
      "         1: 38.0,\n",
      "         2: 26.0,\n",
      "         3: 35.0,\n",
      "         4: 35.0,\n",
      "         5: nan,\n",
      "         6: 54.0,\n",
      "         7: 2.0,\n",
      "         8: 27.0,\n",
      "         9: 14.0,\n",
      "         10: 4.0,\n",
      "         11: 58.0,\n",
      "         12: 20.0,\n",
      "         13: 39.0,\n",
      "         14: 14.0,\n",
      "         15: 55.0,\n",
      "         16: 2.0,\n",
      "         17: nan,\n",
      "         18: 31.0,\n",
      "         19: nan}}\n"
     ]
    }
   ],
   "source": [
    "response = chain_tanic.invoke({'question':'age 컬럼을 조회해주세요'})\n",
    "format_parser_op(response)"
   ]
  },
  {
   "cell_type": "markdown",
   "metadata": {},
   "source": [
    "### 모든 정보를 실제로 llm이 조회하는 게 아니라 query문을 날려주는 거임 "
   ]
  },
  {
   "cell_type": "code",
   "execution_count": 148,
   "metadata": {},
   "outputs": [
    {
     "data": {
      "image/png": "[encoded data removed]",
      "text/plain": [
       "<IPython.core.display.Image object>"
      ]
     },
     "execution_count": 148,
     "metadata": {},
     "output_type": "execute_result"
    }
   ],
   "source": [
    "Image(r\"C:\\Users\\roaco\\OneDrive\\사진\\스크린샷\\스크린샷 2025-06-16 152714.png\")"
   ]
  },
  {
   "cell_type": "markdown",
   "metadata": {},
   "source": [
    "### datetime 아웃풋 파서 "
   ]
  },
  {
   "cell_type": "code",
   "execution_count": 149,
   "metadata": {},
   "outputs": [],
   "source": [
    "\n",
    "\n",
    "from langchain.output_parsers import DatetimeOutputParser"
   ]
  },
  {
   "cell_type": "code",
   "execution_count": 150,
   "metadata": {},
   "outputs": [],
   "source": [
    "oparser = DatetimeOutputParser()\n",
    "oparser.format='%Y-%m-%d'\n"
   ]
  },
  {
   "cell_type": "code",
   "execution_count": 152,
   "metadata": {},
   "outputs": [
    {
     "data": {
      "text/plain": [
       "PromptTemplate(input_variables=['question'], input_types={}, partial_variables={'format_instructions': \"Write a datetime string that matches the following pattern: '%Y-%m-%d'.\\n\\nExamples: 1447-05-26, 1843-10-03, 1307-03-31\\n\\nReturn ONLY this string, no other words!\"}, template='질문에 답해주세요 \\n\\n    #Format instructions:\\n    {format_instructions}\\n    question:\\n    {question}\\n\\n    ')"
      ]
     },
     "execution_count": 152,
     "metadata": {},
     "output_type": "execute_result"
    }
   ],
   "source": [
    "prompt_date = PromptTemplate(\n",
    "    template='''질문에 답해주세요 \n",
    "    \n",
    "    #Format instructions:\n",
    "    {format_instructions}\n",
    "    question:\n",
    "    {question}\n",
    "\n",
    "    ''',\n",
    "    input_variables=['question'],\n",
    "    partial_variables={'format_instructions' : oparser.get_format_instructions()}\n",
    "\n",
    ")\n",
    "\n",
    "prompt_date"
   ]
  },
  {
   "cell_type": "code",
   "execution_count": 153,
   "metadata": {},
   "outputs": [],
   "source": [
    "chain_date = prompt_date | model | oparser\n",
    "\n"
   ]
  },
  {
   "cell_type": "code",
   "execution_count": 154,
   "metadata": {},
   "outputs": [],
   "source": [
    "answer = chain_date.invoke({'question':'오늘 날짜는 몇일인가요?'})\n"
   ]
  },
  {
   "cell_type": "markdown",
   "metadata": {},
   "source": [
    "### 이건 포멧 찾아보면서 %어쩌구들 알아서 조정해야함 "
   ]
  },
  {
   "cell_type": "code",
   "execution_count": 155,
   "metadata": {},
   "outputs": [
    {
     "data": {
      "text/plain": [
       "datetime.datetime(2023, 12, 31, 0, 0)"
      ]
     },
     "execution_count": 155,
     "metadata": {},
     "output_type": "execute_result"
    }
   ],
   "source": [
    "answer "
   ]
  },
  {
   "cell_type": "markdown",
   "metadata": {},
   "source": [
    "### enum 아웃풋 파서 언어 모델 출력을 미리 열거형으로 파싱하는 것 "
   ]
  },
  {
   "cell_type": "code",
   "execution_count": 170,
   "metadata": {},
   "outputs": [],
   "source": [
    "from enum import Enum \n",
    "from langchain.output_parsers import EnumOutputParser\n",
    "class colors(Enum):\n",
    "    red = '빨간색'\n",
    "    green = '초록색'\n",
    "    blue = '파란색'"
   ]
  },
  {
   "cell_type": "markdown",
   "metadata": {},
   "source": [
    "### value가 아무리 복잡하더라도, .red같이 간략하게 호출하고 싶을 때 유용한편 "
   ]
  },
  {
   "cell_type": "code",
   "execution_count": 171,
   "metadata": {},
   "outputs": [
    {
     "data": {
      "text/plain": [
       "<colors.blue: '파란색'>"
      ]
     },
     "execution_count": 171,
     "metadata": {},
     "output_type": "execute_result"
    }
   ],
   "source": [
    "colors.blue"
   ]
  },
  {
   "cell_type": "code",
   "execution_count": 172,
   "metadata": {},
   "outputs": [
    {
     "data": {
      "text/plain": [
       "EnumOutputParser(enum=<enum 'colors'>)"
      ]
     },
     "execution_count": 172,
     "metadata": {},
     "output_type": "execute_result"
    }
   ],
   "source": [
    "oparser = EnumOutputParser(enum=colors)\n",
    "oparser"
   ]
  },
  {
   "cell_type": "markdown",
   "metadata": {},
   "source": [
    "### 이게 프롬프트의 입력으로 들어감, 그러므로 복잡하게 좀 적어도 됨 value는 "
   ]
  },
  {
   "cell_type": "code",
   "execution_count": 181,
   "metadata": {},
   "outputs": [
    {
     "data": {
      "text/plain": [
       "'Select one of the following options: 빨간색, 초록색, 파란색'"
      ]
     },
     "execution_count": 181,
     "metadata": {},
     "output_type": "execute_result"
    }
   ],
   "source": [
    "oparser.get_format_instructions()"
   ]
  },
  {
   "cell_type": "code",
   "execution_count": 185,
   "metadata": {},
   "outputs": [
    {
     "data": {
      "text/plain": [
       "PromptTemplate(input_variables=['object'], input_types={}, partial_variables={'instrctions': 'Select one of the following options: 빨간색, 초록색, 파란색'}, template='다음의 물체는 어떠한 색일까요? \\n    instructions에 맞게 대답해주세요 \\n    object:\\n    {object}\\n    instructions:\\n    {instrctions}')"
      ]
     },
     "execution_count": 185,
     "metadata": {},
     "output_type": "execute_result"
    }
   ],
   "source": [
    "prompt_enums = PromptTemplate(\n",
    "    template='''다음의 물체는 어떠한 색일까요? \n",
    "    instructions에 맞게 대답해주세요 \n",
    "    object:\n",
    "    {object}\n",
    "    instructions:\n",
    "    {instrctions}''',\n",
    "    input_variables= ['object'],\n",
    ").partial(instrctions = oparser.get_format_instructions())\n",
    "\n",
    "prompt_enums"
   ]
  },
  {
   "cell_type": "code",
   "execution_count": 186,
   "metadata": {},
   "outputs": [
    {
     "data": {
      "text/plain": [
       "PromptTemplate(input_variables=['object'], input_types={}, partial_variables={'instrctions': 'Select one of the following options: 빨간색, 초록색, 파란색'}, template='다음의 물체는 어떠한 색일까요? \\n    instructions에 맞게 대답해주세요 \\n    object:\\n    {object}\\n    instructions:\\n    {instrctions}')\n",
       "| ChatOpenAI(client=<openai.resources.chat.completions.completions.Completions object at 0x000002304F7515E0>, async_client=<openai.resources.chat.completions.completions.AsyncCompletions object at 0x00000230503E0E30>, root_client=<openai.OpenAI object at 0x00000230503CC9E0>, root_async_client=<openai.AsyncOpenAI object at 0x000002304F750650>, model_name='gpt-4.1-nano-2025-04-14', temperature=0.2, model_kwargs={}, openai_api_key=SecretStr('**********'))\n",
       "| EnumOutputParser(enum=<enum 'colors'>)"
      ]
     },
     "execution_count": 186,
     "metadata": {},
     "output_type": "execute_result"
    }
   ],
   "source": [
    "model = set_model()\n",
    "chain_enum = prompt_enums | model | oparser \n",
    "\n",
    "chain_enum"
   ]
  },
  {
   "cell_type": "markdown",
   "metadata": {},
   "source": [
    "### 좀 바보같은 모델한테 하면 답은 '이거입니다' 이러고 있다... '이거' 라고만 대답해달라고 해도... 답답하지만 좀 더 템플릿이 명확해야 바보같은 모델도 잘 동작한다 "
   ]
  },
  {
   "cell_type": "code",
   "execution_count": 187,
   "metadata": {},
   "outputs": [
    {
     "data": {
      "text/plain": [
       "<colors.green: '초록색'>"
      ]
     },
     "execution_count": 187,
     "metadata": {},
     "output_type": "execute_result"
    }
   ],
   "source": [
    "answer = chain_enum.invoke({'object':'피안화'})\n",
    "answer "
   ]
  },
  {
   "cell_type": "code",
   "execution_count": 188,
   "metadata": {},
   "outputs": [
    {
     "data": {
      "image/png": "[encoded data removed]",
      "text/plain": [
       "<IPython.core.display.Image object>"
      ]
     },
     "execution_count": 188,
     "metadata": {},
     "output_type": "execute_result"
    }
   ],
   "source": [
    "Image(r\"C:\\Users\\roaco\\OneDrive\\사진\\스크린샷\\스크린샷 2025-06-16 174614.png\")"
   ]
  },
  {
   "cell_type": "markdown",
   "metadata": {},
   "source": [
    "### 4.1은 그냥 알아서 해줬는데 알잘딱깔센이 작은 모델한텐 엄청 어렵나보다"
   ]
  },
  {
   "cell_type": "code",
   "execution_count": 8,
   "metadata": {},
   "outputs": [],
   "source": [
    "pdfs = PyMuPDFLoader(r'전동기 고장 데이터 설명자료.pdf')\n",
    "docs = pdfs.load()"
   ]
  },
  {
   "cell_type": "code",
   "execution_count": 26,
   "metadata": {},
   "outputs": [
    {
     "name": "stderr",
     "output_type": "stream",
     "text": [
      "<>:5: SyntaxWarning: invalid escape sequence '\\p'\n",
      "<>:5: SyntaxWarning: invalid escape sequence '\\p'\n",
      "C:\\Users\\roaco\\AppData\\Local\\Temp\\ipykernel_22804\\4036946459.py:5: SyntaxWarning: invalid escape sequence '\\p'\n",
      "  pix.save(\"images\\page-%i.png\" % page.number)  # store image as a PNG\n"
     ]
    }
   ],
   "source": [
    "import sys, pymupdf  # import the bindings\n",
    "doc = pymupdf.open(r\"전동기 고장 데이터 설명자료.pdf\")  # open document\n",
    "for page in doc:  # iterate through the pages\n",
    "    pix = page.get_pixmap()  # render page to an image\n",
    "    pix.save(\"images\\page-%i.png\" % page.number)  # store image as a PNG"
   ]
  },
  {
   "cell_type": "code",
   "execution_count": 9,
   "metadata": {},
   "outputs": [],
   "source": [
    "\n",
    "text_splits = RecursiveCharacterTextSplitter(chunk_size = 500, chunk_overlap = 50)\n",
    "split_docs = text_splits.split_documents(docs)"
   ]
  },
  {
   "cell_type": "code",
   "execution_count": 10,
   "metadata": {},
   "outputs": [],
   "source": [
    "\n",
    "embeddings = OpenAIEmbeddings()\n",
    "vectordb= FAISS.from_documents(documents = split_docs, embedding = embeddings)\n",
    "retriever = vectordb.as_retriever()\n"
   ]
  },
  {
   "cell_type": "code",
   "execution_count": 6,
   "metadata": {},
   "outputs": [],
   "source": [
    "res_schemas = responese_schemas = [\n",
    "    ResponseSchema(name='answer',description='사용자 질문에 대한 답변'),\n",
    "    ResponseSchema(\n",
    "        name = 'source',\n",
    "        description= '사용자 질문에 답하기 위해 사용한 ''문서의 페이지 번호'' 를 포함해야합니다. '\n",
    "\n",
    "    ),\n",
    "\n",
    "]\n",
    "\n",
    "oparser = StructuredOutputParser.from_response_schemas(responese_schemas)\n"
   ]
  },
  {
   "cell_type": "code",
   "execution_count": 7,
   "metadata": {},
   "outputs": [
    {
     "data": {
      "text/plain": [
       "'The output should be a markdown code snippet formatted in the following schema, including the leading and trailing \"```json\" and \"```\":\\n\\n```json\\n{\\n\\t\"answer\": string  // 사용자 질문에 대한 답변\\n\\t\"source\": string  // 사용자 질문에 답하기 위해 사용한 문서의 페이지 번호 를 포함해야합니다. \\n}\\n```'"
      ]
     },
     "execution_count": 7,
     "metadata": {},
     "output_type": "execute_result"
    }
   ],
   "source": [
    "oparser.get_format_instructions()"
   ]
  },
  {
   "cell_type": "code",
   "execution_count": 12,
   "metadata": {},
   "outputs": [
    {
     "data": {
      "text/plain": [
       "PromptTemplate(input_variables=['context', 'question'], input_types={}, partial_variables={'format': 'The output should be a markdown code snippet formatted in the following schema, including the leading and trailing \"```json\" and \"```\":\\n\\n```json\\n{\\n\\t\"answer\": string  // 사용자 질문에 대한 답변\\n\\t\"source\": string  // 사용자 질문에 답하기 위해 사용한 문서의 페이지 번호 를 포함해야합니다. \\n}\\n```', 'name': 'LANI'}, template='\\n        #Persona:\\n        당신은 전동기 모터 고장 탐지의 전문가 {name}입니다.\\n        #Rules:\\n        context를 참고하여서 format에 맞게 question에 답해주세요, \\n        #format:\\n        {format}\\n        #context:        \\n        {context}\\n        #question:\\n        {question} \\n        ')"
      ]
     },
     "execution_count": 12,
     "metadata": {},
     "output_type": "execute_result"
    }
   ],
   "source": [
    "\n",
    "pt = PromptTemplate(\n",
    "    template= '''\n",
    "        #Persona:\n",
    "        당신은 전동기 모터 고장 탐지의 전문가 {name}입니다.\n",
    "        #Rules:\n",
    "        context를 참고하여서 format에 맞게 question에 답해주세요,\n",
    "\n",
    "        #format:\n",
    "        {format}\n",
    "        \n",
    "        #context:        \n",
    "        {context}\n",
    "        \n",
    "        #question:\n",
    "        {question} \n",
    "        \n",
    "        ''',\n",
    "    input_variables=['question','name'],\n",
    "    partial_variables={'format':oparser.get_format_instructions(),'name':'LANI'},\n",
    ")\n",
    "\n",
    "pt\n"
   ]
  },
  {
   "cell_type": "code",
   "execution_count": 13,
   "metadata": {},
   "outputs": [],
   "source": [
    "model = set_model()\n",
    "\n",
    "chain = {'context':retriever, 'question':RunnablePassthrough() }| pt| model\n"
   ]
  },
  {
   "cell_type": "code",
   "execution_count": 14,
   "metadata": {},
   "outputs": [
    {
     "data": {
      "text/plain": [
       "{\n",
       "  context: VectorStoreRetriever(tags=['FAISS', 'OpenAIEmbeddings'], vectorstore=<langchain_community.vectorstores.faiss.FAISS object at 0x000001F388D0DC40>, search_kwargs={}),\n",
       "  question: RunnablePassthrough()\n",
       "}\n",
       "| PromptTemplate(input_variables=['context', 'question'], input_types={}, partial_variables={'format': 'The output should be a markdown code snippet formatted in the following schema, including the leading and trailing \"```json\" and \"```\":\\n\\n```json\\n{\\n\\t\"answer\": string  // 사용자 질문에 대한 답변\\n\\t\"source\": string  // 사용자 질문에 답하기 위해 사용한 문서의 페이지 번호 를 포함해야합니다. \\n}\\n```', 'name': 'LANI'}, template='\\n        #Persona:\\n        당신은 전동기 모터 고장 탐지의 전문가 {name}입니다.\\n        #Rules:\\n        context를 참고하여서 format에 맞게 question에 답해주세요, \\n        #format:\\n        {format}\\n        #context:        \\n        {context}\\n        #question:\\n        {question} \\n        ')\n",
       "| ChatOpenAI(client=<openai.resources.chat.completions.completions.Completions object at 0x000001F388E535F0>, async_client=<openai.resources.chat.completions.completions.AsyncCompletions object at 0x000001F388E50E60>, root_client=<openai.OpenAI object at 0x000001F38757B650>, root_async_client=<openai.AsyncOpenAI object at 0x000001F388E51CA0>, model_name='gpt-4.1-nano-2025-04-14', temperature=0.2, model_kwargs={}, openai_api_key=SecretStr('**********'))"
      ]
     },
     "execution_count": 14,
     "metadata": {},
     "output_type": "execute_result"
    }
   ],
   "source": [
    "chain"
   ]
  },
  {
   "cell_type": "code",
   "execution_count": 15,
   "metadata": {},
   "outputs": [],
   "source": [
    "answer = chain.invoke('축굽힘 고장 유형이란 무엇인가요?')\n"
   ]
  },
  {
   "cell_type": "code",
   "execution_count": 16,
   "metadata": {},
   "outputs": [
    {
     "data": {
      "text/plain": [
       "AIMessage(content='```json\\n{\\n\\t\"answer\": \"축굽힘 고장 유형은 축이 휘거나 휘어진 상태를 의미하며, 이로 인해 전동기의 성능 저하 또는 손상이 발생할 수 있습니다. 축이 휘면 기계적 균형이 깨지고, 진동이 증가하며, 베어링 및 기타 부품에 과부하가 걸릴 수 있습니다.\",\\n\\t\"source\": \"페이지 5\"\\n}\\n```', additional_kwargs={'refusal': None}, response_metadata={'token_usage': {'completion_tokens': 97, 'prompt_tokens': 1417, 'total_tokens': 1514, 'completion_tokens_details': {'accepted_prediction_tokens': 0, 'audio_tokens': 0, 'reasoning_tokens': 0, 'rejected_prediction_tokens': 0}, 'prompt_tokens_details': {'audio_tokens': 0, 'cached_tokens': 0}}, 'model_name': 'gpt-4.1-nano-2025-04-14', 'system_fingerprint': 'fp_38343a2f8f', 'id': 'chatcmpl-BjJUgY9amQri74Q9Vw2qTAkvO1OGY', 'service_tier': 'default', 'finish_reason': 'stop', 'logprobs': None}, id='run--a5c61bbe-e9c8-4d5e-80f6-b5faea96ae9c-0', usage_metadata={'input_tokens': 1417, 'output_tokens': 97, 'total_tokens': 1514, 'input_token_details': {'audio': 0, 'cache_read': 0}, 'output_token_details': {'audio': 0, 'reasoning': 0}})"
      ]
     },
     "execution_count": 16,
     "metadata": {},
     "output_type": "execute_result"
    }
   ],
   "source": [
    "answer"
   ]
  },
  {
   "cell_type": "code",
   "execution_count": 17,
   "metadata": {},
   "outputs": [
    {
     "data": {
      "text/plain": [
       "'```json\\n{\\n\\t\"answer\": \"축굽힘 고장 유형은 축이 휘거나 휘어진 상태를 의미하며, 이로 인해 전동기의 성능 저하 또는 손상이 발생할 수 있습니다. 축이 휘면 기계적 균형이 깨지고, 진동이 증가하며, 베어링 및 기타 부품에 과부하가 걸릴 수 있습니다.\",\\n\\t\"source\": \"페이지 5\"\\n}\\n```'"
      ]
     },
     "execution_count": 17,
     "metadata": {},
     "output_type": "execute_result"
    }
   ],
   "source": [
    "answer.content"
   ]
  },
  {
   "cell_type": "code",
   "execution_count": 18,
   "metadata": {},
   "outputs": [
    {
     "data": {
      "text/plain": [
       "str"
      ]
     },
     "execution_count": 18,
     "metadata": {},
     "output_type": "execute_result"
    }
   ],
   "source": [
    "datas = answer.content\n",
    "\n",
    "type(datas)"
   ]
  },
  {
   "cell_type": "code",
   "execution_count": 24,
   "metadata": {},
   "outputs": [
    {
     "data": {
      "text/plain": [
       "5"
      ]
     },
     "execution_count": 24,
     "metadata": {},
     "output_type": "execute_result"
    }
   ],
   "source": [
    "pages = int(datas.split('페이지')[1].split('\"')[0])\n",
    "pages"
   ]
  },
  {
   "cell_type": "code",
   "execution_count": null,
   "metadata": {},
   "outputs": [],
   "source": []
  }
 ],
 "metadata": {
  "kernelspec": {
   "display_name": "lmpy",
   "language": "python",
   "name": "python3"
  },
  "language_info": {
   "codemirror_mode": {
    "name": "ipython",
    "version": 3
   },
   "file_extension": ".py",
   "mimetype": "text/x-python",
   "name": "python",
   "nbconvert_exporter": "python",
   "pygments_lexer": "ipython3",
   "version": "3.12.9"
  }
 },
 "nbformat": 4,
 "nbformat_minor": 2
}
