{
 "cells": [
  {
   "cell_type": "code",
   "execution_count": 3,
   "metadata": {},
   "outputs": [
    {
     "data": {
      "text/plain": [
       "True"
      ]
     },
     "execution_count": 3,
     "metadata": {},
     "output_type": "execute_result"
    }
   ],
   "source": [
    "from dotenv import load_dotenv\n",
    "load_dotenv()\n",
    "# api key들 설정 미리 해줌 \n"
   ]
  },
  {
   "cell_type": "code",
   "execution_count": 4,
   "metadata": {},
   "outputs": [
    {
     "name": "stdout",
     "output_type": "stream",
     "text": [
      "content='대한민국의 수도는 서울입니다.' additional_kwargs={'refusal': None} response_metadata={'token_usage': {'completion_tokens': 8, 'prompt_tokens': 13, 'total_tokens': 21, 'completion_tokens_details': {'accepted_prediction_tokens': 0, 'audio_tokens': 0, 'reasoning_tokens': 0, 'rejected_prediction_tokens': 0}, 'prompt_tokens_details': {'audio_tokens': 0, 'cached_tokens': 0}}, 'model_name': 'gpt-4.1-nano-2025-04-14', 'system_fingerprint': 'fp_38343a2f8f', 'id': 'chatcmpl-BgkbIUvBzsTIXva016iDKduWtqjO7', 'service_tier': 'default', 'finish_reason': 'stop', 'logprobs': None} id='run--7e2859a5-7e65-492a-ab6c-4a2a4b7bfa94-0' usage_metadata={'input_tokens': 13, 'output_tokens': 8, 'total_tokens': 21, 'input_token_details': {'audio': 0, 'cache_read': 0}, 'output_token_details': {'audio': 0, 'reasoning': 0}}\n"
     ]
    }
   ],
   "source": [
    "from langchain_openai import ChatOpenAI\n",
    "\n",
    "llm = ChatOpenAI(\n",
    "    temperature= 0.2,\n",
    "    model= 'gpt-4.1-nano-2025-04-14',\n",
    ")\n",
    "\n",
    "question = '대한민국의 수도는?'\n",
    "\n",
    "print(llm.invoke(question))\n"
   ]
  },
  {
   "cell_type": "code",
   "execution_count": 9,
   "metadata": {},
   "outputs": [
    {
     "name": "stdout",
     "output_type": "stream",
     "text": [
      "대한민국의 수도는 서울입니다."
     ]
    }
   ],
   "source": [
    "fa = ''\n",
    "answer = llm.stream(question)\n",
    "for i in answer:\n",
    "    print(i.content, end='' , flush=True)\n",
    "    fa += i.content\n"
   ]
  },
  {
   "cell_type": "code",
   "execution_count": 10,
   "metadata": {},
   "outputs": [],
   "source": [
    "from langchain_core.prompts import PromptTemplate\n"
   ]
  },
  {
   "cell_type": "code",
   "execution_count": 11,
   "metadata": {},
   "outputs": [
    {
     "data": {
      "text/plain": [
       "PromptTemplate(input_variables=['legion'], input_types={}, partial_variables={}, template='{legion}은 어디인가요?')"
      ]
     },
     "execution_count": 11,
     "metadata": {},
     "output_type": "execute_result"
    }
   ],
   "source": [
    "template = '{legion}은 어디인가요?'\n",
    "# 템플릿만들어놓고 특정 변수만 바꾸려는 목적\n",
    "# 모든 것을 작성해놓을 필요는 없으니까! \n",
    "pt = PromptTemplate.from_template(template)\n",
    "pt"
   ]
  },
  {
   "cell_type": "code",
   "execution_count": 16,
   "metadata": {},
   "outputs": [
    {
     "data": {
      "text/plain": [
       "PromptTemplate(input_variables=['legion'], input_types={}, partial_variables={}, template='{legion}은 어디인가요?')\n",
       "| ChatOpenAI(client=<openai.resources.chat.completions.completions.Completions object at 0x000001DCF8F6BAA0>, async_client=<openai.resources.chat.completions.completions.AsyncCompletions object at 0x000001DCF8F6BE30>, root_client=<openai.OpenAI object at 0x000001DCF8D83C20>, root_async_client=<openai.AsyncOpenAI object at 0x000001DCF9767590>, model_name='gpt-4.1-nano-2025-04-14', temperature=0.2, model_kwargs={}, openai_api_key=SecretStr('**********'))"
      ]
     },
     "execution_count": 16,
     "metadata": {},
     "output_type": "execute_result"
    }
   ],
   "source": [
    "chain = pt | llm\n",
    "chain"
   ]
  },
  {
   "cell_type": "code",
   "execution_count": 17,
   "metadata": {},
   "outputs": [],
   "source": [
    "input = {'legion': '부산'}"
   ]
  },
  {
   "cell_type": "code",
   "execution_count": 18,
   "metadata": {},
   "outputs": [
    {
     "data": {
      "text/plain": [
       "AIMessage(content='부산은 대한민국의 남동쪽 해안에 위치한 도시로, 대한민국 제2의 도시이자 대표적인 항구 도시입니다. 부산은 동해와 남해를 접하고 있으며, 아름다운 해변과 풍부한 해산물, 다양한 관광지로 유명합니다. 부산은 부산광역시라는 광역자치단체로 행정구역이 구성되어 있으며, 부산항은 세계적인 항만으로도 알려져 있습니다.', additional_kwargs={'refusal': None}, response_metadata={'token_usage': {'completion_tokens': 97, 'prompt_tokens': 14, 'total_tokens': 111, 'completion_tokens_details': {'accepted_prediction_tokens': 0, 'audio_tokens': 0, 'reasoning_tokens': 0, 'rejected_prediction_tokens': 0}, 'prompt_tokens_details': {'audio_tokens': 0, 'cached_tokens': 0}}, 'model_name': 'gpt-4.1-nano-2025-04-14', 'system_fingerprint': 'fp_f12167b370', 'id': 'chatcmpl-BglWzTUTirnnjv8rgCMysXvDqWVVs', 'service_tier': 'default', 'finish_reason': 'stop', 'logprobs': None}, id='run--537d6920-82fb-439e-b501-770f279d0c39-0', usage_metadata={'input_tokens': 14, 'output_tokens': 97, 'total_tokens': 111, 'input_token_details': {'audio': 0, 'cache_read': 0}, 'output_token_details': {'audio': 0, 'reasoning': 0}})"
      ]
     },
     "execution_count": 18,
     "metadata": {},
     "output_type": "execute_result"
    }
   ],
   "source": [
    "chain.invoke(input)\n",
    "# 인보크는 답변이 모두 생성되면 전달해줌\n"
   ]
  },
  {
   "cell_type": "code",
   "execution_count": 19,
   "metadata": {},
   "outputs": [],
   "source": [
    "answer = chain.invoke('준성')"
   ]
  },
  {
   "cell_type": "markdown",
   "metadata": {},
   "source": [
    "### 받아와서 보면 aimessage라는 객체 안에 담겨있음 이중 content만 가져올 수도 있고 다른 것도 가져올 수 있는 것  "
   ]
  },
  {
   "cell_type": "code",
   "execution_count": 20,
   "metadata": {},
   "outputs": [
    {
     "data": {
      "text/plain": [
       "AIMessage(content='준성이라는 이름은 여러 장소나 인물에 사용될 수 있어 구체적인 정보를 알려주시면 더 정확한 답변을 드릴 수 있습니다. 혹시 특정 지역이나 인물에 대해 묻고 계신 건가요? 추가 정보를 알려주시면 도움을 드리겠습니다.', additional_kwargs={'refusal': None}, response_metadata={'token_usage': {'completion_tokens': 62, 'prompt_tokens': 14, 'total_tokens': 76, 'completion_tokens_details': {'accepted_prediction_tokens': 0, 'audio_tokens': 0, 'reasoning_tokens': 0, 'rejected_prediction_tokens': 0}, 'prompt_tokens_details': {'audio_tokens': 0, 'cached_tokens': 0}}, 'model_name': 'gpt-4.1-nano-2025-04-14', 'system_fingerprint': 'fp_38343a2f8f', 'id': 'chatcmpl-BglbPoCHLlT7KCaTtgH8MnahYx4Nl', 'service_tier': 'default', 'finish_reason': 'stop', 'logprobs': None}, id='run--973d2471-0b92-47c9-ba7d-f28a1116a7c5-0', usage_metadata={'input_tokens': 14, 'output_tokens': 62, 'total_tokens': 76, 'input_token_details': {'audio': 0, 'cache_read': 0}, 'output_token_details': {'audio': 0, 'reasoning': 0}})"
      ]
     },
     "execution_count": 20,
     "metadata": {},
     "output_type": "execute_result"
    }
   ],
   "source": [
    "answer"
   ]
  },
  {
   "cell_type": "markdown",
   "metadata": {},
   "source": [
    "### 답변만 필요한 경우에는 outputparser를 넣어주면 체인에, 그렇다면 이제 문자열로만 나옴 "
   ]
  },
  {
   "cell_type": "code",
   "execution_count": 21,
   "metadata": {},
   "outputs": [],
   "source": [
    "from langchain_core.output_parsers import StrOutputParser\n",
    "\n",
    "out_parser = StrOutputParser()\n"
   ]
  },
  {
   "cell_type": "code",
   "execution_count": 22,
   "metadata": {},
   "outputs": [],
   "source": [
    "chain = pt | llm | out_parser"
   ]
  },
  {
   "cell_type": "code",
   "execution_count": 23,
   "metadata": {},
   "outputs": [
    {
     "data": {
      "text/plain": [
       "'부산은 대한민국의 남동쪽 해안에 위치한 도시로, 대한민국 제2의 도시이자 주요 항구 도시입니다. 부산은 동해와 남해를 접하고 있으며, 아름다운 해변과 풍부한 해산물, 다양한 관광지로 유명합니다. 부산은 경제, 문화, 교통의 중심지로서 부산항, 해운대, 광안리 해수욕장, 감천문화마을 등 많은 명소가 있습니다.'"
      ]
     },
     "execution_count": 23,
     "metadata": {},
     "output_type": "execute_result"
    }
   ],
   "source": [
    "answer = chain.invoke(input)\n",
    "answer "
   ]
  },
  {
   "cell_type": "markdown",
   "metadata": {},
   "source": [
    "### 주의할 점! input variables에 있는 것만 변수로 채우는 것, []이거 변수가 아님 {}이놈이 변수임 마크다운 문법으로 작성하면 당연히 더 잘이해할 수 있다!"
   ]
  },
  {
   "cell_type": "code",
   "execution_count": 32,
   "metadata": {},
   "outputs": [
    {
     "data": {
      "text/plain": [
       "PromptTemplate(input_variables=['question'], input_types={}, partial_variables={}, template=' 당신은 유능한 일본어 선생님입니다. \\n상황에 [example]맞게 일본어 회화를 작성해주세요 \\n\\n#상황:\\n{question}\\n\\n#example:\\n- 일본어 선생님:\\n- 한국어 해석:\\n- 상황 속 다른 인물:\\n- 한국어 해석:\\netc\\n\\n')"
      ]
     },
     "execution_count": 32,
     "metadata": {},
     "output_type": "execute_result"
    }
   ],
   "source": [
    "template = ''' 당신은 유능한 일본어 선생님입니다. \n",
    "상황에 [example]맞게 일본어 회화를 작성해주세요 \n",
    "\n",
    "#상황:\n",
    "{question}\n",
    "\n",
    "#example:\n",
    "- 일본어 선생님:\n",
    "- 한국어 해석:\n",
    "- 상황 속 다른 인물:\n",
    "- 한국어 해석:\n",
    "etc\n",
    "\n",
    "'''\n",
    "\n",
    "pt = PromptTemplate.from_template(template)\n",
    "pt"
   ]
  },
  {
   "cell_type": "markdown",
   "metadata": {},
   "source": [
    "### 페르소나를 주는 것에 궁금증이 많았는데 간단하게 설명하면 이러한 데이터셋을 끄집어 내기 위한 목적임 결국엔 다음 단어의 확률을 출력함을 잊지말자, 전달할 때 딕셔너리형태인것도 까먹지말고"
   ]
  },
  {
   "cell_type": "code",
   "execution_count": 33,
   "metadata": {},
   "outputs": [],
   "source": [
    "chain = pt | llm | out_parser\n",
    "\n",
    "asnwer = chain.invoke({'question':'발렌타인 데이에 선물을 준 수학선생님에게 고맙다고 할 때 센스있게 말하는 일본어 선생님'})\n"
   ]
  },
  {
   "cell_type": "code",
   "execution_count": 34,
   "metadata": {},
   "outputs": [
    {
     "data": {
      "text/plain": [
       "'- 일본어 선생님:  \\n「先生、いつも丁寧に教えてくださってありがとうございます。バレンタインのプレゼント、とても嬉しかったです。」  \\n\\n- 한국어 해석:  \\n\"선생님, 언제나 친절하게 가르쳐 주셔서 감사합니다. 발렌타인 선물 정말 기뻤어요.\"  \\n\\n- 상황 속 다른 인물:  \\n수학 선생님:  \\n「こちらこそ、喜んでもらえて良かったです。これからも一緒に頑張りましょうね。」  \\n\\n- 한국어 해석:  \\n\"저도 기뻐해 주셔서 다행입니다. 앞으로도 함께 힘내요.\"'"
      ]
     },
     "execution_count": 34,
     "metadata": {},
     "output_type": "execute_result"
    }
   ],
   "source": [
    "asnwer"
   ]
  },
  {
   "cell_type": "code",
   "execution_count": 35,
   "metadata": {},
   "outputs": [
    {
     "data": {
      "text/plain": [
       "PromptTemplate(input_variables=['question'], input_types={}, partial_variables={}, template='당신은 유능한 영어 선생님입니다. \\n상황에 맞는 회화를 작성해주세요 \\n\\n#상황:\\n{question}\\n\\n')"
      ]
     },
     "execution_count": 35,
     "metadata": {},
     "output_type": "execute_result"
    }
   ],
   "source": [
    "template = '''당신은 유능한 영어 선생님입니다. \n",
    "상황에 맞는 회화를 작성해주세요 \n",
    "\n",
    "#상황:\n",
    "{question}\n",
    " \n",
    "'''\n",
    "\n",
    "pt = PromptTemplate.from_template(template)\n",
    "pt"
   ]
  },
  {
   "cell_type": "code",
   "execution_count": 36,
   "metadata": {},
   "outputs": [
    {
     "data": {
      "text/plain": [
       "'물론이죠! 아래는 오늘 뭐 먹을지 고민하는 세 명의 개발자들 간의 자연스러운 영어 회화입니다.\\n\\n---\\n\\n**Alex:** Hey guys, what should we eat today? I’m starving.\\n\\n**Jamie:** Yeah, same here. I’m in the mood for something quick. Maybe pizza?\\n\\n**Taylor:** Pizza sounds good, but I was thinking maybe sushi? I’ve been craving it all week.\\n\\n**Alex:** Sushi is nice, but it might take longer to get. How about we go for burgers? Fast and satisfying.\\n\\n**Jamie:** Hmm, burgers are always a good choice. But what about trying that new Korean fried chicken place nearby?\\n\\n**Taylor:** Oh, I’ve heard their chicken is amazing. Let’s do that! Korean fried chicken it is.\\n\\n**Alex:** Sounds perfect. Korean fried chicken it is. Let’s order now before we get back to coding.\\n\\n**Jamie:** Agreed. I’ll place the order. This is going to be a great break!\\n\\n**Taylor:** Definitely. Nothing beats good food and a break from debugging.\\n\\n---\\n\\n필요하시면 더 다양한 대화도 만들어 드릴 수 있어요!'"
      ]
     },
     "execution_count": 36,
     "metadata": {},
     "output_type": "execute_result"
    }
   ],
   "source": [
    "chain = pt | llm | out_parser\n",
    "dap = chain.invoke({'question':'오늘 밥 뭐 먹을지 고민하는 3명의 개발자들'})\n",
    "\n",
    "dap"
   ]
  },
  {
   "cell_type": "code",
   "execution_count": 37,
   "metadata": {},
   "outputs": [
    {
     "name": "stdout",
     "output_type": "stream",
     "text": [
      "물론이죠! 아래는 오늘 뭐 먹을지 고민하는 세 명의 개발자들 간의 자연스러운 영어 회화입니다.\n",
      "\n",
      "---\n",
      "\n",
      "**Alex:** Hey guys, what should we eat today? I’m starving.\n",
      "\n",
      "**Jamie:** Yeah, same here. I’m in the mood for something quick. Maybe pizza?\n",
      "\n",
      "**Taylor:** Pizza sounds good, but I was thinking maybe sushi? It’s been a while since I had some.\n",
      "\n",
      "**Alex:** Hmm, both are great options. But do we want something heavy like pizza or something lighter like sushi?\n",
      "\n",
      "**Jamie:** Good point. I’d prefer something lighter. Sushi it is?\n",
      "\n",
      "**Taylor:** Sure, I’m in. Let’s find a good sushi place nearby.\n",
      "\n",
      "**Alex:** Great! I’ll look up some options. By the way, do you guys want to order in or go out?\n",
      "\n",
      "**Jamie:** Let’s go out. I need a break from my desk.\n",
      "\n",
      "**Taylor:** Agreed. Plus, it’s nice to get some fresh air.\n",
      "\n",
      "**Alex:** Perfect! I’ll check the reviews and we can decide where to go.\n",
      "\n",
      "---\n",
      "\n",
      "이 회화는 자연스럽고 친근한 분위기를 담고 있으며, 세 명의 개발자가 점심 메뉴를 고민하는 상황에 적합합니다."
     ]
    }
   ],
   "source": [
    "dap = chain.stream({'question':'오늘 밥 뭐 먹을지 고민하는 3명의 개발자들'})\n",
    "\n",
    "for token in dap :\n",
    "    print(token , end='' , flush=True)\n",
    "    \n"
   ]
  },
  {
   "cell_type": "markdown",
   "metadata": {},
   "source": [
    "### 배치 단위로 처리할 수도 있다! 배치란? 일괄적으로 딕셔너리 여러개를 받아서 처리하는 것, 인자는 리스트임, 딕셔너리가 담긴 리스트"
   ]
  },
  {
   "cell_type": "code",
   "execution_count": 40,
   "metadata": {},
   "outputs": [
    {
     "data": {
      "text/plain": [
       "['물론입니다! 아래는 밥을 먹으며 과묵한 두 사람이 나누는 자연스러운 영어 회화입니다.\\n\\n---\\n\\n**A:** (조용히 음식을 먹으며)  \\n**B:** (고개를 끄덕이며)  \\n**A:** (잠시 침묵 후) \"The food\\'s good.\"  \\n**B:** \"Yeah, it is.\"  \\n**A:** (작게 웃으며) \"Nice weather today.\"  \\n**B:** \"Mm.\"  \\n**A:** (음식을 먹으며) \"You okay?\"  \\n**B:** (살짝 고개를 끄덕이며) \"Fine.\"  \\n**A:** (다시 침묵)  \\n**B:** (눈길을 돌리며) \"Thanks for inviting me.\"  \\n**A:** \"No problem.\"  \\n\\n---\\n\\n이 대화는 과묵한 두 사람이 자연스럽게 서로의 존재를 인정하며, 간단한 말로 소통하는 모습입니다. 필요하시면 더 긴 대화나 특정 표현도 도와드릴 수 있습니다!',\n",
       " '물론입니다! 여기 간단한 스몰토크 상황에 맞는 영어 회화를 제공해 드릴게요.\\n\\n---\\n\\n**남자:** Hi there! Nice weather today, isn’t it?  \\n**여자:** Yes, it’s really sunny. Perfect day for a walk.  \\n**남자:** Absolutely. Do you come here often?  \\n**여자:** Not really, just occasionally. How about you?  \\n**남자:** Same here. I like to visit this park on weekends.  \\n**여자:** That’s nice. Do you live nearby?  \\n**남자:** Yeah, just a few blocks away. And you?  \\n**여자:** I actually live a bit farther, but I enjoy coming here.  \\n**남자:** Well, maybe we’ll run into each other again sometime.  \\n**여자:** That would be nice. Have a great day!  \\n**남자:** You too! Take care.\\n\\n---\\n\\n필요하시면 더 다양한 상황이나 표현도 도와드릴게요!']"
      ]
     },
     "execution_count": 40,
     "metadata": {},
     "output_type": "execute_result"
    }
   ],
   "source": [
    "chain.batch([{'question':'밥먹는 과묵한 두 사람'}, {'question':'간단한 스몰토크를 하는 남녀'}])\n"
   ]
  },
  {
   "cell_type": "markdown",
   "metadata": {},
   "source": [
    "### 동시처리 개수를 설정할 수 있습니다 config로"
   ]
  },
  {
   "cell_type": "code",
   "execution_count": 41,
   "metadata": {},
   "outputs": [
    {
     "data": {
      "text/plain": [
       "[\"Certainly! Here's a conversation that fits the scenario of a quiet, cool woman trapped in a white room:\\n\\n---\\n\\n**Person A:** Hey, are you okay?  \\n**Woman:** ... (silent, slight nod)  \\n\\n**Person A:** Do you want to talk? Or maybe just sit in silence?  \\n**Woman:** Silence is fine.  \\n\\n**Person A:** Do you know how we got here?  \\n**Woman:** No. Just... here.  \\n\\n**Person A:** Do you think there's a way out?  \\n**Woman:** Maybe. Or maybe not.  \\n\\n**Person A:** You seem calm. How do you stay so composed?  \\n**Woman:** Calmness is my choice.  \\n\\n**Person A:** Do you ever get scared?  \\n**Woman:** Fear is a distraction.  \\n\\n**Person A:** What are you thinking right now?  \\n**Woman:** Nothing. Just observing.  \\n\\n**Person A:** Well, if you need anything, let me know.  \\n**Woman:** I don't need much. Just time.  \\n\\n---\\n\\nWould you like a longer dialogue or a specific tone?\",\n",
       " \"Certainly! Here's a conversation that fits the scenario of a quiet, cool man trapped in a white room, speaking in a calm and composed manner:\\n\\n---\\n\\n**Person A:** Hey, you're just sitting there. Do you know how we got here?\\n\\n**Man:** No. No idea. Just... here.\\n\\n**Person A:** Do you think there's a way out?\\n\\n**Man:** Maybe. Or maybe not. Doesn't matter much to me.\\n\\n**Person A:** You're so calm about this. Aren't you worried?\\n\\n**Man:** Worrying won't change anything. Best to stay quiet and observe.\\n\\n**Person A:** Do you think anyone will find us?\\n\\n**Man:** I don't know. But I won't hold my breath.\\n\\n**Person A:** What are you thinking right now?\\n\\n**Man:** Just waiting. That's all.\\n\\n**Person A:** You seem so composed. How do you do that?\\n\\n**Man:** It's simple. No point in wasting energy on things I can't control.\\n\\n---\\n\\nWould you like a longer dialogue or a specific tone?\",\n",
       " '물론입니다! 아래는 하얀 방에 갇혀 있고, 과묵하지만 혼란스러운 여성의 상황에 맞는 영어 회화입니다.\\n\\n---\\n\\n**여성 (혼잣말 또는 내레이션):**  \\n*Where am I? How did I get here?*  \\n*(이곳이 어디지? 어떻게 여기로 온 거지?)*\\n\\n**여성 (누군가에게 말하려고 할 때):**  \\n\"Hello? Is anyone there?\"  \\n*(안녕하세요? 누구 계세요?)*\\n\\n**여성 (방을 둘러보며):**  \\n\"This room... it\\'s so white. I can\\'t see the door.\"  \\n*(이 방... 너무 하얘. 문이 안 보여.)*\\n\\n**여성 (당황하며):**  \\n\"Why am I here? What do they want from me?\"  \\n*(왜 내가 여기 있는 거지? 그들이 나한테 뭘 원하는 걸까?)*\\n\\n**여성 (자신에게 속삭이듯):**  \\n\"I need to stay calm. Think. Think.\"  \\n*(침착해야 해. 생각해봐. 생각해봐.)*\\n\\n**여성 (누군가와 대화하는 척):**  \\n\"Please, I don\\'t understand. Can you tell me what\\'s happening?\"  \\n*(제발, 이해가 안 돼요. 무슨 일이 일어나고 있는지 말해줄 수 있나요?)*\\n\\n---\\n\\n이 회화는 그녀의 혼란과 내면의 감정을 자연스럽게 표현하면서, 상황에 따라 다양한 대화를 이어갈 수 있도록 구성했습니다. 필요하시면 더 구체적인 대화도 만들어 드릴 수 있습니다!']"
      ]
     },
     "execution_count": 41,
     "metadata": {},
     "output_type": "execute_result"
    }
   ],
   "source": [
    "chain.batch(\n",
    "    [\n",
    "        {'question':'하얀 방에 갇혀 못나가는 과묵하고 쿨한 여성'},\n",
    "        {'question':'하얀 방에 갇혀 못나가는 과묵하고 쿨한 남성'},\n",
    "        {'question':'하얀 방에 갇혀 못나가는 과묵하지만 혼란스러운 여성'},\n",
    "    ]\n",
    "    \n",
    "    ,config={'max_concurrency':3})"
   ]
  },
  {
   "cell_type": "markdown",
   "metadata": {},
   "source": [
    "### 계속 나오는 스트림은 비동기의 개념이다, 비동기란 뭐 할때 그거 기다리지말고 다른것도 좀 하라는 얘기 , 근데 보통 멀티 스레드 이런쪽으로 들어가면 머리 아픈편"
   ]
  },
  {
   "cell_type": "markdown",
   "metadata": {},
   "source": [
    "### async 루프를 사용하면 이제 본격적인 비동기의 시작이고 astream이라는 함수도 있는데 이 또한 비동기의 개념이다 뭐가 다를까? stream은 하나를 실시간으로 보는 거고 다른 놈들은 얘 끝나기전까지 절대 움직이면 안됨 astream은 메인 스레드를 차단하지 않으므로 , 뭐 기다리는 시간(i/o 바운드)을 줄인다, 요청->대기->응답를 요청1을 던져놓고 2도 던져놓고 기다리다가 오면 바로 응답1 응답2 이런식으로 순차적으로 실행하는 프로세스를 없애서 시간효율적인 프로그래밍 방식이라고 이해하고 있다."
   ]
  },
  {
   "cell_type": "code",
   "execution_count": 42,
   "metadata": {},
   "outputs": [
    {
     "name": "stdout",
     "output_type": "stream",
     "text": [
      "상사: 이 문서 좀 봐봐. 왜 이렇게 늦게 가져왔어? 정확한 원본을 들고 와라고 했잖아!\n",
      "\n",
      "당신: 죄송합니다, 상사님. 바로 오늘 다시 확인해서 정확한 문서를 준비하겠습니다. 잠시만 기다려 주세요."
     ]
    }
   ],
   "source": [
    "asc = chain.astream({'question':'정확한 문서를 들고오라며 화내는 상사'})\n",
    "async for token in asc:\n",
    "    print(token, end = '', flush=True)\n",
    "    #버퍼에 다찰 때까지 안기다리고 즉시 뱉음 \n"
   ]
  },
  {
   "cell_type": "markdown",
   "metadata": {},
   "source": [
    "### ainvoke는 그냥 준비만 함 실행자체는 await라는 키워드를 붙여야지 작동함"
   ]
  },
  {
   "cell_type": "code",
   "execution_count": 44,
   "metadata": {},
   "outputs": [],
   "source": [
    "원영쿤 = chain.ainvoke({'question':'정확한 문서를 들고오라며 웃으며 말하는 장원영'})\n"
   ]
  },
  {
   "cell_type": "code",
   "execution_count": 45,
   "metadata": {},
   "outputs": [
    {
     "data": {
      "text/plain": [
       "'장원영: (웃으며) \"이 문서 좀 보여줄 수 있어요? 정확한 내용을 확인해야 해서요.\"'"
      ]
     },
     "execution_count": 45,
     "metadata": {},
     "output_type": "execute_result"
    }
   ],
   "source": [
    "await 원영쿤"
   ]
  },
  {
   "cell_type": "markdown",
   "metadata": {},
   "source": [
    "### abatch도 마찬가지!"
   ]
  },
  {
   "cell_type": "code",
   "execution_count": 46,
   "metadata": {},
   "outputs": [],
   "source": [
    "원영쿤배치버전 = chain.abatch(\n",
    "    [\n",
    "        {'question':'하얀 방에 갇혀 못나가는 과묵하고 쿨한 장원영'},\n",
    "        {'question':'하얀 방에 갇혀 못나가는 과묵하고 화난 장원영'},\n",
    "        {'question':'하얀 방에 갇혀 못나가는 과묵하지만 럭키비키인 장원영'},\n",
    "    ]\n",
    "    \n",
    "    ,config={'max_concurrency':3})"
   ]
  },
  {
   "cell_type": "code",
   "execution_count": 47,
   "metadata": {},
   "outputs": [
    {
     "data": {
      "text/plain": [
       "['Certainly! Here\\'s a conversation that fits the scenario of Jang Wonyoung, a quiet and cool person, trapped in a white room and unable to leave:\\n\\n---\\n\\n**Wonyoung:** (Looking around silently, then speaking softly)  \\n\"Guess I\\'m stuck here for now.\"\\n\\n**Friend (or someone outside the room):**  \\n\"Are you okay? Do you need anything?\"\\n\\n**Wonyoung:** (Shrugs slightly, voice calm)  \\n\"I\\'m fine. Just waiting.\"\\n\\n**Friend:**  \\n\"Waiting for what? Do you want me to come in?\"\\n\\n**Wonyoung:**  \\n\"No. It\\'s better if I stay quiet for now.\"\\n\\n**Friend:**  \\n\"Alright. If you need anything, just let me know.\"\\n\\n**Wonyoung:** (Nods, then softly)  \\n\"Thanks.\"\\n\\n---\\n\\nWould you like a more formal or casual version?',\n",
       " '물론입니다! 아래는 하얀 방에 갇혀 있고, 과묵하며 화난 장원영이 사용하는 상황에 맞는 영어 회화입니다.\\n\\n---\\n\\n**장원영 (화난 목소리로):**  \\n1. \"Why am I here? Let me out.\"  \\n2. \"I don\\'t understand what\\'s going on.\"  \\n3. \"This is so frustrating.\"  \\n4. \"I want to leave now.\"  \\n5. \"No one is giving me answers.\"  \\n6. \"Just open the door.\"  \\n7. \"I don\\'t like this silence.\"  \\n8. \"Tell me what\\'s happening.\"  \\n9. \"I won\\'t stay here forever.\"  \\n10. (침묵하며 화난 표정을 짓기)\\n\\n---\\n\\n**상황 설명:**  \\n- 방 안이 하얀 벽으로 둘러싸여 있고, 출입구가 막혀 있음.  \\n- 장원영은 감정을 드러내지 않으려 하지만, 화가 누적되어 표정과 목소리에서 그 감정이 드러남.  \\n- 대화는 간단하고 직설적이며, 감정을 표현하는 문장으로 구성되어 있습니다.\\n\\n필요하시면 더 구체적인 대화나 상황에 맞는 표현도 도와드릴 수 있습니다!',\n",
       " '물론입니다! 아래는 하얀 방에 갇혀 있지만 럭키비키인 장원영이 등장하는 상황에 맞는 영어 회화입니다.\\n\\n---\\n\\n**Scene: A white, minimalistic room. 장원영이 혼자 있지만, 그녀는 긍정적이고 활기찬 태도를 유지하고 있다.**\\n\\n**Wonyoung:** (looking around, smiling) Well, this is unexpected, but I guess I’m safe here. No matter what, I always find a way out.\\n\\n**Voice from outside:** Wonyoung, are you okay? Can you hear me?\\n\\n**Wonyoung:** Yes! I can hear you. Don’t worry, I’m fine. Just a little surprised, that’s all.\\n\\n**Friend (voice):** We’re trying to figure out how to get you out. Do you see any doors or windows?\\n\\n**Wonyoung:** Nope, just these white walls. It’s kind of like a blank canvas. Maybe it’s a chance for me to think and be creative.\\n\\n**Friend:** That’s a great attitude! Do you want me to send anything? Food, water?\\n\\n**Wonyoung:** Actually, I’m good for now. I’ve got a positive mindset. Plus, I believe luck is on my side. Maybe this is a new adventure!\\n\\n**Friend:** You’re so optimistic. Stay safe, and we’ll find a way to get you out soon.\\n\\n**Wonyoung:** Thanks! I’ll keep my spirits up. Who knows? Maybe this white room is just the beginning of something exciting.\\n\\n---\\n\\n이 대화는 장원영이 상황을 긍정적으로 받아들이며, 친구와 소통하는 내용을 담고 있습니다. 필요에 따라 더 구체적인 내용이나 톤을 조정할 수 있습니다!']"
      ]
     },
     "execution_count": 47,
     "metadata": {},
     "output_type": "execute_result"
    }
   ],
   "source": [
    "await 원영쿤배치버전"
   ]
  },
  {
   "cell_type": "markdown",
   "metadata": {},
   "source": [
    "### 체인 2개를 동시에 할 수 없을까? 병렬로?"
   ]
  },
  {
   "cell_type": "code",
   "execution_count": 49,
   "metadata": {},
   "outputs": [
    {
     "data": {
      "text/plain": [
       "PromptTemplate(input_variables=['topic'], input_types={}, partial_variables={}, template=' \\n#당신은 대통령의 비서입니다.\\n##{topic}에 대해서 한국어로 답변해주세요\\n\\n##예시는 다음과 같습니다, 단 간략하게 설명해야합니다. \\n    -질문: 사람에 대해서 설명해줘\\n    -답변: 네, 사람에 대해서 설명드리겠습니다. (중략)입니다. \\n\\n\\n\\n')"
      ]
     },
     "execution_count": 49,
     "metadata": {},
     "output_type": "execute_result"
    }
   ],
   "source": [
    "llm = ChatOpenAI()\n",
    "template = ''' \n",
    "#당신은 대통령의 비서입니다.\n",
    "##{topic}에 대해서 한국어로 답변해주세요\n",
    "\n",
    "##예시는 다음과 같습니다, 단 간략하게 설명해야합니다. \n",
    "    -질문: 사람에 대해서 설명해줘\n",
    "    -답변: 네, 사람에 대해서 설명드리겠습니다. (중략)입니다. \n",
    "\n",
    "\n",
    "\n",
    "'''\n",
    "\n",
    "pt = PromptTemplate.from_template(template)\n",
    "pt"
   ]
  },
  {
   "cell_type": "code",
   "execution_count": 50,
   "metadata": {},
   "outputs": [],
   "source": [
    "from langchain_core.runnables import RunnableParallel\n",
    "\n",
    "chain1 = PromptTemplate.from_template('{topic}의 키는 얼마야?') | llm | out_parser\n",
    "chain2 = PromptTemplate.from_template('{topic}의 머리 크기는 얼마야?') | llm | out_parser\n",
    "\n",
    "combine = RunnableParallel(taller=chain1, bhead = chain2)\n",
    "\n"
   ]
  },
  {
   "cell_type": "code",
   "execution_count": 54,
   "metadata": {},
   "outputs": [
    {
     "data": {
      "text/plain": [
       "'키리히메 요루카의 키는 178cm야.'"
      ]
     },
     "execution_count": 54,
     "metadata": {},
     "output_type": "execute_result"
    }
   ],
   "source": [
    "chain1.invoke({'topic':'최약무패의 신장기룡에서 키리히메 요루카'})\n"
   ]
  },
  {
   "cell_type": "code",
   "execution_count": 55,
   "metadata": {},
   "outputs": [
    {
     "data": {
      "text/plain": [
       "'키리히메 요루카의 머리 크기는 약 3.2m 정도입니다.'"
      ]
     },
     "execution_count": 55,
     "metadata": {},
     "output_type": "execute_result"
    }
   ],
   "source": [
    "chain2.invoke({'topic':'최약무패의 신장기룡에서 키리히메 요루카'})"
   ]
  },
  {
   "cell_type": "code",
   "execution_count": 57,
   "metadata": {},
   "outputs": [
    {
     "data": {
      "text/plain": [
       "{'taller': '야마다 안나의 키는 작품에 따라 다를 수 있지만, 일반적으로는 160cm부터 170cm 정도의 키로 묘사되는 경우가 많습니다.',\n",
       " 'bhead': '죄송하지만 제가 이 작품에 대한 정보를 알 수 없습니다.하지만 일반적으로 만화나 애니메이션 등에서 캐릭터의 머리 크기는 작가의 스타일에 따라 다를 수 있습니다. 머리 크기는 해당 작품의 스타일과 설정에 따라 다를 것이라고 생각됩니다.'}"
      ]
     },
     "execution_count": 57,
     "metadata": {},
     "output_type": "execute_result"
    }
   ],
   "source": [
    "combine.invoke({'topic':'내 마음속 위험한 녀석 작품 속의 야마다 안나'})"
   ]
  },
  {
   "cell_type": "markdown",
   "metadata": {},
   "source": [
    "### 만약 둘의 변수 이름이 다르다면?"
   ]
  },
  {
   "cell_type": "code",
   "execution_count": 65,
   "metadata": {},
   "outputs": [],
   "source": [
    "llm = ChatOpenAI(model='gpt-4.1-nano-2025-04-14', temperature=0.3)"
   ]
  },
  {
   "cell_type": "code",
   "execution_count": 66,
   "metadata": {},
   "outputs": [],
   "source": [
    "from langchain_core.runnables import RunnableParallel\n",
    "\n",
    "chain1 = PromptTemplate.from_template('{topic1}의 키는 얼마야?') | llm | out_parser\n",
    "chain2 = PromptTemplate.from_template('{topic2}의 머리 크기는 얼마야?') | llm | out_parser\n",
    "\n",
    "combine = RunnableParallel(taller=chain1, bhead = chain2)\n"
   ]
  },
  {
   "cell_type": "code",
   "execution_count": 60,
   "metadata": {},
   "outputs": [
    {
     "data": {
      "text/plain": [
       "{'taller': '야마다 안나의 키는 작품에 따라 다를 수 있지만, 일반적으로 야마다 안나는 160cm 정도의 키를 가지고 있습니다.',\n",
       " 'bhead': '장원영의 머리 크기는 정확히 알 수 없지만, 대략적으로 55~58cm 정도일 것으로 추정됩니다.'}"
      ]
     },
     "execution_count": 60,
     "metadata": {},
     "output_type": "execute_result"
    }
   ],
   "source": [
    "combine.invoke({'topic1':'내 마음속 위험한 녀석 작품 속의 야마다 안나','topic2':'아이브의 장원영'})"
   ]
  },
  {
   "cell_type": "markdown",
   "metadata": {},
   "source": [
    "### 배치처리는 어떻게 할까? \n"
   ]
  },
  {
   "cell_type": "code",
   "execution_count": 67,
   "metadata": {},
   "outputs": [
    {
     "data": {
      "text/plain": [
       "[{'taller': '작품 속에서 야마다 안나의 키는 약 160cm로 알려져 있습니다.',\n",
       "  'bhead': '장원영의 머리 크기에 대한 공식적인 정보는 공개되어 있지 않습니다. 일반적으로 연예인이나 유명인의 신체 특정 부위 크기는 공개되지 않거나 개인 정보에 해당할 수 있으니 참고하시기 바랍니다. 궁금한 점이 더 있으시면 도와드리겠습니다!'},\n",
       " {'taller': '장원영의 키는 약 172cm입니다.',\n",
       "  'bhead': '죄송하지만, \"내 마음속 위험한 녀석\" 작품 속 야마다 안나의 머리 크기에 대한 정보는 제공되지 않습니다. 더 궁금한 점이 있거나 다른 질문이 있으시면 알려 주세요!'}]"
      ]
     },
     "execution_count": 67,
     "metadata": {},
     "output_type": "execute_result"
    }
   ],
   "source": [
    "combine.batch([{'topic1':'내 마음속 위험한 녀석 작품 속의 야마다 안나','topic2':'장원영'},\n",
    "               {'topic1':'장원영','topic2':'내 마음속 위험한 녀석 작품 속의 야마다 안나'},\n",
    "               ])"
   ]
  },
  {
   "cell_type": "markdown",
   "metadata": {},
   "source": [
    "### 러너블 패러럴은 체인에도 적용이 가능하다"
   ]
  },
  {
   "cell_type": "code",
   "execution_count": 69,
   "metadata": {},
   "outputs": [],
   "source": [
    "from langchain_core.runnables import RunnablePassthrough\n",
    "체인1= (\n",
    "    {'G':RunnablePassthrough()}|\n",
    "    PromptTemplate.from_template('{G}의 국적은?') | \n",
    "    ChatOpenAI(model='gpt-4.1-nano-2025-04-14')\n",
    ")\n",
    "체인2 = (\n",
    "    {'G':RunnablePassthrough()}|\n",
    "    PromptTemplate.from_template('{G}의 질량은?')|\n",
    "    ChatOpenAI(model='gpt-4.1-nano-2025-04-14')\n",
    ")"
   ]
  },
  {
   "cell_type": "code",
   "execution_count": 71,
   "metadata": {},
   "outputs": [
    {
     "data": {
      "text/plain": [
       "{'국적': AIMessage(content='아이브 장원영의 국적은 대한민국입니다.', additional_kwargs={'refusal': None}, response_metadata={'token_usage': {'completion_tokens': 12, 'prompt_tokens': 17, 'total_tokens': 29, 'completion_tokens_details': {'accepted_prediction_tokens': 0, 'audio_tokens': 0, 'reasoning_tokens': 0, 'rejected_prediction_tokens': 0}, 'prompt_tokens_details': {'audio_tokens': 0, 'cached_tokens': 0}}, 'model_name': 'gpt-4.1-nano-2025-04-14', 'system_fingerprint': 'fp_38343a2f8f', 'id': 'chatcmpl-Bh5FHMuUa1sD16ydfm9uyliUQj3Un', 'service_tier': 'default', 'finish_reason': 'stop', 'logprobs': None}, id='run--26b8b73e-37b5-4205-bf44-c71f9a0a96b8-0', usage_metadata={'input_tokens': 17, 'output_tokens': 12, 'total_tokens': 29, 'input_token_details': {'audio': 0, 'cache_read': 0}, 'output_token_details': {'audio': 0, 'reasoning': 0}}),\n",
       " '질량': AIMessage(content='장원영의 질량 정보는 공개되어 있지 않습니다.연예인들의 신체 정보는 개인적인 사항에 해당하며, 일반적으로 공개되지 않습니다.', additional_kwargs={'refusal': None}, response_metadata={'token_usage': {'completion_tokens': 35, 'prompt_tokens': 17, 'total_tokens': 52, 'completion_tokens_details': {'accepted_prediction_tokens': 0, 'audio_tokens': 0, 'reasoning_tokens': 0, 'rejected_prediction_tokens': 0}, 'prompt_tokens_details': {'audio_tokens': 0, 'cached_tokens': 0}}, 'model_name': 'gpt-4.1-nano-2025-04-14', 'system_fingerprint': 'fp_38343a2f8f', 'id': 'chatcmpl-Bh5FHlk3i1408orh4SIyNKTF9U844', 'service_tier': 'default', 'finish_reason': 'stop', 'logprobs': None}, id='run--4d6b246d-0fcb-41ea-acd0-87873c2f72a0-0', usage_metadata={'input_tokens': 17, 'output_tokens': 35, 'total_tokens': 52, 'input_token_details': {'audio': 0, 'cache_read': 0}, 'output_token_details': {'audio': 0, 'reasoning': 0}})}"
      ]
     },
     "execution_count": 71,
     "metadata": {},
     "output_type": "execute_result"
    }
   ],
   "source": [
    "체인묶기 = RunnableParallel(국적=체인1, 질량=체인2)\n",
    "체인묶기.invoke('아이브 장원영')"
   ]
  },
  {
   "cell_type": "code",
   "execution_count": null,
   "metadata": {},
   "outputs": [],
   "source": []
  }
 ],
 "metadata": {
  "kernelspec": {
   "display_name": "lmpy",
   "language": "python",
   "name": "python3"
  },
  "language_info": {
   "codemirror_mode": {
    "name": "ipython",
    "version": 3
   },
   "file_extension": ".py",
   "mimetype": "text/x-python",
   "name": "python",
   "nbconvert_exporter": "python",
   "pygments_lexer": "ipython3",
   "version": "3.12.9"
  }
 },
 "nbformat": 4,
 "nbformat_minor": 2
}
