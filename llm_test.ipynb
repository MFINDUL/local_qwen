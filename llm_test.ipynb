{
 "cells": [
  {
   "cell_type": "code",
   "execution_count": 3,
   "metadata": {},
   "outputs": [
    {
     "data": {
      "text/plain": [
       "True"
      ]
     },
     "execution_count": 3,
     "metadata": {},
     "output_type": "execute_result"
    }
   ],
   "source": [
    "from dotenv import load_dotenv\n",
    "load_dotenv()\n",
    "# api key들 설정 미리 해줌 \n"
   ]
  },
  {
   "cell_type": "code",
   "execution_count": 4,
   "metadata": {},
   "outputs": [
    {
     "name": "stdout",
     "output_type": "stream",
     "text": [
      "content='대한민국의 수도는 서울입니다.' additional_kwargs={'refusal': None} response_metadata={'token_usage': {'completion_tokens': 8, 'prompt_tokens': 13, 'total_tokens': 21, 'completion_tokens_details': {'accepted_prediction_tokens': 0, 'audio_tokens': 0, 'reasoning_tokens': 0, 'rejected_prediction_tokens': 0}, 'prompt_tokens_details': {'audio_tokens': 0, 'cached_tokens': 0}}, 'model_name': 'gpt-4.1-nano-2025-04-14', 'system_fingerprint': 'fp_38343a2f8f', 'id': 'chatcmpl-BgkbIUvBzsTIXva016iDKduWtqjO7', 'service_tier': 'default', 'finish_reason': 'stop', 'logprobs': None} id='run--7e2859a5-7e65-492a-ab6c-4a2a4b7bfa94-0' usage_metadata={'input_tokens': 13, 'output_tokens': 8, 'total_tokens': 21, 'input_token_details': {'audio': 0, 'cache_read': 0}, 'output_token_details': {'audio': 0, 'reasoning': 0}}\n"
     ]
    }
   ],
   "source": [
    "from langchain_openai import ChatOpenAI\n",
    "\n",
    "llm = ChatOpenAI(\n",
    "    temperature= 0.2,\n",
    "    model= 'gpt-4.1-nano-2025-04-14',\n",
    ")\n",
    "\n",
    "question = '대한민국의 수도는?'\n",
    "\n",
    "print(llm.invoke(question))\n"
   ]
  },
  {
   "cell_type": "code",
   "execution_count": 9,
   "metadata": {},
   "outputs": [
    {
     "name": "stdout",
     "output_type": "stream",
     "text": [
      "대한민국의 수도는 서울입니다."
     ]
    }
   ],
   "source": [
    "fa = ''\n",
    "answer = llm.stream(question)\n",
    "for i in answer:\n",
    "    print(i.content, end='' , flush=True)\n",
    "    fa += i.content\n"
   ]
  },
  {
   "cell_type": "code",
   "execution_count": 10,
   "metadata": {},
   "outputs": [],
   "source": [
    "from langchain_core.prompts import PromptTemplate\n"
   ]
  },
  {
   "cell_type": "code",
   "execution_count": 11,
   "metadata": {},
   "outputs": [
    {
     "data": {
      "text/plain": [
       "PromptTemplate(input_variables=['legion'], input_types={}, partial_variables={}, template='{legion}은 어디인가요?')"
      ]
     },
     "execution_count": 11,
     "metadata": {},
     "output_type": "execute_result"
    }
   ],
   "source": [
    "template = '{legion}은 어디인가요?'\n",
    "# 템플릿만들어놓고 특정 변수만 바꾸려는 목적\n",
    "# 모든 것을 작성해놓을 필요는 없으니까! \n",
    "pt = PromptTemplate.from_template(template)\n",
    "pt"
   ]
  },
  {
   "cell_type": "code",
   "execution_count": 16,
   "metadata": {},
   "outputs": [
    {
     "data": {
      "text/plain": [
       "PromptTemplate(input_variables=['legion'], input_types={}, partial_variables={}, template='{legion}은 어디인가요?')\n",
       "| ChatOpenAI(client=<openai.resources.chat.completions.completions.Completions object at 0x000001DCF8F6BAA0>, async_client=<openai.resources.chat.completions.completions.AsyncCompletions object at 0x000001DCF8F6BE30>, root_client=<openai.OpenAI object at 0x000001DCF8D83C20>, root_async_client=<openai.AsyncOpenAI object at 0x000001DCF9767590>, model_name='gpt-4.1-nano-2025-04-14', temperature=0.2, model_kwargs={}, openai_api_key=SecretStr('**********'))"
      ]
     },
     "execution_count": 16,
     "metadata": {},
     "output_type": "execute_result"
    }
   ],
   "source": [
    "chain = pt | llm\n",
    "chain"
   ]
  },
  {
   "cell_type": "code",
   "execution_count": 17,
   "metadata": {},
   "outputs": [],
   "source": [
    "input = {'legion': '부산'}"
   ]
  },
  {
   "cell_type": "code",
   "execution_count": 18,
   "metadata": {},
   "outputs": [
    {
     "data": {
      "text/plain": [
       "AIMessage(content='부산은 대한민국의 남동쪽 해안에 위치한 도시로, 대한민국 제2의 도시이자 대표적인 항구 도시입니다. 부산은 동해와 남해를 접하고 있으며, 아름다운 해변과 풍부한 해산물, 다양한 관광지로 유명합니다. 부산은 부산광역시라는 광역자치단체로 행정구역이 구성되어 있으며, 부산항은 세계적인 항만으로도 알려져 있습니다.', additional_kwargs={'refusal': None}, response_metadata={'token_usage': {'completion_tokens': 97, 'prompt_tokens': 14, 'total_tokens': 111, 'completion_tokens_details': {'accepted_prediction_tokens': 0, 'audio_tokens': 0, 'reasoning_tokens': 0, 'rejected_prediction_tokens': 0}, 'prompt_tokens_details': {'audio_tokens': 0, 'cached_tokens': 0}}, 'model_name': 'gpt-4.1-nano-2025-04-14', 'system_fingerprint': 'fp_f12167b370', 'id': 'chatcmpl-BglWzTUTirnnjv8rgCMysXvDqWVVs', 'service_tier': 'default', 'finish_reason': 'stop', 'logprobs': None}, id='run--537d6920-82fb-439e-b501-770f279d0c39-0', usage_metadata={'input_tokens': 14, 'output_tokens': 97, 'total_tokens': 111, 'input_token_details': {'audio': 0, 'cache_read': 0}, 'output_token_details': {'audio': 0, 'reasoning': 0}})"
      ]
     },
     "execution_count": 18,
     "metadata": {},
     "output_type": "execute_result"
    }
   ],
   "source": [
    "chain.invoke(input)\n",
    "# 인보크는 답변이 모두 생성되면 전달해줌\n"
   ]
  },
  {
   "cell_type": "code",
   "execution_count": 19,
   "metadata": {},
   "outputs": [],
   "source": [
    "answer = chain.invoke('준성')"
   ]
  },
  {
   "cell_type": "markdown",
   "metadata": {},
   "source": [
    "### 받아와서 보면 aimessage라는 객체 안에 담겨있음 이중 content만 가져올 수도 있고 다른 것도 가져올 수 있는 것  "
   ]
  },
  {
   "cell_type": "code",
   "execution_count": 20,
   "metadata": {},
   "outputs": [
    {
     "data": {
      "text/plain": [
       "AIMessage(content='준성이라는 이름은 여러 장소나 인물에 사용될 수 있어 구체적인 정보를 알려주시면 더 정확한 답변을 드릴 수 있습니다. 혹시 특정 지역이나 인물에 대해 묻고 계신 건가요? 추가 정보를 알려주시면 도움을 드리겠습니다.', additional_kwargs={'refusal': None}, response_metadata={'token_usage': {'completion_tokens': 62, 'prompt_tokens': 14, 'total_tokens': 76, 'completion_tokens_details': {'accepted_prediction_tokens': 0, 'audio_tokens': 0, 'reasoning_tokens': 0, 'rejected_prediction_tokens': 0}, 'prompt_tokens_details': {'audio_tokens': 0, 'cached_tokens': 0}}, 'model_name': 'gpt-4.1-nano-2025-04-14', 'system_fingerprint': 'fp_38343a2f8f', 'id': 'chatcmpl-BglbPoCHLlT7KCaTtgH8MnahYx4Nl', 'service_tier': 'default', 'finish_reason': 'stop', 'logprobs': None}, id='run--973d2471-0b92-47c9-ba7d-f28a1116a7c5-0', usage_metadata={'input_tokens': 14, 'output_tokens': 62, 'total_tokens': 76, 'input_token_details': {'audio': 0, 'cache_read': 0}, 'output_token_details': {'audio': 0, 'reasoning': 0}})"
      ]
     },
     "execution_count": 20,
     "metadata": {},
     "output_type": "execute_result"
    }
   ],
   "source": [
    "answer"
   ]
  },
  {
   "cell_type": "markdown",
   "metadata": {},
   "source": [
    "### 답변만 필요한 경우에는 outputparser를 넣어주면 체인에, 그렇다면 이제 문자열로만 나옴 "
   ]
  },
  {
   "cell_type": "code",
   "execution_count": 21,
   "metadata": {},
   "outputs": [],
   "source": [
    "from langchain_core.output_parsers import StrOutputParser\n",
    "\n",
    "out_parser = StrOutputParser()\n"
   ]
  },
  {
   "cell_type": "code",
   "execution_count": 22,
   "metadata": {},
   "outputs": [],
   "source": [
    "chain = pt | llm | out_parser"
   ]
  },
  {
   "cell_type": "code",
   "execution_count": 23,
   "metadata": {},
   "outputs": [
    {
     "data": {
      "text/plain": [
       "'부산은 대한민국의 남동쪽 해안에 위치한 도시로, 대한민국 제2의 도시이자 주요 항구 도시입니다. 부산은 동해와 남해를 접하고 있으며, 아름다운 해변과 풍부한 해산물, 다양한 관광지로 유명합니다. 부산은 경제, 문화, 교통의 중심지로서 부산항, 해운대, 광안리 해수욕장, 감천문화마을 등 많은 명소가 있습니다.'"
      ]
     },
     "execution_count": 23,
     "metadata": {},
     "output_type": "execute_result"
    }
   ],
   "source": [
    "answer = chain.invoke(input)\n",
    "answer "
   ]
  },
  {
   "cell_type": "markdown",
   "metadata": {},
   "source": [
    "### 주의할 점! input variables에 있는 것만 변수로 채우는 것, []이거 변수가 아님 {}이놈이 변수임 마크다운 문법으로 작성하면 당연히 더 잘이해할 수 있다!"
   ]
  },
  {
   "cell_type": "code",
   "execution_count": 32,
   "metadata": {},
   "outputs": [
    {
     "data": {
      "text/plain": [
       "PromptTemplate(input_variables=['question'], input_types={}, partial_variables={}, template=' 당신은 유능한 일본어 선생님입니다. \\n상황에 [example]맞게 일본어 회화를 작성해주세요 \\n\\n#상황:\\n{question}\\n\\n#example:\\n- 일본어 선생님:\\n- 한국어 해석:\\n- 상황 속 다른 인물:\\n- 한국어 해석:\\netc\\n\\n')"
      ]
     },
     "execution_count": 32,
     "metadata": {},
     "output_type": "execute_result"
    }
   ],
   "source": [
    "template = ''' 당신은 유능한 일본어 선생님입니다. \n",
    "상황에 [example]맞게 일본어 회화를 작성해주세요 \n",
    "\n",
    "#상황:\n",
    "{question}\n",
    "\n",
    "#example:\n",
    "- 일본어 선생님:\n",
    "- 한국어 해석:\n",
    "- 상황 속 다른 인물:\n",
    "- 한국어 해석:\n",
    "etc\n",
    "\n",
    "'''\n",
    "\n",
    "pt = PromptTemplate.from_template(template)\n",
    "pt"
   ]
  },
  {
   "cell_type": "markdown",
   "metadata": {},
   "source": [
    "### 페르소나를 주는 것에 궁금증이 많았는데 간단하게 설명하면 이러한 데이터셋을 끄집어 내기 위한 목적임 결국엔 다음 단어의 확률을 출력함을 잊지말자, 전달할 때 딕셔너리형태인것도 까먹지말고"
   ]
  },
  {
   "cell_type": "code",
   "execution_count": 33,
   "metadata": {},
   "outputs": [],
   "source": [
    "chain = pt | llm | out_parser\n",
    "\n",
    "asnwer = chain.invoke({'question':'발렌타인 데이에 선물을 준 수학선생님에게 고맙다고 할 때 센스있게 말하는 일본어 선생님'})\n"
   ]
  },
  {
   "cell_type": "code",
   "execution_count": 34,
   "metadata": {},
   "outputs": [
    {
     "data": {
      "text/plain": [
       "'- 일본어 선생님:  \\n「先生、いつも丁寧に教えてくださってありがとうございます。バレンタインのプレゼント、とても嬉しかったです。」  \\n\\n- 한국어 해석:  \\n\"선생님, 언제나 친절하게 가르쳐 주셔서 감사합니다. 발렌타인 선물 정말 기뻤어요.\"  \\n\\n- 상황 속 다른 인물:  \\n수학 선생님:  \\n「こちらこそ、喜んでもらえて良かったです。これからも一緒に頑張りましょうね。」  \\n\\n- 한국어 해석:  \\n\"저도 기뻐해 주셔서 다행입니다. 앞으로도 함께 힘내요.\"'"
      ]
     },
     "execution_count": 34,
     "metadata": {},
     "output_type": "execute_result"
    }
   ],
   "source": [
    "asnwer"
   ]
  },
  {
   "cell_type": "code",
   "execution_count": 35,
   "metadata": {},
   "outputs": [
    {
     "data": {
      "text/plain": [
       "PromptTemplate(input_variables=['question'], input_types={}, partial_variables={}, template='당신은 유능한 영어 선생님입니다. \\n상황에 맞는 회화를 작성해주세요 \\n\\n#상황:\\n{question}\\n\\n')"
      ]
     },
     "execution_count": 35,
     "metadata": {},
     "output_type": "execute_result"
    }
   ],
   "source": [
    "template = '''당신은 유능한 영어 선생님입니다. \n",
    "상황에 맞는 회화를 작성해주세요 \n",
    "\n",
    "#상황:\n",
    "{question}\n",
    " \n",
    "'''\n",
    "\n",
    "pt = PromptTemplate.from_template(template)\n",
    "pt"
   ]
  },
  {
   "cell_type": "code",
   "execution_count": 36,
   "metadata": {},
   "outputs": [
    {
     "data": {
      "text/plain": [
       "'물론이죠! 아래는 오늘 뭐 먹을지 고민하는 세 명의 개발자들 간의 자연스러운 영어 회화입니다.\\n\\n---\\n\\n**Alex:** Hey guys, what should we eat today? I’m starving.\\n\\n**Jamie:** Yeah, same here. I’m in the mood for something quick. Maybe pizza?\\n\\n**Taylor:** Pizza sounds good, but I was thinking maybe sushi? I’ve been craving it all week.\\n\\n**Alex:** Sushi is nice, but it might take longer to get. How about we go for burgers? Fast and satisfying.\\n\\n**Jamie:** Hmm, burgers are always a good choice. But what about trying that new Korean fried chicken place nearby?\\n\\n**Taylor:** Oh, I’ve heard their chicken is amazing. Let’s do that! Korean fried chicken it is.\\n\\n**Alex:** Sounds perfect. Korean fried chicken it is. Let’s order now before we get back to coding.\\n\\n**Jamie:** Agreed. I’ll place the order. This is going to be a great break!\\n\\n**Taylor:** Definitely. Nothing beats good food and a break from debugging.\\n\\n---\\n\\n필요하시면 더 다양한 대화도 만들어 드릴 수 있어요!'"
      ]
     },
     "execution_count": 36,
     "metadata": {},
     "output_type": "execute_result"
    }
   ],
   "source": [
    "chain = pt | llm | out_parser\n",
    "dap = chain.invoke({'question':'오늘 밥 뭐 먹을지 고민하는 3명의 개발자들'})\n",
    "\n",
    "dap"
   ]
  },
  {
   "cell_type": "code",
   "execution_count": 37,
   "metadata": {},
   "outputs": [
    {
     "name": "stdout",
     "output_type": "stream",
     "text": [
      "물론이죠! 아래는 오늘 뭐 먹을지 고민하는 세 명의 개발자들 간의 자연스러운 영어 회화입니다.\n",
      "\n",
      "---\n",
      "\n",
      "**Alex:** Hey guys, what should we eat today? I’m starving.\n",
      "\n",
      "**Jamie:** Yeah, same here. I’m in the mood for something quick. Maybe pizza?\n",
      "\n",
      "**Taylor:** Pizza sounds good, but I was thinking maybe sushi? It’s been a while since I had some.\n",
      "\n",
      "**Alex:** Hmm, both are great options. But do we want something heavy like pizza or something lighter like sushi?\n",
      "\n",
      "**Jamie:** Good point. I’d prefer something lighter. Sushi it is?\n",
      "\n",
      "**Taylor:** Sure, I’m in. Let’s find a good sushi place nearby.\n",
      "\n",
      "**Alex:** Great! I’ll look up some options. By the way, do you guys want to order in or go out?\n",
      "\n",
      "**Jamie:** Let’s go out. I need a break from my desk.\n",
      "\n",
      "**Taylor:** Agreed. Plus, it’s nice to get some fresh air.\n",
      "\n",
      "**Alex:** Perfect! I’ll check the reviews and we can decide where to go.\n",
      "\n",
      "---\n",
      "\n",
      "이 회화는 자연스럽고 친근한 분위기를 담고 있으며, 세 명의 개발자가 점심 메뉴를 고민하는 상황에 적합합니다."
     ]
    }
   ],
   "source": [
    "dap = chain.stream({'question':'오늘 밥 뭐 먹을지 고민하는 3명의 개발자들'})\n",
    "\n",
    "for token in dap :\n",
    "    print(token , end='' , flush=True)\n",
    "    \n"
   ]
  },
  {
   "cell_type": "markdown",
   "metadata": {},
   "source": []
  },
  {
   "cell_type": "code",
   "execution_count": null,
   "metadata": {},
   "outputs": [],
   "source": []
  }
 ],
 "metadata": {
  "kernelspec": {
   "display_name": "lmpy",
   "language": "python",
   "name": "python3"
  },
  "language_info": {
   "codemirror_mode": {
    "name": "ipython",
    "version": 3
   },
   "file_extension": ".py",
   "mimetype": "text/x-python",
   "name": "python",
   "nbconvert_exporter": "python",
   "pygments_lexer": "ipython3",
   "version": "3.12.9"
  }
 },
 "nbformat": 4,
 "nbformat_minor": 2
}
